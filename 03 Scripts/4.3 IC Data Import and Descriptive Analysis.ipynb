{
 "cells": [
  {
   "cell_type": "code",
   "execution_count": 3,
   "id": "aaa6a8e2",
   "metadata": {
    "pycharm": {
     "name": "#%%\n"
    }
   },
   "outputs": [],
   "source": [
    "#Import libraries\n",
    "import pandas as pd\n",
    "import numpy as np\n",
    "import os"
   ]
  },
  {
   "cell_type": "markdown",
   "id": "ed62de31",
   "metadata": {
    "pycharm": {
     "name": "#%% md\n"
    }
   },
   "source": [
    "Dataframes"
   ]
  },
  {
   "cell_type": "code",
   "execution_count": 4,
   "id": "95411b1e",
   "metadata": {
    "pycharm": {
     "name": "#%%\n"
    }
   },
   "outputs": [],
   "source": [
    "path = r'..\\02 Data\\Original Data'"
   ]
  },
  {
   "cell_type": "code",
   "execution_count": 5,
   "id": "88c9b09b",
   "metadata": {
    "pycharm": {
     "name": "#%%\n"
    }
   },
   "outputs": [],
   "source": [
    "vars_list = ['order_id', 'user_id', 'order_number', 'order_dow', 'order_hour_of_day', 'days_since_prior_order']"
   ]
  },
  {
   "cell_type": "code",
   "execution_count": 6,
   "id": "7261e9d6",
   "metadata": {
    "pycharm": {
     "name": "#%%\n"
    }
   },
   "outputs": [],
   "source": [
    "#Import Orders"
   ]
  },
  {
   "cell_type": "code",
   "execution_count": 7,
   "id": "138995a9",
   "metadata": {
    "pycharm": {
     "name": "#%%\n"
    }
   },
   "outputs": [],
   "source": [
    "df = pd.read_csv(os.path.join(path, 'orders.csv'), usecols = vars_list)"
   ]
  },
  {
   "cell_type": "code",
   "execution_count": 8,
   "outputs": [
    {
     "name": "stdout",
     "output_type": "stream",
     "text": [
      "<class 'pandas.core.frame.DataFrame'>\n",
      "RangeIndex: 3421083 entries, 0 to 3421082\n",
      "Data columns (total 6 columns):\n",
      " #   Column                  Dtype  \n",
      "---  ------                  -----  \n",
      " 0   order_id                int64  \n",
      " 1   user_id                 int64  \n",
      " 2   order_number            int64  \n",
      " 3   order_dow               int64  \n",
      " 4   order_hour_of_day       int64  \n",
      " 5   days_since_prior_order  float64\n",
      "dtypes: float64(1), int64(5)\n",
      "memory usage: 156.6 MB\n"
     ]
    }
   ],
   "source": [
    "df.info()"
   ],
   "metadata": {
    "collapsed": false,
    "pycharm": {
     "name": "#%%\n"
    }
   }
  },
  {
   "cell_type": "code",
   "execution_count": 9,
   "id": "affc4e3d",
   "metadata": {
    "pycharm": {
     "name": "#%%\n"
    }
   },
   "outputs": [
    {
     "data": {
      "text/plain": "   order_id  user_id  order_number  order_dow  order_hour_of_day  \\\n0   2539329        1             1          2                  8   \n1   2398795        1             2          3                  7   \n2    473747        1             3          3                 12   \n3   2254736        1             4          4                  7   \n4    431534        1             5          4                 15   \n\n   days_since_prior_order  \n0                     NaN  \n1                    15.0  \n2                    21.0  \n3                    29.0  \n4                    28.0  ",
      "text/html": "<div>\n<style scoped>\n    .dataframe tbody tr th:only-of-type {\n        vertical-align: middle;\n    }\n\n    .dataframe tbody tr th {\n        vertical-align: top;\n    }\n\n    .dataframe thead th {\n        text-align: right;\n    }\n</style>\n<table border=\"1\" class=\"dataframe\">\n  <thead>\n    <tr style=\"text-align: right;\">\n      <th></th>\n      <th>order_id</th>\n      <th>user_id</th>\n      <th>order_number</th>\n      <th>order_dow</th>\n      <th>order_hour_of_day</th>\n      <th>days_since_prior_order</th>\n    </tr>\n  </thead>\n  <tbody>\n    <tr>\n      <th>0</th>\n      <td>2539329</td>\n      <td>1</td>\n      <td>1</td>\n      <td>2</td>\n      <td>8</td>\n      <td>NaN</td>\n    </tr>\n    <tr>\n      <th>1</th>\n      <td>2398795</td>\n      <td>1</td>\n      <td>2</td>\n      <td>3</td>\n      <td>7</td>\n      <td>15.0</td>\n    </tr>\n    <tr>\n      <th>2</th>\n      <td>473747</td>\n      <td>1</td>\n      <td>3</td>\n      <td>3</td>\n      <td>12</td>\n      <td>21.0</td>\n    </tr>\n    <tr>\n      <th>3</th>\n      <td>2254736</td>\n      <td>1</td>\n      <td>4</td>\n      <td>4</td>\n      <td>7</td>\n      <td>29.0</td>\n    </tr>\n    <tr>\n      <th>4</th>\n      <td>431534</td>\n      <td>1</td>\n      <td>5</td>\n      <td>4</td>\n      <td>15</td>\n      <td>28.0</td>\n    </tr>\n  </tbody>\n</table>\n</div>"
     },
     "execution_count": 9,
     "metadata": {},
     "output_type": "execute_result"
    }
   ],
   "source": [
    "df.head()"
   ]
  },
  {
   "cell_type": "code",
   "execution_count": 10,
   "id": "a8770fec",
   "metadata": {
    "pycharm": {
     "name": "#%%\n"
    }
   },
   "outputs": [],
   "source": [
    "#Import Products"
   ]
  },
  {
   "cell_type": "code",
   "execution_count": 11,
   "id": "4dc407b6",
   "metadata": {
    "pycharm": {
     "name": "#%%\n"
    }
   },
   "outputs": [],
   "source": [
    "df_prods = pd.read_csv(os.path.join(path, 'products.csv'))"
   ]
  },
  {
   "cell_type": "code",
   "execution_count": 12,
   "id": "60e790c7",
   "metadata": {
    "pycharm": {
     "name": "#%%\n"
    }
   },
   "outputs": [],
   "source": [
    "#Answer Questions"
   ]
  },
  {
   "cell_type": "code",
   "execution_count": 13,
   "id": "0b8de300",
   "metadata": {
    "pycharm": {
     "name": "#%%\n"
    }
   },
   "outputs": [
    {
     "data": {
      "text/plain": "    product_id                                       product_name  aisle_id  \\\n0            1                         Chocolate Sandwich Cookies        61   \n1            2                                   All-Seasons Salt       104   \n2            3               Robust Golden Unsweetened Oolong Tea        94   \n3            4  Smart Ones Classic Favorites Mini Rigatoni Wit...        38   \n4            5                          Green Chile Anytime Sauce         5   \n5            6                                       Dry Nose Oil        11   \n6            7                     Pure Coconut Water With Orange        98   \n7            8                  Cut Russet Potatoes Steam N' Mash       116   \n8            9                  Light Strawberry Blueberry Yogurt       120   \n9           10     Sparkling Orange Juice & Prickly Pear Beverage       115   \n10          11                                  Peach Mango Juice        31   \n11          12                         Chocolate Fudge Layer Cake       119   \n12          13                                  Saline Nasal Mist        11   \n13          14                     Fresh Scent Dishwasher Cleaner        74   \n14          15                           Overnight Diapers Size 6        56   \n15          16                      Mint Chocolate Flavored Syrup       103   \n16          17                                  Rendered Duck Fat        35   \n17          18                Pizza for One Suprema  Frozen Pizza        79   \n18          19   Gluten Free Quinoa Three Cheese & Mushroom Blend        63   \n19          20     Pomegranate Cranberry & Aloe Vera Enrich Drink        98   \n\n    department_id  prices  \n0              19     5.8  \n1              13     9.3  \n2               7     4.5  \n3               1    10.5  \n4              13     4.3  \n5              11     2.6  \n6               7     4.4  \n7               1     1.1  \n8              16     7.0  \n9               7     8.4  \n10              7     2.8  \n11              1     9.4  \n12             11     1.1  \n13             17     6.5  \n14             18    11.2  \n15             19     5.2  \n16             12    17.1  \n17              1    10.6  \n18              9    12.0  \n19              7     6.0  ",
      "text/html": "<div>\n<style scoped>\n    .dataframe tbody tr th:only-of-type {\n        vertical-align: middle;\n    }\n\n    .dataframe tbody tr th {\n        vertical-align: top;\n    }\n\n    .dataframe thead th {\n        text-align: right;\n    }\n</style>\n<table border=\"1\" class=\"dataframe\">\n  <thead>\n    <tr style=\"text-align: right;\">\n      <th></th>\n      <th>product_id</th>\n      <th>product_name</th>\n      <th>aisle_id</th>\n      <th>department_id</th>\n      <th>prices</th>\n    </tr>\n  </thead>\n  <tbody>\n    <tr>\n      <th>0</th>\n      <td>1</td>\n      <td>Chocolate Sandwich Cookies</td>\n      <td>61</td>\n      <td>19</td>\n      <td>5.8</td>\n    </tr>\n    <tr>\n      <th>1</th>\n      <td>2</td>\n      <td>All-Seasons Salt</td>\n      <td>104</td>\n      <td>13</td>\n      <td>9.3</td>\n    </tr>\n    <tr>\n      <th>2</th>\n      <td>3</td>\n      <td>Robust Golden Unsweetened Oolong Tea</td>\n      <td>94</td>\n      <td>7</td>\n      <td>4.5</td>\n    </tr>\n    <tr>\n      <th>3</th>\n      <td>4</td>\n      <td>Smart Ones Classic Favorites Mini Rigatoni Wit...</td>\n      <td>38</td>\n      <td>1</td>\n      <td>10.5</td>\n    </tr>\n    <tr>\n      <th>4</th>\n      <td>5</td>\n      <td>Green Chile Anytime Sauce</td>\n      <td>5</td>\n      <td>13</td>\n      <td>4.3</td>\n    </tr>\n    <tr>\n      <th>5</th>\n      <td>6</td>\n      <td>Dry Nose Oil</td>\n      <td>11</td>\n      <td>11</td>\n      <td>2.6</td>\n    </tr>\n    <tr>\n      <th>6</th>\n      <td>7</td>\n      <td>Pure Coconut Water With Orange</td>\n      <td>98</td>\n      <td>7</td>\n      <td>4.4</td>\n    </tr>\n    <tr>\n      <th>7</th>\n      <td>8</td>\n      <td>Cut Russet Potatoes Steam N' Mash</td>\n      <td>116</td>\n      <td>1</td>\n      <td>1.1</td>\n    </tr>\n    <tr>\n      <th>8</th>\n      <td>9</td>\n      <td>Light Strawberry Blueberry Yogurt</td>\n      <td>120</td>\n      <td>16</td>\n      <td>7.0</td>\n    </tr>\n    <tr>\n      <th>9</th>\n      <td>10</td>\n      <td>Sparkling Orange Juice &amp; Prickly Pear Beverage</td>\n      <td>115</td>\n      <td>7</td>\n      <td>8.4</td>\n    </tr>\n    <tr>\n      <th>10</th>\n      <td>11</td>\n      <td>Peach Mango Juice</td>\n      <td>31</td>\n      <td>7</td>\n      <td>2.8</td>\n    </tr>\n    <tr>\n      <th>11</th>\n      <td>12</td>\n      <td>Chocolate Fudge Layer Cake</td>\n      <td>119</td>\n      <td>1</td>\n      <td>9.4</td>\n    </tr>\n    <tr>\n      <th>12</th>\n      <td>13</td>\n      <td>Saline Nasal Mist</td>\n      <td>11</td>\n      <td>11</td>\n      <td>1.1</td>\n    </tr>\n    <tr>\n      <th>13</th>\n      <td>14</td>\n      <td>Fresh Scent Dishwasher Cleaner</td>\n      <td>74</td>\n      <td>17</td>\n      <td>6.5</td>\n    </tr>\n    <tr>\n      <th>14</th>\n      <td>15</td>\n      <td>Overnight Diapers Size 6</td>\n      <td>56</td>\n      <td>18</td>\n      <td>11.2</td>\n    </tr>\n    <tr>\n      <th>15</th>\n      <td>16</td>\n      <td>Mint Chocolate Flavored Syrup</td>\n      <td>103</td>\n      <td>19</td>\n      <td>5.2</td>\n    </tr>\n    <tr>\n      <th>16</th>\n      <td>17</td>\n      <td>Rendered Duck Fat</td>\n      <td>35</td>\n      <td>12</td>\n      <td>17.1</td>\n    </tr>\n    <tr>\n      <th>17</th>\n      <td>18</td>\n      <td>Pizza for One Suprema  Frozen Pizza</td>\n      <td>79</td>\n      <td>1</td>\n      <td>10.6</td>\n    </tr>\n    <tr>\n      <th>18</th>\n      <td>19</td>\n      <td>Gluten Free Quinoa Three Cheese &amp; Mushroom Blend</td>\n      <td>63</td>\n      <td>9</td>\n      <td>12.0</td>\n    </tr>\n    <tr>\n      <th>19</th>\n      <td>20</td>\n      <td>Pomegranate Cranberry &amp; Aloe Vera Enrich Drink</td>\n      <td>98</td>\n      <td>7</td>\n      <td>6.0</td>\n    </tr>\n  </tbody>\n</table>\n</div>"
     },
     "execution_count": 13,
     "metadata": {},
     "output_type": "execute_result"
    }
   ],
   "source": [
    "df_prods.head(20)"
   ]
  },
  {
   "cell_type": "code",
   "execution_count": 14,
   "id": "c7853075",
   "metadata": {
    "pycharm": {
     "name": "#%%\n"
    }
   },
   "outputs": [
    {
     "data": {
      "text/plain": "       product_id                                       product_name  \\\n49658       49654                   Teriyaki Sauce, Sesame, Original   \n49659       49655                                        Apple Cider   \n49660       49656                         Masada Kosher Pocket Bread   \n49661       49657                                  Cabernet Tomatoes   \n49662       49658                         Brie with Herbs Foil Wedge   \n49663       49659                            Organic Creamed Coconut   \n49664       49660                        Professionals Sleek Shampoo   \n49665       49661                                              Porto   \n49666       49662                       Bacon Cheddar Pretzel Pieces   \n49667       49663  Ultra Protein Power Crunch Peanut Butter N' Ho...   \n49668       49664                     Lemon Cayenne Drinking Vinegar   \n49669       49665      Super Dark Coconut Ash & Banana Chocolate Bar   \n49670       49666                      Ginger Snaps Snacking Cookies   \n49671       49667           Enchilada with Spanish Rice & Beans Meal   \n49672       49668                     Apple Cinnamon Scented Candles   \n49673       49669                                   K Cup Dark Blend   \n49674       49670                                Beef Summer Sausage   \n49675       49671                               Milk Chocolate Drops   \n49676       49672                             Cafe Mocha K-Cup Packs   \n49677       49673              Stone Baked Multi Grain Artisan Rolls   \n49678       49674            Frozen Greek Yogurt Bars Chocolate Chip   \n49679       49675                Cinnamon Dolce Keurig Brewed K Cups   \n49680       49676                             Ultra Red Energy Drink   \n49681       49677                    Thick & Chunky Sloppy Joe Sauce   \n49682       49678                    Large Chicken & Cheese Taquitos   \n49683       49679                            Famous Chocolate Wafers   \n49684       49680                 All Natural Creamy Caesar Dressing   \n49685       49681            Spaghetti with Meatballs and Sauce Meal   \n49686       49682                                 California Limeade   \n49687       49683                                     Cucumber Kirby   \n49688       49684          Vodka, Triple Distilled, Twist of Vanilla   \n49689       49685                 En Croute Roast Hazelnut Cranberry   \n49690       49686                                   Artisan Baguette   \n49691       49687         Smartblend Healthy Metabolism Dry Cat Food   \n49692       49688                             Fresh Foaming Cleanser   \n\n       aisle_id  department_id  prices  \n49658         5             13     4.0  \n49659        98              7    10.7  \n49660       128              3     7.1  \n49661        83              4     8.3  \n49662         2             16     3.9  \n49663        17             13     3.1  \n49664        22             11     6.7  \n49665       134              5     8.2  \n49666       107             19     3.6  \n49667        57             14    10.2  \n49668       100             21    13.7  \n49669        45             19     6.9  \n49670        61             19     5.2  \n49671        38              1     6.6  \n49672       101             17     5.6  \n49673       100             21     4.7  \n49674       106             12    19.2  \n49675        45             19     3.0  \n49676        26              7     6.5  \n49677       129              1     5.6  \n49678        37              1    11.1  \n49679        26              7    14.0  \n49680        64              7    14.5  \n49681        59             15     8.9  \n49682       129              1     3.4  \n49683        61             19     6.0  \n49684        89             13     4.9  \n49685        38              1     6.9  \n49686        98              7     4.3  \n49687        83              4    13.2  \n49688       124              5     5.3  \n49689        42              1     3.1  \n49690       112              3     7.8  \n49691        41              8     4.7  \n49692        73             11    13.5  ",
      "text/html": "<div>\n<style scoped>\n    .dataframe tbody tr th:only-of-type {\n        vertical-align: middle;\n    }\n\n    .dataframe tbody tr th {\n        vertical-align: top;\n    }\n\n    .dataframe thead th {\n        text-align: right;\n    }\n</style>\n<table border=\"1\" class=\"dataframe\">\n  <thead>\n    <tr style=\"text-align: right;\">\n      <th></th>\n      <th>product_id</th>\n      <th>product_name</th>\n      <th>aisle_id</th>\n      <th>department_id</th>\n      <th>prices</th>\n    </tr>\n  </thead>\n  <tbody>\n    <tr>\n      <th>49658</th>\n      <td>49654</td>\n      <td>Teriyaki Sauce, Sesame, Original</td>\n      <td>5</td>\n      <td>13</td>\n      <td>4.0</td>\n    </tr>\n    <tr>\n      <th>49659</th>\n      <td>49655</td>\n      <td>Apple Cider</td>\n      <td>98</td>\n      <td>7</td>\n      <td>10.7</td>\n    </tr>\n    <tr>\n      <th>49660</th>\n      <td>49656</td>\n      <td>Masada Kosher Pocket Bread</td>\n      <td>128</td>\n      <td>3</td>\n      <td>7.1</td>\n    </tr>\n    <tr>\n      <th>49661</th>\n      <td>49657</td>\n      <td>Cabernet Tomatoes</td>\n      <td>83</td>\n      <td>4</td>\n      <td>8.3</td>\n    </tr>\n    <tr>\n      <th>49662</th>\n      <td>49658</td>\n      <td>Brie with Herbs Foil Wedge</td>\n      <td>2</td>\n      <td>16</td>\n      <td>3.9</td>\n    </tr>\n    <tr>\n      <th>49663</th>\n      <td>49659</td>\n      <td>Organic Creamed Coconut</td>\n      <td>17</td>\n      <td>13</td>\n      <td>3.1</td>\n    </tr>\n    <tr>\n      <th>49664</th>\n      <td>49660</td>\n      <td>Professionals Sleek Shampoo</td>\n      <td>22</td>\n      <td>11</td>\n      <td>6.7</td>\n    </tr>\n    <tr>\n      <th>49665</th>\n      <td>49661</td>\n      <td>Porto</td>\n      <td>134</td>\n      <td>5</td>\n      <td>8.2</td>\n    </tr>\n    <tr>\n      <th>49666</th>\n      <td>49662</td>\n      <td>Bacon Cheddar Pretzel Pieces</td>\n      <td>107</td>\n      <td>19</td>\n      <td>3.6</td>\n    </tr>\n    <tr>\n      <th>49667</th>\n      <td>49663</td>\n      <td>Ultra Protein Power Crunch Peanut Butter N' Ho...</td>\n      <td>57</td>\n      <td>14</td>\n      <td>10.2</td>\n    </tr>\n    <tr>\n      <th>49668</th>\n      <td>49664</td>\n      <td>Lemon Cayenne Drinking Vinegar</td>\n      <td>100</td>\n      <td>21</td>\n      <td>13.7</td>\n    </tr>\n    <tr>\n      <th>49669</th>\n      <td>49665</td>\n      <td>Super Dark Coconut Ash &amp; Banana Chocolate Bar</td>\n      <td>45</td>\n      <td>19</td>\n      <td>6.9</td>\n    </tr>\n    <tr>\n      <th>49670</th>\n      <td>49666</td>\n      <td>Ginger Snaps Snacking Cookies</td>\n      <td>61</td>\n      <td>19</td>\n      <td>5.2</td>\n    </tr>\n    <tr>\n      <th>49671</th>\n      <td>49667</td>\n      <td>Enchilada with Spanish Rice &amp; Beans Meal</td>\n      <td>38</td>\n      <td>1</td>\n      <td>6.6</td>\n    </tr>\n    <tr>\n      <th>49672</th>\n      <td>49668</td>\n      <td>Apple Cinnamon Scented Candles</td>\n      <td>101</td>\n      <td>17</td>\n      <td>5.6</td>\n    </tr>\n    <tr>\n      <th>49673</th>\n      <td>49669</td>\n      <td>K Cup Dark Blend</td>\n      <td>100</td>\n      <td>21</td>\n      <td>4.7</td>\n    </tr>\n    <tr>\n      <th>49674</th>\n      <td>49670</td>\n      <td>Beef Summer Sausage</td>\n      <td>106</td>\n      <td>12</td>\n      <td>19.2</td>\n    </tr>\n    <tr>\n      <th>49675</th>\n      <td>49671</td>\n      <td>Milk Chocolate Drops</td>\n      <td>45</td>\n      <td>19</td>\n      <td>3.0</td>\n    </tr>\n    <tr>\n      <th>49676</th>\n      <td>49672</td>\n      <td>Cafe Mocha K-Cup Packs</td>\n      <td>26</td>\n      <td>7</td>\n      <td>6.5</td>\n    </tr>\n    <tr>\n      <th>49677</th>\n      <td>49673</td>\n      <td>Stone Baked Multi Grain Artisan Rolls</td>\n      <td>129</td>\n      <td>1</td>\n      <td>5.6</td>\n    </tr>\n    <tr>\n      <th>49678</th>\n      <td>49674</td>\n      <td>Frozen Greek Yogurt Bars Chocolate Chip</td>\n      <td>37</td>\n      <td>1</td>\n      <td>11.1</td>\n    </tr>\n    <tr>\n      <th>49679</th>\n      <td>49675</td>\n      <td>Cinnamon Dolce Keurig Brewed K Cups</td>\n      <td>26</td>\n      <td>7</td>\n      <td>14.0</td>\n    </tr>\n    <tr>\n      <th>49680</th>\n      <td>49676</td>\n      <td>Ultra Red Energy Drink</td>\n      <td>64</td>\n      <td>7</td>\n      <td>14.5</td>\n    </tr>\n    <tr>\n      <th>49681</th>\n      <td>49677</td>\n      <td>Thick &amp; Chunky Sloppy Joe Sauce</td>\n      <td>59</td>\n      <td>15</td>\n      <td>8.9</td>\n    </tr>\n    <tr>\n      <th>49682</th>\n      <td>49678</td>\n      <td>Large Chicken &amp; Cheese Taquitos</td>\n      <td>129</td>\n      <td>1</td>\n      <td>3.4</td>\n    </tr>\n    <tr>\n      <th>49683</th>\n      <td>49679</td>\n      <td>Famous Chocolate Wafers</td>\n      <td>61</td>\n      <td>19</td>\n      <td>6.0</td>\n    </tr>\n    <tr>\n      <th>49684</th>\n      <td>49680</td>\n      <td>All Natural Creamy Caesar Dressing</td>\n      <td>89</td>\n      <td>13</td>\n      <td>4.9</td>\n    </tr>\n    <tr>\n      <th>49685</th>\n      <td>49681</td>\n      <td>Spaghetti with Meatballs and Sauce Meal</td>\n      <td>38</td>\n      <td>1</td>\n      <td>6.9</td>\n    </tr>\n    <tr>\n      <th>49686</th>\n      <td>49682</td>\n      <td>California Limeade</td>\n      <td>98</td>\n      <td>7</td>\n      <td>4.3</td>\n    </tr>\n    <tr>\n      <th>49687</th>\n      <td>49683</td>\n      <td>Cucumber Kirby</td>\n      <td>83</td>\n      <td>4</td>\n      <td>13.2</td>\n    </tr>\n    <tr>\n      <th>49688</th>\n      <td>49684</td>\n      <td>Vodka, Triple Distilled, Twist of Vanilla</td>\n      <td>124</td>\n      <td>5</td>\n      <td>5.3</td>\n    </tr>\n    <tr>\n      <th>49689</th>\n      <td>49685</td>\n      <td>En Croute Roast Hazelnut Cranberry</td>\n      <td>42</td>\n      <td>1</td>\n      <td>3.1</td>\n    </tr>\n    <tr>\n      <th>49690</th>\n      <td>49686</td>\n      <td>Artisan Baguette</td>\n      <td>112</td>\n      <td>3</td>\n      <td>7.8</td>\n    </tr>\n    <tr>\n      <th>49691</th>\n      <td>49687</td>\n      <td>Smartblend Healthy Metabolism Dry Cat Food</td>\n      <td>41</td>\n      <td>8</td>\n      <td>4.7</td>\n    </tr>\n    <tr>\n      <th>49692</th>\n      <td>49688</td>\n      <td>Fresh Foaming Cleanser</td>\n      <td>73</td>\n      <td>11</td>\n      <td>13.5</td>\n    </tr>\n  </tbody>\n</table>\n</div>"
     },
     "execution_count": 14,
     "metadata": {},
     "output_type": "execute_result"
    }
   ],
   "source": [
    "df_prods.tail(35)"
   ]
  },
  {
   "cell_type": "code",
   "execution_count": 15,
   "id": "3f0663bd",
   "metadata": {
    "pycharm": {
     "name": "#%%\n"
    }
   },
   "outputs": [
    {
     "data": {
      "text/plain": "<bound method NDFrame.describe of        product_id                                       product_name  \\\n0               1                         Chocolate Sandwich Cookies   \n1               2                                   All-Seasons Salt   \n2               3               Robust Golden Unsweetened Oolong Tea   \n3               4  Smart Ones Classic Favorites Mini Rigatoni Wit...   \n4               5                          Green Chile Anytime Sauce   \n...           ...                                                ...   \n49688       49684          Vodka, Triple Distilled, Twist of Vanilla   \n49689       49685                 En Croute Roast Hazelnut Cranberry   \n49690       49686                                   Artisan Baguette   \n49691       49687         Smartblend Healthy Metabolism Dry Cat Food   \n49692       49688                             Fresh Foaming Cleanser   \n\n       aisle_id  department_id  prices  \n0            61             19     5.8  \n1           104             13     9.3  \n2            94              7     4.5  \n3            38              1    10.5  \n4             5             13     4.3  \n...         ...            ...     ...  \n49688       124              5     5.3  \n49689        42              1     3.1  \n49690       112              3     7.8  \n49691        41              8     4.7  \n49692        73             11    13.5  \n\n[49693 rows x 5 columns]>"
     },
     "execution_count": 15,
     "metadata": {},
     "output_type": "execute_result"
    }
   ],
   "source": [
    "df_prods.describe"
   ]
  },
  {
   "cell_type": "code",
   "execution_count": 16,
   "id": "2fc6ba28",
   "metadata": {
    "pycharm": {
     "name": "#%%\n"
    }
   },
   "outputs": [
    {
     "data": {
      "text/plain": "<bound method DataFrame.info of        product_id                                       product_name  \\\n0               1                         Chocolate Sandwich Cookies   \n1               2                                   All-Seasons Salt   \n2               3               Robust Golden Unsweetened Oolong Tea   \n3               4  Smart Ones Classic Favorites Mini Rigatoni Wit...   \n4               5                          Green Chile Anytime Sauce   \n...           ...                                                ...   \n49688       49684          Vodka, Triple Distilled, Twist of Vanilla   \n49689       49685                 En Croute Roast Hazelnut Cranberry   \n49690       49686                                   Artisan Baguette   \n49691       49687         Smartblend Healthy Metabolism Dry Cat Food   \n49692       49688                             Fresh Foaming Cleanser   \n\n       aisle_id  department_id  prices  \n0            61             19     5.8  \n1           104             13     9.3  \n2            94              7     4.5  \n3            38              1    10.5  \n4             5             13     4.3  \n...         ...            ...     ...  \n49688       124              5     5.3  \n49689        42              1     3.1  \n49690       112              3     7.8  \n49691        41              8     4.7  \n49692        73             11    13.5  \n\n[49693 rows x 5 columns]>"
     },
     "execution_count": 16,
     "metadata": {},
     "output_type": "execute_result"
    }
   ],
   "source": [
    "df_prods.info"
   ]
  },
  {
   "cell_type": "code",
   "execution_count": 17,
   "id": "59459ffa",
   "metadata": {
    "pycharm": {
     "name": "#%%\n"
    }
   },
   "outputs": [
    {
     "data": {
      "text/plain": "product_id         int64\nproduct_name      object\naisle_id           int64\ndepartment_id      int64\nprices           float64\ndtype: object"
     },
     "execution_count": 17,
     "metadata": {},
     "output_type": "execute_result"
    }
   ],
   "source": [
    "df_prods.dtypes"
   ]
  },
  {
   "cell_type": "markdown",
   "id": "d6efd441",
   "metadata": {
    "pycharm": {
     "name": "#%% md\n"
    }
   },
   "source": [
    "What is the maximum value of the \"aisle_ID\" column?\n",
    "49692\n",
    "\n",
    "What's the data type of the \"department_ID\" column?\n",
    "int64"
   ]
  }
 ],
 "metadata": {
  "kernelspec": {
   "display_name": "Python 3 (ipykernel)",
   "language": "python",
   "name": "python3"
  },
  "language_info": {
   "codemirror_mode": {
    "name": "ipython",
    "version": 3
   },
   "file_extension": ".py",
   "mimetype": "text/x-python",
   "name": "python",
   "nbconvert_exporter": "python",
   "pygments_lexer": "ipython3",
   "version": "3.9.12"
  }
 },
 "nbformat": 4,
 "nbformat_minor": 5
}