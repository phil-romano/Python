{
 "cells": [
  {
   "cell_type": "code",
   "execution_count": 2,
   "id": "8b9be6c8",
   "metadata": {
    "pycharm": {
     "name": "#%%\n"
    }
   },
   "outputs": [],
   "source": [
    "#Import Libraries\n",
    "import pandas as pd\n",
    "import numpy as np\n",
    "import os\n",
    "\n",
    "#dataframes\n",
    "path = r'..\\02 Data\\Original Data'\n",
    "\n",
    "#import departments dataframe\n",
    "df_dep = pd.read_csv(os.path.join(path, 'departments.csv'), index_col = False)\n",
    "df_prods = pd.read_csv(os.path.join(path, 'products.csv'), index_col = False)\n",
    "df_ords = pd.read_csv(os.path.join(path,'orders.csv'), index_col = False)"
   ]
  },
  {
   "cell_type": "code",
   "execution_count": 40,
   "outputs": [
    {
     "name": "stdout",
     "output_type": "stream",
     "text": [
      "<class 'pandas.core.frame.DataFrame'>\n",
      "RangeIndex: 49693 entries, 0 to 49692\n",
      "Data columns (total 5 columns):\n",
      " #   Column         Non-Null Count  Dtype  \n",
      "---  ------         --------------  -----  \n",
      " 0   product_id     49693 non-null  int64  \n",
      " 1   product_name   49677 non-null  object \n",
      " 2   aisle_id       49693 non-null  int64  \n",
      " 3   department_id  49693 non-null  int64  \n",
      " 4   prices         49693 non-null  float64\n",
      "dtypes: float64(1), int64(3), object(1)\n",
      "memory usage: 1.9+ MB\n"
     ]
    }
   ],
   "source": [
    "df_prods.info()"
   ],
   "metadata": {
    "collapsed": false,
    "pycharm": {
     "name": "#%%\n"
    }
   }
  },
  {
   "cell_type": "code",
   "execution_count": 3,
   "id": "b1177c6d",
   "metadata": {
    "pycharm": {
     "name": "#%%\n"
    }
   },
   "outputs": [
    {
     "data": {
      "text/plain": "   department_id department\n0              1     frozen\n1              2      other\n2              3     bakery\n3              4    produce\n4              5    alcohol",
      "text/html": "<div>\n<style scoped>\n    .dataframe tbody tr th:only-of-type {\n        vertical-align: middle;\n    }\n\n    .dataframe tbody tr th {\n        vertical-align: top;\n    }\n\n    .dataframe thead th {\n        text-align: right;\n    }\n</style>\n<table border=\"1\" class=\"dataframe\">\n  <thead>\n    <tr style=\"text-align: right;\">\n      <th></th>\n      <th>department_id</th>\n      <th>department</th>\n    </tr>\n  </thead>\n  <tbody>\n    <tr>\n      <th>0</th>\n      <td>1</td>\n      <td>frozen</td>\n    </tr>\n    <tr>\n      <th>1</th>\n      <td>2</td>\n      <td>other</td>\n    </tr>\n    <tr>\n      <th>2</th>\n      <td>3</td>\n      <td>bakery</td>\n    </tr>\n    <tr>\n      <th>3</th>\n      <td>4</td>\n      <td>produce</td>\n    </tr>\n    <tr>\n      <th>4</th>\n      <td>5</td>\n      <td>alcohol</td>\n    </tr>\n  </tbody>\n</table>\n</div>"
     },
     "execution_count": 3,
     "metadata": {},
     "output_type": "execute_result"
    }
   ],
   "source": [
    "#head function\n",
    "df_dep.head()"
   ]
  },
  {
   "cell_type": "code",
   "execution_count": 4,
   "id": "373d9b1f",
   "metadata": {
    "pycharm": {
     "name": "#%%\n"
    }
   },
   "outputs": [
    {
     "data": {
      "text/plain": "                   0      1       2        3        4              5   \\\ndepartment_id       1      2       3        4        5              6   \ndepartment     frozen  other  bakery  produce  alcohol  international   \n\n                      6     7                8     9   ...            11  \\\ndepartment_id          7     8                9    10  ...            12   \ndepartment     beverages  pets  dry goods pasta  bulk  ...  meat seafood   \n\n                   12         13            14          15         16      17  \\\ndepartment_id      13         14            15          16         17      18   \ndepartment     pantry  breakfast  canned goods  dairy eggs  household  babies   \n\n                   18    19       20  \ndepartment_id      19    20       21  \ndepartment     snacks  deli  missing  \n\n[2 rows x 21 columns]",
      "text/html": "<div>\n<style scoped>\n    .dataframe tbody tr th:only-of-type {\n        vertical-align: middle;\n    }\n\n    .dataframe tbody tr th {\n        vertical-align: top;\n    }\n\n    .dataframe thead th {\n        text-align: right;\n    }\n</style>\n<table border=\"1\" class=\"dataframe\">\n  <thead>\n    <tr style=\"text-align: right;\">\n      <th></th>\n      <th>0</th>\n      <th>1</th>\n      <th>2</th>\n      <th>3</th>\n      <th>4</th>\n      <th>5</th>\n      <th>6</th>\n      <th>7</th>\n      <th>8</th>\n      <th>9</th>\n      <th>...</th>\n      <th>11</th>\n      <th>12</th>\n      <th>13</th>\n      <th>14</th>\n      <th>15</th>\n      <th>16</th>\n      <th>17</th>\n      <th>18</th>\n      <th>19</th>\n      <th>20</th>\n    </tr>\n  </thead>\n  <tbody>\n    <tr>\n      <th>department_id</th>\n      <td>1</td>\n      <td>2</td>\n      <td>3</td>\n      <td>4</td>\n      <td>5</td>\n      <td>6</td>\n      <td>7</td>\n      <td>8</td>\n      <td>9</td>\n      <td>10</td>\n      <td>...</td>\n      <td>12</td>\n      <td>13</td>\n      <td>14</td>\n      <td>15</td>\n      <td>16</td>\n      <td>17</td>\n      <td>18</td>\n      <td>19</td>\n      <td>20</td>\n      <td>21</td>\n    </tr>\n    <tr>\n      <th>department</th>\n      <td>frozen</td>\n      <td>other</td>\n      <td>bakery</td>\n      <td>produce</td>\n      <td>alcohol</td>\n      <td>international</td>\n      <td>beverages</td>\n      <td>pets</td>\n      <td>dry goods pasta</td>\n      <td>bulk</td>\n      <td>...</td>\n      <td>meat seafood</td>\n      <td>pantry</td>\n      <td>breakfast</td>\n      <td>canned goods</td>\n      <td>dairy eggs</td>\n      <td>household</td>\n      <td>babies</td>\n      <td>snacks</td>\n      <td>deli</td>\n      <td>missing</td>\n    </tr>\n  </tbody>\n</table>\n<p>2 rows × 21 columns</p>\n</div>"
     },
     "execution_count": 4,
     "metadata": {},
     "output_type": "execute_result"
    }
   ],
   "source": [
    "df_dep.T"
   ]
  },
  {
   "cell_type": "code",
   "execution_count": 5,
   "id": "f4dfeb50",
   "metadata": {
    "pycharm": {
     "name": "#%%\n"
    }
   },
   "outputs": [],
   "source": [
    "df_dep_t = df_dep.T"
   ]
  },
  {
   "cell_type": "code",
   "execution_count": 6,
   "id": "caacea48",
   "metadata": {
    "pycharm": {
     "name": "#%%\n"
    }
   },
   "outputs": [
    {
     "data": {
      "text/plain": "                   0      1       2        3        4              5   \\\ndepartment_id       1      2       3        4        5              6   \ndepartment     frozen  other  bakery  produce  alcohol  international   \n\n                      6     7                8     9   ...            11  \\\ndepartment_id          7     8                9    10  ...            12   \ndepartment     beverages  pets  dry goods pasta  bulk  ...  meat seafood   \n\n                   12         13            14          15         16      17  \\\ndepartment_id      13         14            15          16         17      18   \ndepartment     pantry  breakfast  canned goods  dairy eggs  household  babies   \n\n                   18    19       20  \ndepartment_id      19    20       21  \ndepartment     snacks  deli  missing  \n\n[2 rows x 21 columns]",
      "text/html": "<div>\n<style scoped>\n    .dataframe tbody tr th:only-of-type {\n        vertical-align: middle;\n    }\n\n    .dataframe tbody tr th {\n        vertical-align: top;\n    }\n\n    .dataframe thead th {\n        text-align: right;\n    }\n</style>\n<table border=\"1\" class=\"dataframe\">\n  <thead>\n    <tr style=\"text-align: right;\">\n      <th></th>\n      <th>0</th>\n      <th>1</th>\n      <th>2</th>\n      <th>3</th>\n      <th>4</th>\n      <th>5</th>\n      <th>6</th>\n      <th>7</th>\n      <th>8</th>\n      <th>9</th>\n      <th>...</th>\n      <th>11</th>\n      <th>12</th>\n      <th>13</th>\n      <th>14</th>\n      <th>15</th>\n      <th>16</th>\n      <th>17</th>\n      <th>18</th>\n      <th>19</th>\n      <th>20</th>\n    </tr>\n  </thead>\n  <tbody>\n    <tr>\n      <th>department_id</th>\n      <td>1</td>\n      <td>2</td>\n      <td>3</td>\n      <td>4</td>\n      <td>5</td>\n      <td>6</td>\n      <td>7</td>\n      <td>8</td>\n      <td>9</td>\n      <td>10</td>\n      <td>...</td>\n      <td>12</td>\n      <td>13</td>\n      <td>14</td>\n      <td>15</td>\n      <td>16</td>\n      <td>17</td>\n      <td>18</td>\n      <td>19</td>\n      <td>20</td>\n      <td>21</td>\n    </tr>\n    <tr>\n      <th>department</th>\n      <td>frozen</td>\n      <td>other</td>\n      <td>bakery</td>\n      <td>produce</td>\n      <td>alcohol</td>\n      <td>international</td>\n      <td>beverages</td>\n      <td>pets</td>\n      <td>dry goods pasta</td>\n      <td>bulk</td>\n      <td>...</td>\n      <td>meat seafood</td>\n      <td>pantry</td>\n      <td>breakfast</td>\n      <td>canned goods</td>\n      <td>dairy eggs</td>\n      <td>household</td>\n      <td>babies</td>\n      <td>snacks</td>\n      <td>deli</td>\n      <td>missing</td>\n    </tr>\n  </tbody>\n</table>\n<p>2 rows × 21 columns</p>\n</div>"
     },
     "execution_count": 6,
     "metadata": {},
     "output_type": "execute_result"
    }
   ],
   "source": [
    "df_dep_t"
   ]
  },
  {
   "cell_type": "code",
   "execution_count": 7,
   "id": "e733f02d",
   "metadata": {
    "pycharm": {
     "name": "#%%\n"
    }
   },
   "outputs": [
    {
     "data": {
      "text/plain": "           index       0      1       2        3        4              5  \\\n0  department_id       1      2       3        4        5              6   \n1     department  frozen  other  bakery  produce  alcohol  international   \n\n           6     7                8  ...            11      12         13  \\\n0          7     8                9  ...            12      13         14   \n1  beverages  pets  dry goods pasta  ...  meat seafood  pantry  breakfast   \n\n             14          15         16      17      18    19       20  \n0            15          16         17      18      19    20       21  \n1  canned goods  dairy eggs  household  babies  snacks  deli  missing  \n\n[2 rows x 22 columns]",
      "text/html": "<div>\n<style scoped>\n    .dataframe tbody tr th:only-of-type {\n        vertical-align: middle;\n    }\n\n    .dataframe tbody tr th {\n        vertical-align: top;\n    }\n\n    .dataframe thead th {\n        text-align: right;\n    }\n</style>\n<table border=\"1\" class=\"dataframe\">\n  <thead>\n    <tr style=\"text-align: right;\">\n      <th></th>\n      <th>index</th>\n      <th>0</th>\n      <th>1</th>\n      <th>2</th>\n      <th>3</th>\n      <th>4</th>\n      <th>5</th>\n      <th>6</th>\n      <th>7</th>\n      <th>8</th>\n      <th>...</th>\n      <th>11</th>\n      <th>12</th>\n      <th>13</th>\n      <th>14</th>\n      <th>15</th>\n      <th>16</th>\n      <th>17</th>\n      <th>18</th>\n      <th>19</th>\n      <th>20</th>\n    </tr>\n  </thead>\n  <tbody>\n    <tr>\n      <th>0</th>\n      <td>department_id</td>\n      <td>1</td>\n      <td>2</td>\n      <td>3</td>\n      <td>4</td>\n      <td>5</td>\n      <td>6</td>\n      <td>7</td>\n      <td>8</td>\n      <td>9</td>\n      <td>...</td>\n      <td>12</td>\n      <td>13</td>\n      <td>14</td>\n      <td>15</td>\n      <td>16</td>\n      <td>17</td>\n      <td>18</td>\n      <td>19</td>\n      <td>20</td>\n      <td>21</td>\n    </tr>\n    <tr>\n      <th>1</th>\n      <td>department</td>\n      <td>frozen</td>\n      <td>other</td>\n      <td>bakery</td>\n      <td>produce</td>\n      <td>alcohol</td>\n      <td>international</td>\n      <td>beverages</td>\n      <td>pets</td>\n      <td>dry goods pasta</td>\n      <td>...</td>\n      <td>meat seafood</td>\n      <td>pantry</td>\n      <td>breakfast</td>\n      <td>canned goods</td>\n      <td>dairy eggs</td>\n      <td>household</td>\n      <td>babies</td>\n      <td>snacks</td>\n      <td>deli</td>\n      <td>missing</td>\n    </tr>\n  </tbody>\n</table>\n<p>2 rows × 22 columns</p>\n</div>"
     },
     "execution_count": 7,
     "metadata": {},
     "output_type": "execute_result"
    }
   ],
   "source": [
    "df_dep_t.reset_index()"
   ]
  },
  {
   "cell_type": "code",
   "execution_count": 8,
   "id": "bcf01c9e",
   "metadata": {
    "pycharm": {
     "name": "#%%\n"
    }
   },
   "outputs": [],
   "source": [
    "new_header = df_dep_t.iloc[0]"
   ]
  },
  {
   "cell_type": "code",
   "execution_count": 9,
   "id": "46b6d52f",
   "metadata": {
    "pycharm": {
     "name": "#%%\n"
    }
   },
   "outputs": [
    {
     "name": "stdout",
     "output_type": "stream",
     "text": [
      "0      1\n",
      "1      2\n",
      "2      3\n",
      "3      4\n",
      "4      5\n",
      "5      6\n",
      "6      7\n",
      "7      8\n",
      "8      9\n",
      "9     10\n",
      "10    11\n",
      "11    12\n",
      "12    13\n",
      "13    14\n",
      "14    15\n",
      "15    16\n",
      "16    17\n",
      "17    18\n",
      "18    19\n",
      "19    20\n",
      "20    21\n",
      "Name: department_id, dtype: object\n"
     ]
    }
   ],
   "source": [
    "print(new_header)"
   ]
  },
  {
   "cell_type": "code",
   "execution_count": 10,
   "id": "ababd2c7",
   "metadata": {
    "pycharm": {
     "name": "#%%\n"
    }
   },
   "outputs": [],
   "source": [
    "df_dep_t_new = df_dep_t[1:]"
   ]
  },
  {
   "cell_type": "code",
   "execution_count": 11,
   "id": "84d5ee25",
   "metadata": {
    "pycharm": {
     "name": "#%%\n"
    }
   },
   "outputs": [
    {
     "data": {
      "text/plain": "                0      1       2        3        4              5          6   \\\ndepartment  frozen  other  bakery  produce  alcohol  international  beverages   \n\n              7                8     9   ...            11      12         13  \\\ndepartment  pets  dry goods pasta  bulk  ...  meat seafood  pantry  breakfast   \n\n                      14          15         16      17      18    19       20  \ndepartment  canned goods  dairy eggs  household  babies  snacks  deli  missing  \n\n[1 rows x 21 columns]",
      "text/html": "<div>\n<style scoped>\n    .dataframe tbody tr th:only-of-type {\n        vertical-align: middle;\n    }\n\n    .dataframe tbody tr th {\n        vertical-align: top;\n    }\n\n    .dataframe thead th {\n        text-align: right;\n    }\n</style>\n<table border=\"1\" class=\"dataframe\">\n  <thead>\n    <tr style=\"text-align: right;\">\n      <th></th>\n      <th>0</th>\n      <th>1</th>\n      <th>2</th>\n      <th>3</th>\n      <th>4</th>\n      <th>5</th>\n      <th>6</th>\n      <th>7</th>\n      <th>8</th>\n      <th>9</th>\n      <th>...</th>\n      <th>11</th>\n      <th>12</th>\n      <th>13</th>\n      <th>14</th>\n      <th>15</th>\n      <th>16</th>\n      <th>17</th>\n      <th>18</th>\n      <th>19</th>\n      <th>20</th>\n    </tr>\n  </thead>\n  <tbody>\n    <tr>\n      <th>department</th>\n      <td>frozen</td>\n      <td>other</td>\n      <td>bakery</td>\n      <td>produce</td>\n      <td>alcohol</td>\n      <td>international</td>\n      <td>beverages</td>\n      <td>pets</td>\n      <td>dry goods pasta</td>\n      <td>bulk</td>\n      <td>...</td>\n      <td>meat seafood</td>\n      <td>pantry</td>\n      <td>breakfast</td>\n      <td>canned goods</td>\n      <td>dairy eggs</td>\n      <td>household</td>\n      <td>babies</td>\n      <td>snacks</td>\n      <td>deli</td>\n      <td>missing</td>\n    </tr>\n  </tbody>\n</table>\n<p>1 rows × 21 columns</p>\n</div>"
     },
     "execution_count": 11,
     "metadata": {},
     "output_type": "execute_result"
    }
   ],
   "source": [
    "df_dep_t_new"
   ]
  },
  {
   "cell_type": "code",
   "execution_count": 12,
   "id": "ff4abfc3",
   "metadata": {
    "pycharm": {
     "name": "#%%\n"
    }
   },
   "outputs": [],
   "source": [
    "df_dep_t_new.columns = new_header"
   ]
  },
  {
   "cell_type": "code",
   "execution_count": 13,
   "id": "235a902b",
   "metadata": {
    "pycharm": {
     "name": "#%%\n"
    }
   },
   "outputs": [
    {
     "data": {
      "text/plain": "department_id      1      2       3        4        5              6   \\\ndepartment     frozen  other  bakery  produce  alcohol  international   \n\ndepartment_id         7     8                9     10  ...            12  \\\ndepartment     beverages  pets  dry goods pasta  bulk  ...  meat seafood   \n\ndepartment_id      13         14            15          16         17      18  \\\ndepartment     pantry  breakfast  canned goods  dairy eggs  household  babies   \n\ndepartment_id      19    20       21  \ndepartment     snacks  deli  missing  \n\n[1 rows x 21 columns]",
      "text/html": "<div>\n<style scoped>\n    .dataframe tbody tr th:only-of-type {\n        vertical-align: middle;\n    }\n\n    .dataframe tbody tr th {\n        vertical-align: top;\n    }\n\n    .dataframe thead th {\n        text-align: right;\n    }\n</style>\n<table border=\"1\" class=\"dataframe\">\n  <thead>\n    <tr style=\"text-align: right;\">\n      <th>department_id</th>\n      <th>1</th>\n      <th>2</th>\n      <th>3</th>\n      <th>4</th>\n      <th>5</th>\n      <th>6</th>\n      <th>7</th>\n      <th>8</th>\n      <th>9</th>\n      <th>10</th>\n      <th>...</th>\n      <th>12</th>\n      <th>13</th>\n      <th>14</th>\n      <th>15</th>\n      <th>16</th>\n      <th>17</th>\n      <th>18</th>\n      <th>19</th>\n      <th>20</th>\n      <th>21</th>\n    </tr>\n  </thead>\n  <tbody>\n    <tr>\n      <th>department</th>\n      <td>frozen</td>\n      <td>other</td>\n      <td>bakery</td>\n      <td>produce</td>\n      <td>alcohol</td>\n      <td>international</td>\n      <td>beverages</td>\n      <td>pets</td>\n      <td>dry goods pasta</td>\n      <td>bulk</td>\n      <td>...</td>\n      <td>meat seafood</td>\n      <td>pantry</td>\n      <td>breakfast</td>\n      <td>canned goods</td>\n      <td>dairy eggs</td>\n      <td>household</td>\n      <td>babies</td>\n      <td>snacks</td>\n      <td>deli</td>\n      <td>missing</td>\n    </tr>\n  </tbody>\n</table>\n<p>1 rows × 21 columns</p>\n</div>"
     },
     "execution_count": 13,
     "metadata": {},
     "output_type": "execute_result"
    }
   ],
   "source": [
    "df_dep_t_new"
   ]
  },
  {
   "cell_type": "code",
   "execution_count": 14,
   "id": "6c0a2f59",
   "metadata": {
    "pycharm": {
     "name": "#%%\n"
    }
   },
   "outputs": [],
   "source": [
    "data_dict = df_dep_t_new.to_dict('index')"
   ]
  },
  {
   "cell_type": "code",
   "execution_count": 15,
   "id": "00cbd4ec",
   "metadata": {
    "pycharm": {
     "name": "#%%\n"
    }
   },
   "outputs": [
    {
     "data": {
      "text/plain": "{'department': {1: 'frozen',\n  2: 'other',\n  3: 'bakery',\n  4: 'produce',\n  5: 'alcohol',\n  6: 'international',\n  7: 'beverages',\n  8: 'pets',\n  9: 'dry goods pasta',\n  10: 'bulk',\n  11: 'personal care',\n  12: 'meat seafood',\n  13: 'pantry',\n  14: 'breakfast',\n  15: 'canned goods',\n  16: 'dairy eggs',\n  17: 'household',\n  18: 'babies',\n  19: 'snacks',\n  20: 'deli',\n  21: 'missing'}}"
     },
     "execution_count": 15,
     "metadata": {},
     "output_type": "execute_result"
    }
   ],
   "source": [
    "data_dict"
   ]
  },
  {
   "cell_type": "code",
   "execution_count": 16,
   "id": "e741be3a",
   "metadata": {
    "pycharm": {
     "name": "#%%\n"
    }
   },
   "outputs": [
    {
     "data": {
      "text/plain": "       product_id                                       product_name  \\\n0               1                         Chocolate Sandwich Cookies   \n1               2                                   All-Seasons Salt   \n2               3               Robust Golden Unsweetened Oolong Tea   \n3               4  Smart Ones Classic Favorites Mini Rigatoni Wit...   \n4               5                          Green Chile Anytime Sauce   \n...           ...                                                ...   \n49688       49684          Vodka, Triple Distilled, Twist of Vanilla   \n49689       49685                 En Croute Roast Hazelnut Cranberry   \n49690       49686                                   Artisan Baguette   \n49691       49687         Smartblend Healthy Metabolism Dry Cat Food   \n49692       49688                             Fresh Foaming Cleanser   \n\n       aisle_id  department_id  prices  \n0            61             19     5.8  \n1           104             13     9.3  \n2            94              7     4.5  \n3            38              1    10.5  \n4             5             13     4.3  \n...         ...            ...     ...  \n49688       124              5     5.3  \n49689        42              1     3.1  \n49690       112              3     7.8  \n49691        41              8     4.7  \n49692        73             11    13.5  \n\n[49693 rows x 5 columns]",
      "text/html": "<div>\n<style scoped>\n    .dataframe tbody tr th:only-of-type {\n        vertical-align: middle;\n    }\n\n    .dataframe tbody tr th {\n        vertical-align: top;\n    }\n\n    .dataframe thead th {\n        text-align: right;\n    }\n</style>\n<table border=\"1\" class=\"dataframe\">\n  <thead>\n    <tr style=\"text-align: right;\">\n      <th></th>\n      <th>product_id</th>\n      <th>product_name</th>\n      <th>aisle_id</th>\n      <th>department_id</th>\n      <th>prices</th>\n    </tr>\n  </thead>\n  <tbody>\n    <tr>\n      <th>0</th>\n      <td>1</td>\n      <td>Chocolate Sandwich Cookies</td>\n      <td>61</td>\n      <td>19</td>\n      <td>5.8</td>\n    </tr>\n    <tr>\n      <th>1</th>\n      <td>2</td>\n      <td>All-Seasons Salt</td>\n      <td>104</td>\n      <td>13</td>\n      <td>9.3</td>\n    </tr>\n    <tr>\n      <th>2</th>\n      <td>3</td>\n      <td>Robust Golden Unsweetened Oolong Tea</td>\n      <td>94</td>\n      <td>7</td>\n      <td>4.5</td>\n    </tr>\n    <tr>\n      <th>3</th>\n      <td>4</td>\n      <td>Smart Ones Classic Favorites Mini Rigatoni Wit...</td>\n      <td>38</td>\n      <td>1</td>\n      <td>10.5</td>\n    </tr>\n    <tr>\n      <th>4</th>\n      <td>5</td>\n      <td>Green Chile Anytime Sauce</td>\n      <td>5</td>\n      <td>13</td>\n      <td>4.3</td>\n    </tr>\n    <tr>\n      <th>...</th>\n      <td>...</td>\n      <td>...</td>\n      <td>...</td>\n      <td>...</td>\n      <td>...</td>\n    </tr>\n    <tr>\n      <th>49688</th>\n      <td>49684</td>\n      <td>Vodka, Triple Distilled, Twist of Vanilla</td>\n      <td>124</td>\n      <td>5</td>\n      <td>5.3</td>\n    </tr>\n    <tr>\n      <th>49689</th>\n      <td>49685</td>\n      <td>En Croute Roast Hazelnut Cranberry</td>\n      <td>42</td>\n      <td>1</td>\n      <td>3.1</td>\n    </tr>\n    <tr>\n      <th>49690</th>\n      <td>49686</td>\n      <td>Artisan Baguette</td>\n      <td>112</td>\n      <td>3</td>\n      <td>7.8</td>\n    </tr>\n    <tr>\n      <th>49691</th>\n      <td>49687</td>\n      <td>Smartblend Healthy Metabolism Dry Cat Food</td>\n      <td>41</td>\n      <td>8</td>\n      <td>4.7</td>\n    </tr>\n    <tr>\n      <th>49692</th>\n      <td>49688</td>\n      <td>Fresh Foaming Cleanser</td>\n      <td>73</td>\n      <td>11</td>\n      <td>13.5</td>\n    </tr>\n  </tbody>\n</table>\n<p>49693 rows × 5 columns</p>\n</div>"
     },
     "execution_count": 16,
     "metadata": {},
     "output_type": "execute_result"
    }
   ],
   "source": [
    "df_prods"
   ]
  },
  {
   "cell_type": "code",
   "execution_count": 17,
   "id": "a103a5e4",
   "metadata": {
    "pycharm": {
     "name": "#%%\n"
    }
   },
   "outputs": [
    {
     "data": {
      "text/plain": "<bound method NDFrame.head of        product_id                                       product_name  \\\n0               1                         Chocolate Sandwich Cookies   \n1               2                                   All-Seasons Salt   \n2               3               Robust Golden Unsweetened Oolong Tea   \n3               4  Smart Ones Classic Favorites Mini Rigatoni Wit...   \n4               5                          Green Chile Anytime Sauce   \n...           ...                                                ...   \n49688       49684          Vodka, Triple Distilled, Twist of Vanilla   \n49689       49685                 En Croute Roast Hazelnut Cranberry   \n49690       49686                                   Artisan Baguette   \n49691       49687         Smartblend Healthy Metabolism Dry Cat Food   \n49692       49688                             Fresh Foaming Cleanser   \n\n       aisle_id  department_id  prices  \n0            61             19     5.8  \n1           104             13     9.3  \n2            94              7     4.5  \n3            38              1    10.5  \n4             5             13     4.3  \n...         ...            ...     ...  \n49688       124              5     5.3  \n49689        42              1     3.1  \n49690       112              3     7.8  \n49691        41              8     4.7  \n49692        73             11    13.5  \n\n[49693 rows x 5 columns]>"
     },
     "execution_count": 17,
     "metadata": {},
     "output_type": "execute_result"
    }
   ],
   "source": [
    "df_prods.head"
   ]
  },
  {
   "cell_type": "code",
   "execution_count": 18,
   "id": "ea137a5f",
   "metadata": {
    "pycharm": {
     "name": "#%%\n"
    }
   },
   "outputs": [
    {
     "name": "stdout",
     "output_type": "stream",
     "text": [
      "None\n"
     ]
    }
   ],
   "source": [
    "print(data_dict.get('19'))"
   ]
  },
  {
   "cell_type": "code",
   "execution_count": 19,
   "id": "b763ff20",
   "metadata": {
    "pycharm": {
     "name": "#%%\n"
    }
   },
   "outputs": [],
   "source": [
    "df_snacks = df_prods[df_prods['department_id']==19]"
   ]
  },
  {
   "cell_type": "code",
   "execution_count": 20,
   "id": "6b5a2371",
   "metadata": {
    "pycharm": {
     "name": "#%%\n"
    }
   },
   "outputs": [
    {
     "data": {
      "text/plain": "       product_id                                   product_name  aisle_id  \\\n0               1                     Chocolate Sandwich Cookies        61   \n15             16                  Mint Chocolate Flavored Syrup       103   \n24             25        Salted Caramel Lean Protein & Fiber Bar         3   \n31             32                  Nacho Cheese White Bean Chips       107   \n40             41    Organic Sourdough Einkorn Crackers Rosemary        78   \n...           ...                                            ...       ...   \n49666       49662                   Bacon Cheddar Pretzel Pieces       107   \n49669       49665  Super Dark Coconut Ash & Banana Chocolate Bar        45   \n49670       49666                  Ginger Snaps Snacking Cookies        61   \n49675       49671                           Milk Chocolate Drops        45   \n49683       49679                        Famous Chocolate Wafers        61   \n\n       department_id  prices  \n0                 19     5.8  \n15                19     5.2  \n24                19     1.9  \n31                19     4.9  \n40                19     6.5  \n...              ...     ...  \n49666             19     3.6  \n49669             19     6.9  \n49670             19     5.2  \n49675             19     3.0  \n49683             19     6.0  \n\n[6264 rows x 5 columns]",
      "text/html": "<div>\n<style scoped>\n    .dataframe tbody tr th:only-of-type {\n        vertical-align: middle;\n    }\n\n    .dataframe tbody tr th {\n        vertical-align: top;\n    }\n\n    .dataframe thead th {\n        text-align: right;\n    }\n</style>\n<table border=\"1\" class=\"dataframe\">\n  <thead>\n    <tr style=\"text-align: right;\">\n      <th></th>\n      <th>product_id</th>\n      <th>product_name</th>\n      <th>aisle_id</th>\n      <th>department_id</th>\n      <th>prices</th>\n    </tr>\n  </thead>\n  <tbody>\n    <tr>\n      <th>0</th>\n      <td>1</td>\n      <td>Chocolate Sandwich Cookies</td>\n      <td>61</td>\n      <td>19</td>\n      <td>5.8</td>\n    </tr>\n    <tr>\n      <th>15</th>\n      <td>16</td>\n      <td>Mint Chocolate Flavored Syrup</td>\n      <td>103</td>\n      <td>19</td>\n      <td>5.2</td>\n    </tr>\n    <tr>\n      <th>24</th>\n      <td>25</td>\n      <td>Salted Caramel Lean Protein &amp; Fiber Bar</td>\n      <td>3</td>\n      <td>19</td>\n      <td>1.9</td>\n    </tr>\n    <tr>\n      <th>31</th>\n      <td>32</td>\n      <td>Nacho Cheese White Bean Chips</td>\n      <td>107</td>\n      <td>19</td>\n      <td>4.9</td>\n    </tr>\n    <tr>\n      <th>40</th>\n      <td>41</td>\n      <td>Organic Sourdough Einkorn Crackers Rosemary</td>\n      <td>78</td>\n      <td>19</td>\n      <td>6.5</td>\n    </tr>\n    <tr>\n      <th>...</th>\n      <td>...</td>\n      <td>...</td>\n      <td>...</td>\n      <td>...</td>\n      <td>...</td>\n    </tr>\n    <tr>\n      <th>49666</th>\n      <td>49662</td>\n      <td>Bacon Cheddar Pretzel Pieces</td>\n      <td>107</td>\n      <td>19</td>\n      <td>3.6</td>\n    </tr>\n    <tr>\n      <th>49669</th>\n      <td>49665</td>\n      <td>Super Dark Coconut Ash &amp; Banana Chocolate Bar</td>\n      <td>45</td>\n      <td>19</td>\n      <td>6.9</td>\n    </tr>\n    <tr>\n      <th>49670</th>\n      <td>49666</td>\n      <td>Ginger Snaps Snacking Cookies</td>\n      <td>61</td>\n      <td>19</td>\n      <td>5.2</td>\n    </tr>\n    <tr>\n      <th>49675</th>\n      <td>49671</td>\n      <td>Milk Chocolate Drops</td>\n      <td>45</td>\n      <td>19</td>\n      <td>3.0</td>\n    </tr>\n    <tr>\n      <th>49683</th>\n      <td>49679</td>\n      <td>Famous Chocolate Wafers</td>\n      <td>61</td>\n      <td>19</td>\n      <td>6.0</td>\n    </tr>\n  </tbody>\n</table>\n<p>6264 rows × 5 columns</p>\n</div>"
     },
     "execution_count": 20,
     "metadata": {},
     "output_type": "execute_result"
    }
   ],
   "source": [
    "df_snacks"
   ]
  },
  {
   "cell_type": "code",
   "execution_count": 21,
   "id": "d78da384",
   "metadata": {
    "pycharm": {
     "name": "#%%\n"
    }
   },
   "outputs": [
    {
     "data": {
      "text/plain": "    product_id                                 product_name  aisle_id  \\\n0            1                   Chocolate Sandwich Cookies        61   \n15          16                Mint Chocolate Flavored Syrup       103   \n24          25      Salted Caramel Lean Protein & Fiber Bar         3   \n31          32                Nacho Cheese White Bean Chips       107   \n40          41  Organic Sourdough Einkorn Crackers Rosemary        78   \n\n    department_id  prices  \n0              19     5.8  \n15             19     5.2  \n24             19     1.9  \n31             19     4.9  \n40             19     6.5  ",
      "text/html": "<div>\n<style scoped>\n    .dataframe tbody tr th:only-of-type {\n        vertical-align: middle;\n    }\n\n    .dataframe tbody tr th {\n        vertical-align: top;\n    }\n\n    .dataframe thead th {\n        text-align: right;\n    }\n</style>\n<table border=\"1\" class=\"dataframe\">\n  <thead>\n    <tr style=\"text-align: right;\">\n      <th></th>\n      <th>product_id</th>\n      <th>product_name</th>\n      <th>aisle_id</th>\n      <th>department_id</th>\n      <th>prices</th>\n    </tr>\n  </thead>\n  <tbody>\n    <tr>\n      <th>0</th>\n      <td>1</td>\n      <td>Chocolate Sandwich Cookies</td>\n      <td>61</td>\n      <td>19</td>\n      <td>5.8</td>\n    </tr>\n    <tr>\n      <th>15</th>\n      <td>16</td>\n      <td>Mint Chocolate Flavored Syrup</td>\n      <td>103</td>\n      <td>19</td>\n      <td>5.2</td>\n    </tr>\n    <tr>\n      <th>24</th>\n      <td>25</td>\n      <td>Salted Caramel Lean Protein &amp; Fiber Bar</td>\n      <td>3</td>\n      <td>19</td>\n      <td>1.9</td>\n    </tr>\n    <tr>\n      <th>31</th>\n      <td>32</td>\n      <td>Nacho Cheese White Bean Chips</td>\n      <td>107</td>\n      <td>19</td>\n      <td>4.9</td>\n    </tr>\n    <tr>\n      <th>40</th>\n      <td>41</td>\n      <td>Organic Sourdough Einkorn Crackers Rosemary</td>\n      <td>78</td>\n      <td>19</td>\n      <td>6.5</td>\n    </tr>\n  </tbody>\n</table>\n</div>"
     },
     "execution_count": 21,
     "metadata": {},
     "output_type": "execute_result"
    }
   ],
   "source": [
    "df_snacks.head()"
   ]
  },
  {
   "cell_type": "code",
   "execution_count": 22,
   "id": "12680452",
   "metadata": {
    "pycharm": {
     "name": "#%%\n"
    }
   },
   "outputs": [],
   "source": [
    "df_snacks_2 = df_prods.loc[df_prods['department_id']==19]"
   ]
  },
  {
   "cell_type": "code",
   "execution_count": 23,
   "id": "e42747b6",
   "metadata": {
    "pycharm": {
     "name": "#%%\n"
    }
   },
   "outputs": [
    {
     "data": {
      "text/plain": "       product_id                                   product_name  aisle_id  \\\n0               1                     Chocolate Sandwich Cookies        61   \n15             16                  Mint Chocolate Flavored Syrup       103   \n24             25        Salted Caramel Lean Protein & Fiber Bar         3   \n31             32                  Nacho Cheese White Bean Chips       107   \n40             41    Organic Sourdough Einkorn Crackers Rosemary        78   \n...           ...                                            ...       ...   \n49666       49662                   Bacon Cheddar Pretzel Pieces       107   \n49669       49665  Super Dark Coconut Ash & Banana Chocolate Bar        45   \n49670       49666                  Ginger Snaps Snacking Cookies        61   \n49675       49671                           Milk Chocolate Drops        45   \n49683       49679                        Famous Chocolate Wafers        61   \n\n       department_id  prices  \n0                 19     5.8  \n15                19     5.2  \n24                19     1.9  \n31                19     4.9  \n40                19     6.5  \n...              ...     ...  \n49666             19     3.6  \n49669             19     6.9  \n49670             19     5.2  \n49675             19     3.0  \n49683             19     6.0  \n\n[6264 rows x 5 columns]",
      "text/html": "<div>\n<style scoped>\n    .dataframe tbody tr th:only-of-type {\n        vertical-align: middle;\n    }\n\n    .dataframe tbody tr th {\n        vertical-align: top;\n    }\n\n    .dataframe thead th {\n        text-align: right;\n    }\n</style>\n<table border=\"1\" class=\"dataframe\">\n  <thead>\n    <tr style=\"text-align: right;\">\n      <th></th>\n      <th>product_id</th>\n      <th>product_name</th>\n      <th>aisle_id</th>\n      <th>department_id</th>\n      <th>prices</th>\n    </tr>\n  </thead>\n  <tbody>\n    <tr>\n      <th>0</th>\n      <td>1</td>\n      <td>Chocolate Sandwich Cookies</td>\n      <td>61</td>\n      <td>19</td>\n      <td>5.8</td>\n    </tr>\n    <tr>\n      <th>15</th>\n      <td>16</td>\n      <td>Mint Chocolate Flavored Syrup</td>\n      <td>103</td>\n      <td>19</td>\n      <td>5.2</td>\n    </tr>\n    <tr>\n      <th>24</th>\n      <td>25</td>\n      <td>Salted Caramel Lean Protein &amp; Fiber Bar</td>\n      <td>3</td>\n      <td>19</td>\n      <td>1.9</td>\n    </tr>\n    <tr>\n      <th>31</th>\n      <td>32</td>\n      <td>Nacho Cheese White Bean Chips</td>\n      <td>107</td>\n      <td>19</td>\n      <td>4.9</td>\n    </tr>\n    <tr>\n      <th>40</th>\n      <td>41</td>\n      <td>Organic Sourdough Einkorn Crackers Rosemary</td>\n      <td>78</td>\n      <td>19</td>\n      <td>6.5</td>\n    </tr>\n    <tr>\n      <th>...</th>\n      <td>...</td>\n      <td>...</td>\n      <td>...</td>\n      <td>...</td>\n      <td>...</td>\n    </tr>\n    <tr>\n      <th>49666</th>\n      <td>49662</td>\n      <td>Bacon Cheddar Pretzel Pieces</td>\n      <td>107</td>\n      <td>19</td>\n      <td>3.6</td>\n    </tr>\n    <tr>\n      <th>49669</th>\n      <td>49665</td>\n      <td>Super Dark Coconut Ash &amp; Banana Chocolate Bar</td>\n      <td>45</td>\n      <td>19</td>\n      <td>6.9</td>\n    </tr>\n    <tr>\n      <th>49670</th>\n      <td>49666</td>\n      <td>Ginger Snaps Snacking Cookies</td>\n      <td>61</td>\n      <td>19</td>\n      <td>5.2</td>\n    </tr>\n    <tr>\n      <th>49675</th>\n      <td>49671</td>\n      <td>Milk Chocolate Drops</td>\n      <td>45</td>\n      <td>19</td>\n      <td>3.0</td>\n    </tr>\n    <tr>\n      <th>49683</th>\n      <td>49679</td>\n      <td>Famous Chocolate Wafers</td>\n      <td>61</td>\n      <td>19</td>\n      <td>6.0</td>\n    </tr>\n  </tbody>\n</table>\n<p>6264 rows × 5 columns</p>\n</div>"
     },
     "execution_count": 23,
     "metadata": {},
     "output_type": "execute_result"
    }
   ],
   "source": [
    "df_snacks_2"
   ]
  },
  {
   "cell_type": "code",
   "execution_count": 24,
   "id": "fc8293cc",
   "metadata": {
    "pycharm": {
     "name": "#%%\n"
    }
   },
   "outputs": [],
   "source": [
    "df_ords.to_csv(os.path.join(path, 'orders_wrangled.csv'))"
   ]
  },
  {
   "cell_type": "markdown",
   "id": "94b0c21c",
   "metadata": {
    "pycharm": {
     "name": "#%% md\n"
    }
   },
   "source": [
    "Exercise 4.4 Answers"
   ]
  },
  {
   "cell_type": "markdown",
   "id": "9e230627",
   "metadata": {
    "pycharm": {
     "name": "#%% md\n"
    }
   },
   "source": [
    "2"
   ]
  },
  {
   "cell_type": "code",
   "execution_count": 25,
   "id": "3ffc67e2",
   "metadata": {
    "pycharm": {
     "name": "#%%\n"
    }
   },
   "outputs": [],
   "source": [
    "df_ords['eval_set'] = df_ords['eval_set'].astype('str')"
   ]
  },
  {
   "cell_type": "markdown",
   "id": "9991a9ca",
   "metadata": {
    "pycharm": {
     "name": "#%% md\n"
    }
   },
   "source": [
    "3"
   ]
  },
  {
   "cell_type": "code",
   "execution_count": 26,
   "id": "1cdf2094",
   "metadata": {
    "pycharm": {
     "name": "#%%\n"
    }
   },
   "outputs": [],
   "source": [
    "df_ords.rename(columns = {'order_dow' : 'day_of_week'}, inplace = True)"
   ]
  },
  {
   "cell_type": "code",
   "execution_count": 27,
   "id": "c21c4ae3",
   "metadata": {
    "pycharm": {
     "name": "#%%\n"
    }
   },
   "outputs": [
    {
     "data": {
      "text/plain": "4"
     },
     "execution_count": 27,
     "metadata": {},
     "output_type": "execute_result"
    }
   ],
   "source": [
    "4"
   ]
  },
  {
   "cell_type": "code",
   "execution_count": 28,
   "id": "95ecdf84",
   "metadata": {
    "scrolled": false,
    "pycharm": {
     "name": "#%%\n"
    }
   },
   "outputs": [
    {
     "data": {
      "text/plain": "10    288418\n11    284728\n15    283639\n14    283042\n13    277999\n12    272841\n16    272553\n9     257812\n17    228795\n18    182912\n8     178201\n19    140569\n20    104292\n7      91868\n21     78109\n22     61468\n23     40043\n6      30529\n0      22758\n1      12398\n5       9569\n2       7539\n4       5527\n3       5474\nName: order_hour_of_day, dtype: int64"
     },
     "execution_count": 28,
     "metadata": {},
     "output_type": "execute_result"
    }
   ],
   "source": [
    "df_ords['order_hour_of_day'].value_counts(dropna = False)"
   ]
  },
  {
   "cell_type": "markdown",
   "id": "04e879a5",
   "metadata": {
    "pycharm": {
     "name": "#%% md\n"
    }
   },
   "source": [
    "10am is the busiest hour of the day"
   ]
  },
  {
   "cell_type": "markdown",
   "id": "a98f92f8",
   "metadata": {
    "pycharm": {
     "name": "#%% md\n"
    }
   },
   "source": [
    "5"
   ]
  },
  {
   "cell_type": "code",
   "execution_count": 29,
   "id": "05f96574",
   "metadata": {
    "pycharm": {
     "name": "#%%\n"
    }
   },
   "outputs": [
    {
     "data": {
      "text/plain": "{'department': {1: 'frozen',\n  2: 'other',\n  3: 'bakery',\n  4: 'produce',\n  5: 'alcohol',\n  6: 'international',\n  7: 'beverages',\n  8: 'pets',\n  9: 'dry goods pasta',\n  10: 'bulk',\n  11: 'personal care',\n  12: 'meat seafood',\n  13: 'pantry',\n  14: 'breakfast',\n  15: 'canned goods',\n  16: 'dairy eggs',\n  17: 'household',\n  18: 'babies',\n  19: 'snacks',\n  20: 'deli',\n  21: 'missing'}}"
     },
     "execution_count": 29,
     "metadata": {},
     "output_type": "execute_result"
    }
   ],
   "source": [
    "data_dict"
   ]
  },
  {
   "cell_type": "markdown",
   "id": "963b7738",
   "metadata": {
    "pycharm": {
     "name": "#%% md\n"
    }
   },
   "source": [
    "A value of 4 means produce."
   ]
  },
  {
   "cell_type": "markdown",
   "id": "17c81f11",
   "metadata": {
    "pycharm": {
     "name": "#%% md\n"
    }
   },
   "source": [
    "6"
   ]
  },
  {
   "cell_type": "code",
   "execution_count": 30,
   "id": "e9a48fde",
   "metadata": {
    "pycharm": {
     "name": "#%%\n"
    }
   },
   "outputs": [],
   "source": [
    "df_breakfast = df_prods[df_prods['department_id']==14]"
   ]
  },
  {
   "cell_type": "markdown",
   "id": "74afc26f",
   "metadata": {
    "pycharm": {
     "name": "#%% md\n"
    }
   },
   "source": [
    "7"
   ]
  },
  {
   "cell_type": "code",
   "execution_count": 31,
   "id": "d3e3c88c",
   "metadata": {
    "pycharm": {
     "name": "#%%\n"
    }
   },
   "outputs": [],
   "source": [
    "df_dinnerp = df_prods.loc[df_prods['department_id'].isin([5,20,7,12])]"
   ]
  },
  {
   "cell_type": "code",
   "execution_count": 32,
   "id": "b9297ea3",
   "metadata": {
    "pycharm": {
     "name": "#%%\n"
    }
   },
   "outputs": [
    {
     "data": {
      "text/plain": "       product_id                                    product_name  aisle_id  \\\n2               3            Robust Golden Unsweetened Oolong Tea        94   \n6               7                  Pure Coconut Water With Orange        98   \n9              10  Sparkling Orange Juice & Prickly Pear Beverage       115   \n10             11                               Peach Mango Juice        31   \n16             17                               Rendered Duck Fat        35   \n...           ...                                             ...       ...   \n49676       49672                          Cafe Mocha K-Cup Packs        26   \n49679       49675             Cinnamon Dolce Keurig Brewed K Cups        26   \n49680       49676                          Ultra Red Energy Drink        64   \n49686       49682                              California Limeade        98   \n49688       49684       Vodka, Triple Distilled, Twist of Vanilla       124   \n\n       department_id  prices  \n2                  7     4.5  \n6                  7     4.4  \n9                  7     8.4  \n10                 7     2.8  \n16                12    17.1  \n...              ...     ...  \n49676              7     6.5  \n49679              7    14.0  \n49680              7    14.5  \n49686              7     4.3  \n49688              5     5.3  \n\n[7650 rows x 5 columns]",
      "text/html": "<div>\n<style scoped>\n    .dataframe tbody tr th:only-of-type {\n        vertical-align: middle;\n    }\n\n    .dataframe tbody tr th {\n        vertical-align: top;\n    }\n\n    .dataframe thead th {\n        text-align: right;\n    }\n</style>\n<table border=\"1\" class=\"dataframe\">\n  <thead>\n    <tr style=\"text-align: right;\">\n      <th></th>\n      <th>product_id</th>\n      <th>product_name</th>\n      <th>aisle_id</th>\n      <th>department_id</th>\n      <th>prices</th>\n    </tr>\n  </thead>\n  <tbody>\n    <tr>\n      <th>2</th>\n      <td>3</td>\n      <td>Robust Golden Unsweetened Oolong Tea</td>\n      <td>94</td>\n      <td>7</td>\n      <td>4.5</td>\n    </tr>\n    <tr>\n      <th>6</th>\n      <td>7</td>\n      <td>Pure Coconut Water With Orange</td>\n      <td>98</td>\n      <td>7</td>\n      <td>4.4</td>\n    </tr>\n    <tr>\n      <th>9</th>\n      <td>10</td>\n      <td>Sparkling Orange Juice &amp; Prickly Pear Beverage</td>\n      <td>115</td>\n      <td>7</td>\n      <td>8.4</td>\n    </tr>\n    <tr>\n      <th>10</th>\n      <td>11</td>\n      <td>Peach Mango Juice</td>\n      <td>31</td>\n      <td>7</td>\n      <td>2.8</td>\n    </tr>\n    <tr>\n      <th>16</th>\n      <td>17</td>\n      <td>Rendered Duck Fat</td>\n      <td>35</td>\n      <td>12</td>\n      <td>17.1</td>\n    </tr>\n    <tr>\n      <th>...</th>\n      <td>...</td>\n      <td>...</td>\n      <td>...</td>\n      <td>...</td>\n      <td>...</td>\n    </tr>\n    <tr>\n      <th>49676</th>\n      <td>49672</td>\n      <td>Cafe Mocha K-Cup Packs</td>\n      <td>26</td>\n      <td>7</td>\n      <td>6.5</td>\n    </tr>\n    <tr>\n      <th>49679</th>\n      <td>49675</td>\n      <td>Cinnamon Dolce Keurig Brewed K Cups</td>\n      <td>26</td>\n      <td>7</td>\n      <td>14.0</td>\n    </tr>\n    <tr>\n      <th>49680</th>\n      <td>49676</td>\n      <td>Ultra Red Energy Drink</td>\n      <td>64</td>\n      <td>7</td>\n      <td>14.5</td>\n    </tr>\n    <tr>\n      <th>49686</th>\n      <td>49682</td>\n      <td>California Limeade</td>\n      <td>98</td>\n      <td>7</td>\n      <td>4.3</td>\n    </tr>\n    <tr>\n      <th>49688</th>\n      <td>49684</td>\n      <td>Vodka, Triple Distilled, Twist of Vanilla</td>\n      <td>124</td>\n      <td>5</td>\n      <td>5.3</td>\n    </tr>\n  </tbody>\n</table>\n<p>7650 rows × 5 columns</p>\n</div>"
     },
     "execution_count": 32,
     "metadata": {},
     "output_type": "execute_result"
    }
   ],
   "source": [
    "df_dinnerp"
   ]
  },
  {
   "cell_type": "markdown",
   "id": "852872fa",
   "metadata": {
    "pycharm": {
     "name": "#%% md\n"
    }
   },
   "source": [
    "8"
   ]
  },
  {
   "cell_type": "markdown",
   "id": "044791a3",
   "metadata": {
    "pycharm": {
     "name": "#%% md\n"
    }
   },
   "source": [
    "7650"
   ]
  },
  {
   "cell_type": "code",
   "execution_count": 33,
   "id": "cefb9fc1",
   "metadata": {
    "pycharm": {
     "name": "#%%\n"
    }
   },
   "outputs": [],
   "source": [
    "df_ords_usr1 = df_ords.loc[df_ords['user_id'] == 1]\n"
   ]
  },
  {
   "cell_type": "code",
   "execution_count": 34,
   "id": "8cf16167",
   "metadata": {
    "pycharm": {
     "name": "#%%\n"
    }
   },
   "outputs": [
    {
     "data": {
      "text/plain": "    order_id  user_id eval_set  order_number  day_of_week  order_hour_of_day  \\\n0    2539329        1    prior             1            2                  8   \n1    2398795        1    prior             2            3                  7   \n2     473747        1    prior             3            3                 12   \n3    2254736        1    prior             4            4                  7   \n4     431534        1    prior             5            4                 15   \n5    3367565        1    prior             6            2                  7   \n6     550135        1    prior             7            1                  9   \n7    3108588        1    prior             8            1                 14   \n8    2295261        1    prior             9            1                 16   \n9    2550362        1    prior            10            4                  8   \n10   1187899        1    train            11            4                  8   \n\n    days_since_prior_order  \n0                      NaN  \n1                     15.0  \n2                     21.0  \n3                     29.0  \n4                     28.0  \n5                     19.0  \n6                     20.0  \n7                     14.0  \n8                      0.0  \n9                     30.0  \n10                    14.0  ",
      "text/html": "<div>\n<style scoped>\n    .dataframe tbody tr th:only-of-type {\n        vertical-align: middle;\n    }\n\n    .dataframe tbody tr th {\n        vertical-align: top;\n    }\n\n    .dataframe thead th {\n        text-align: right;\n    }\n</style>\n<table border=\"1\" class=\"dataframe\">\n  <thead>\n    <tr style=\"text-align: right;\">\n      <th></th>\n      <th>order_id</th>\n      <th>user_id</th>\n      <th>eval_set</th>\n      <th>order_number</th>\n      <th>day_of_week</th>\n      <th>order_hour_of_day</th>\n      <th>days_since_prior_order</th>\n    </tr>\n  </thead>\n  <tbody>\n    <tr>\n      <th>0</th>\n      <td>2539329</td>\n      <td>1</td>\n      <td>prior</td>\n      <td>1</td>\n      <td>2</td>\n      <td>8</td>\n      <td>NaN</td>\n    </tr>\n    <tr>\n      <th>1</th>\n      <td>2398795</td>\n      <td>1</td>\n      <td>prior</td>\n      <td>2</td>\n      <td>3</td>\n      <td>7</td>\n      <td>15.0</td>\n    </tr>\n    <tr>\n      <th>2</th>\n      <td>473747</td>\n      <td>1</td>\n      <td>prior</td>\n      <td>3</td>\n      <td>3</td>\n      <td>12</td>\n      <td>21.0</td>\n    </tr>\n    <tr>\n      <th>3</th>\n      <td>2254736</td>\n      <td>1</td>\n      <td>prior</td>\n      <td>4</td>\n      <td>4</td>\n      <td>7</td>\n      <td>29.0</td>\n    </tr>\n    <tr>\n      <th>4</th>\n      <td>431534</td>\n      <td>1</td>\n      <td>prior</td>\n      <td>5</td>\n      <td>4</td>\n      <td>15</td>\n      <td>28.0</td>\n    </tr>\n    <tr>\n      <th>5</th>\n      <td>3367565</td>\n      <td>1</td>\n      <td>prior</td>\n      <td>6</td>\n      <td>2</td>\n      <td>7</td>\n      <td>19.0</td>\n    </tr>\n    <tr>\n      <th>6</th>\n      <td>550135</td>\n      <td>1</td>\n      <td>prior</td>\n      <td>7</td>\n      <td>1</td>\n      <td>9</td>\n      <td>20.0</td>\n    </tr>\n    <tr>\n      <th>7</th>\n      <td>3108588</td>\n      <td>1</td>\n      <td>prior</td>\n      <td>8</td>\n      <td>1</td>\n      <td>14</td>\n      <td>14.0</td>\n    </tr>\n    <tr>\n      <th>8</th>\n      <td>2295261</td>\n      <td>1</td>\n      <td>prior</td>\n      <td>9</td>\n      <td>1</td>\n      <td>16</td>\n      <td>0.0</td>\n    </tr>\n    <tr>\n      <th>9</th>\n      <td>2550362</td>\n      <td>1</td>\n      <td>prior</td>\n      <td>10</td>\n      <td>4</td>\n      <td>8</td>\n      <td>30.0</td>\n    </tr>\n    <tr>\n      <th>10</th>\n      <td>1187899</td>\n      <td>1</td>\n      <td>train</td>\n      <td>11</td>\n      <td>4</td>\n      <td>8</td>\n      <td>14.0</td>\n    </tr>\n  </tbody>\n</table>\n</div>"
     },
     "execution_count": 34,
     "metadata": {},
     "output_type": "execute_result"
    }
   ],
   "source": [
    "df_ords_usr1"
   ]
  },
  {
   "cell_type": "code",
   "execution_count": 35,
   "id": "67e185ad",
   "metadata": {
    "pycharm": {
     "name": "#%%\n"
    }
   },
   "outputs": [
    {
     "data": {
      "text/plain": "           order_id  user_id  order_number  day_of_week  order_hour_of_day  \\\ncount  1.100000e+01     11.0     11.000000    11.000000          11.000000   \nmean   1.923450e+06      1.0      6.000000     2.636364          10.090909   \nstd    1.071950e+06      0.0      3.316625     1.286291           3.477198   \nmin    4.315340e+05      1.0      1.000000     1.000000           7.000000   \n25%    8.690170e+05      1.0      3.500000     1.500000           7.500000   \n50%    2.295261e+06      1.0      6.000000     3.000000           8.000000   \n75%    2.544846e+06      1.0      8.500000     4.000000          13.000000   \nmax    3.367565e+06      1.0     11.000000     4.000000          16.000000   \n\n       days_since_prior_order  \ncount               10.000000  \nmean                19.000000  \nstd                  9.030811  \nmin                  0.000000  \n25%                 14.250000  \n50%                 19.500000  \n75%                 26.250000  \nmax                 30.000000  ",
      "text/html": "<div>\n<style scoped>\n    .dataframe tbody tr th:only-of-type {\n        vertical-align: middle;\n    }\n\n    .dataframe tbody tr th {\n        vertical-align: top;\n    }\n\n    .dataframe thead th {\n        text-align: right;\n    }\n</style>\n<table border=\"1\" class=\"dataframe\">\n  <thead>\n    <tr style=\"text-align: right;\">\n      <th></th>\n      <th>order_id</th>\n      <th>user_id</th>\n      <th>order_number</th>\n      <th>day_of_week</th>\n      <th>order_hour_of_day</th>\n      <th>days_since_prior_order</th>\n    </tr>\n  </thead>\n  <tbody>\n    <tr>\n      <th>count</th>\n      <td>1.100000e+01</td>\n      <td>11.0</td>\n      <td>11.000000</td>\n      <td>11.000000</td>\n      <td>11.000000</td>\n      <td>10.000000</td>\n    </tr>\n    <tr>\n      <th>mean</th>\n      <td>1.923450e+06</td>\n      <td>1.0</td>\n      <td>6.000000</td>\n      <td>2.636364</td>\n      <td>10.090909</td>\n      <td>19.000000</td>\n    </tr>\n    <tr>\n      <th>std</th>\n      <td>1.071950e+06</td>\n      <td>0.0</td>\n      <td>3.316625</td>\n      <td>1.286291</td>\n      <td>3.477198</td>\n      <td>9.030811</td>\n    </tr>\n    <tr>\n      <th>min</th>\n      <td>4.315340e+05</td>\n      <td>1.0</td>\n      <td>1.000000</td>\n      <td>1.000000</td>\n      <td>7.000000</td>\n      <td>0.000000</td>\n    </tr>\n    <tr>\n      <th>25%</th>\n      <td>8.690170e+05</td>\n      <td>1.0</td>\n      <td>3.500000</td>\n      <td>1.500000</td>\n      <td>7.500000</td>\n      <td>14.250000</td>\n    </tr>\n    <tr>\n      <th>50%</th>\n      <td>2.295261e+06</td>\n      <td>1.0</td>\n      <td>6.000000</td>\n      <td>3.000000</td>\n      <td>8.000000</td>\n      <td>19.500000</td>\n    </tr>\n    <tr>\n      <th>75%</th>\n      <td>2.544846e+06</td>\n      <td>1.0</td>\n      <td>8.500000</td>\n      <td>4.000000</td>\n      <td>13.000000</td>\n      <td>26.250000</td>\n    </tr>\n    <tr>\n      <th>max</th>\n      <td>3.367565e+06</td>\n      <td>1.0</td>\n      <td>11.000000</td>\n      <td>4.000000</td>\n      <td>16.000000</td>\n      <td>30.000000</td>\n    </tr>\n  </tbody>\n</table>\n</div>"
     },
     "execution_count": 35,
     "metadata": {},
     "output_type": "execute_result"
    }
   ],
   "source": [
    "df_ords_usr1.describe()"
   ]
  },
  {
   "cell_type": "code",
   "execution_count": 36,
   "id": "075ba7eb",
   "metadata": {
    "pycharm": {
     "name": "#%%\n"
    }
   },
   "outputs": [
    {
     "data": {
      "text/plain": "order_id  user_id  eval_set  order_number  day_of_week  order_hour_of_day  days_since_prior_order\n431534    1        prior     5             4            15                 28.0                      1\n473747    1        prior     3             3            12                 21.0                      1\n550135    1        prior     7             1            9                  20.0                      1\n1187899   1        train     11            4            8                  14.0                      1\n2254736   1        prior     4             4            7                  29.0                      1\n2295261   1        prior     9             1            16                 0.0                       1\n2398795   1        prior     2             3            7                  15.0                      1\n2550362   1        prior     10            4            8                  30.0                      1\n3108588   1        prior     8             1            14                 14.0                      1\n3367565   1        prior     6             2            7                  19.0                      1\ndtype: int64"
     },
     "execution_count": 36,
     "metadata": {},
     "output_type": "execute_result"
    }
   ],
   "source": [
    "df_ords_usr1.value_counts()"
   ]
  },
  {
   "cell_type": "code",
   "execution_count": 37,
   "id": "ca5bc4fa",
   "metadata": {
    "pycharm": {
     "name": "#%%\n"
    }
   },
   "outputs": [
    {
     "data": {
      "text/plain": "order_id                  11\nuser_id                    1\neval_set                   2\norder_number              11\nday_of_week                4\norder_hour_of_day          7\ndays_since_prior_order     9\ndtype: int64"
     },
     "execution_count": 37,
     "metadata": {},
     "output_type": "execute_result"
    }
   ],
   "source": [
    "df_ords_usr1.nunique()"
   ]
  },
  {
   "cell_type": "code",
   "execution_count": 38,
   "id": "32a42cb1",
   "metadata": {
    "pycharm": {
     "name": "#%%\n"
    }
   },
   "outputs": [
    {
     "data": {
      "text/plain": "department_id      1      2       3        4        5              6   \\\ndepartment     frozen  other  bakery  produce  alcohol  international   \n\ndepartment_id         7     8                9     10  ...            12  \\\ndepartment     beverages  pets  dry goods pasta  bulk  ...  meat seafood   \n\ndepartment_id      13         14            15          16         17      18  \\\ndepartment     pantry  breakfast  canned goods  dairy eggs  household  babies   \n\ndepartment_id      19    20       21  \ndepartment     snacks  deli  missing  \n\n[1 rows x 21 columns]",
      "text/html": "<div>\n<style scoped>\n    .dataframe tbody tr th:only-of-type {\n        vertical-align: middle;\n    }\n\n    .dataframe tbody tr th {\n        vertical-align: top;\n    }\n\n    .dataframe thead th {\n        text-align: right;\n    }\n</style>\n<table border=\"1\" class=\"dataframe\">\n  <thead>\n    <tr style=\"text-align: right;\">\n      <th>department_id</th>\n      <th>1</th>\n      <th>2</th>\n      <th>3</th>\n      <th>4</th>\n      <th>5</th>\n      <th>6</th>\n      <th>7</th>\n      <th>8</th>\n      <th>9</th>\n      <th>10</th>\n      <th>...</th>\n      <th>12</th>\n      <th>13</th>\n      <th>14</th>\n      <th>15</th>\n      <th>16</th>\n      <th>17</th>\n      <th>18</th>\n      <th>19</th>\n      <th>20</th>\n      <th>21</th>\n    </tr>\n  </thead>\n  <tbody>\n    <tr>\n      <th>department</th>\n      <td>frozen</td>\n      <td>other</td>\n      <td>bakery</td>\n      <td>produce</td>\n      <td>alcohol</td>\n      <td>international</td>\n      <td>beverages</td>\n      <td>pets</td>\n      <td>dry goods pasta</td>\n      <td>bulk</td>\n      <td>...</td>\n      <td>meat seafood</td>\n      <td>pantry</td>\n      <td>breakfast</td>\n      <td>canned goods</td>\n      <td>dairy eggs</td>\n      <td>household</td>\n      <td>babies</td>\n      <td>snacks</td>\n      <td>deli</td>\n      <td>missing</td>\n    </tr>\n  </tbody>\n</table>\n<p>1 rows × 21 columns</p>\n</div>"
     },
     "execution_count": 38,
     "metadata": {},
     "output_type": "execute_result"
    }
   ],
   "source": [
    "df_dep_t_new"
   ]
  },
  {
   "cell_type": "code",
   "execution_count": 39,
   "id": "472f1ef3",
   "metadata": {
    "pycharm": {
     "name": "#%%\n"
    }
   },
   "outputs": [],
   "source": [
    "df_dep_t_new.to_csv(os.path.join(path, 'departments_wrangled.csv'))"
   ]
  },
  {
   "cell_type": "code",
   "execution_count": 39,
   "id": "848eed68",
   "metadata": {
    "pycharm": {
     "name": "#%%\n"
    }
   },
   "outputs": [],
   "source": []
  }
 ],
 "metadata": {
  "kernelspec": {
   "display_name": "Python 3 (ipykernel)",
   "language": "python",
   "name": "python3"
  },
  "language_info": {
   "codemirror_mode": {
    "name": "ipython",
    "version": 3
   },
   "file_extension": ".py",
   "mimetype": "text/x-python",
   "name": "python",
   "nbconvert_exporter": "python",
   "pygments_lexer": "ipython3",
   "version": "3.9.12"
  }
 },
 "nbformat": 4,
 "nbformat_minor": 5
}