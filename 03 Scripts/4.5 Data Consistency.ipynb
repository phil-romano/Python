{
 "cells": [
  {
   "cell_type": "code",
   "execution_count": 2,
   "id": "ce1e759b",
   "metadata": {
    "pycharm": {
     "name": "#%%\n"
    }
   },
   "outputs": [],
   "source": [
    "#Import Libraries\n",
    "import pandas as pd\n",
    "import numpy as np\n",
    "import os\n",
    "\n",
    "#dataframes\n",
    "path = r'..\\02 Data\\Original Data'\n",
    "path2 = r'..\\02 Data\\Prepared Data'\n",
    "\n",
    "#import departments dataframe\n",
    "df_prods = pd.read_csv(os.path.join(path, 'products.csv'), index_col = False)\n",
    "df_ords = pd.read_csv(os.path.join(path2,'orders_wrangled.csv'), index_col = False)"
   ]
  },
  {
   "cell_type": "code",
   "execution_count": 3,
   "id": "006b8c47",
   "metadata": {
    "pycharm": {
     "name": "#%%\n"
    }
   },
   "outputs": [
    {
     "data": {
      "text/plain": "         Unnamed: 0      order_id       user_id  order_number     order_dow  \\\ncount  3.421083e+06  3.421083e+06  3.421083e+06  3.421083e+06  3.421083e+06   \nmean   1.710541e+06  1.710542e+06  1.029782e+05  1.715486e+01  2.776219e+00   \nstd    9.875817e+05  9.875817e+05  5.953372e+04  1.773316e+01  2.046829e+00   \nmin    0.000000e+00  1.000000e+00  1.000000e+00  1.000000e+00  0.000000e+00   \n25%    8.552705e+05  8.552715e+05  5.139400e+04  5.000000e+00  1.000000e+00   \n50%    1.710541e+06  1.710542e+06  1.026890e+05  1.100000e+01  3.000000e+00   \n75%    2.565812e+06  2.565812e+06  1.543850e+05  2.300000e+01  5.000000e+00   \nmax    3.421082e+06  3.421083e+06  2.062090e+05  1.000000e+02  6.000000e+00   \n\n       order_hour_of_day  days_since_prior_order  \ncount       3.421083e+06            3.214874e+06  \nmean        1.345202e+01            1.111484e+01  \nstd         4.226088e+00            9.206737e+00  \nmin         0.000000e+00            0.000000e+00  \n25%         1.000000e+01            4.000000e+00  \n50%         1.300000e+01            7.000000e+00  \n75%         1.600000e+01            1.500000e+01  \nmax         2.300000e+01            3.000000e+01  ",
      "text/html": "<div>\n<style scoped>\n    .dataframe tbody tr th:only-of-type {\n        vertical-align: middle;\n    }\n\n    .dataframe tbody tr th {\n        vertical-align: top;\n    }\n\n    .dataframe thead th {\n        text-align: right;\n    }\n</style>\n<table border=\"1\" class=\"dataframe\">\n  <thead>\n    <tr style=\"text-align: right;\">\n      <th></th>\n      <th>Unnamed: 0</th>\n      <th>order_id</th>\n      <th>user_id</th>\n      <th>order_number</th>\n      <th>order_dow</th>\n      <th>order_hour_of_day</th>\n      <th>days_since_prior_order</th>\n    </tr>\n  </thead>\n  <tbody>\n    <tr>\n      <th>count</th>\n      <td>3.421083e+06</td>\n      <td>3.421083e+06</td>\n      <td>3.421083e+06</td>\n      <td>3.421083e+06</td>\n      <td>3.421083e+06</td>\n      <td>3.421083e+06</td>\n      <td>3.214874e+06</td>\n    </tr>\n    <tr>\n      <th>mean</th>\n      <td>1.710541e+06</td>\n      <td>1.710542e+06</td>\n      <td>1.029782e+05</td>\n      <td>1.715486e+01</td>\n      <td>2.776219e+00</td>\n      <td>1.345202e+01</td>\n      <td>1.111484e+01</td>\n    </tr>\n    <tr>\n      <th>std</th>\n      <td>9.875817e+05</td>\n      <td>9.875817e+05</td>\n      <td>5.953372e+04</td>\n      <td>1.773316e+01</td>\n      <td>2.046829e+00</td>\n      <td>4.226088e+00</td>\n      <td>9.206737e+00</td>\n    </tr>\n    <tr>\n      <th>min</th>\n      <td>0.000000e+00</td>\n      <td>1.000000e+00</td>\n      <td>1.000000e+00</td>\n      <td>1.000000e+00</td>\n      <td>0.000000e+00</td>\n      <td>0.000000e+00</td>\n      <td>0.000000e+00</td>\n    </tr>\n    <tr>\n      <th>25%</th>\n      <td>8.552705e+05</td>\n      <td>8.552715e+05</td>\n      <td>5.139400e+04</td>\n      <td>5.000000e+00</td>\n      <td>1.000000e+00</td>\n      <td>1.000000e+01</td>\n      <td>4.000000e+00</td>\n    </tr>\n    <tr>\n      <th>50%</th>\n      <td>1.710541e+06</td>\n      <td>1.710542e+06</td>\n      <td>1.026890e+05</td>\n      <td>1.100000e+01</td>\n      <td>3.000000e+00</td>\n      <td>1.300000e+01</td>\n      <td>7.000000e+00</td>\n    </tr>\n    <tr>\n      <th>75%</th>\n      <td>2.565812e+06</td>\n      <td>2.565812e+06</td>\n      <td>1.543850e+05</td>\n      <td>2.300000e+01</td>\n      <td>5.000000e+00</td>\n      <td>1.600000e+01</td>\n      <td>1.500000e+01</td>\n    </tr>\n    <tr>\n      <th>max</th>\n      <td>3.421082e+06</td>\n      <td>3.421083e+06</td>\n      <td>2.062090e+05</td>\n      <td>1.000000e+02</td>\n      <td>6.000000e+00</td>\n      <td>2.300000e+01</td>\n      <td>3.000000e+01</td>\n    </tr>\n  </tbody>\n</table>\n</div>"
     },
     "execution_count": 3,
     "metadata": {},
     "output_type": "execute_result"
    }
   ],
   "source": [
    "df_ords.describe()"
   ]
  },
  {
   "cell_type": "code",
   "execution_count": 4,
   "id": "d744a602",
   "metadata": {
    "pycharm": {
     "name": "#%%\n"
    }
   },
   "outputs": [],
   "source": [
    "#create a dataframe\n",
    "\n",
    "df_test = pd.DataFrame()\n",
    "\n",
    "#create a mixed-type dataframe\n",
    "df_test['mix'] = ['a', 'b', 1, True]"
   ]
  },
  {
   "cell_type": "code",
   "execution_count": 5,
   "id": "f50be428",
   "metadata": {
    "pycharm": {
     "name": "#%%\n"
    }
   },
   "outputs": [
    {
     "data": {
      "text/plain": "    mix\n0     a\n1     b\n2     1\n3  True",
      "text/html": "<div>\n<style scoped>\n    .dataframe tbody tr th:only-of-type {\n        vertical-align: middle;\n    }\n\n    .dataframe tbody tr th {\n        vertical-align: top;\n    }\n\n    .dataframe thead th {\n        text-align: right;\n    }\n</style>\n<table border=\"1\" class=\"dataframe\">\n  <thead>\n    <tr style=\"text-align: right;\">\n      <th></th>\n      <th>mix</th>\n    </tr>\n  </thead>\n  <tbody>\n    <tr>\n      <th>0</th>\n      <td>a</td>\n    </tr>\n    <tr>\n      <th>1</th>\n      <td>b</td>\n    </tr>\n    <tr>\n      <th>2</th>\n      <td>1</td>\n    </tr>\n    <tr>\n      <th>3</th>\n      <td>True</td>\n    </tr>\n  </tbody>\n</table>\n</div>"
     },
     "execution_count": 5,
     "metadata": {},
     "output_type": "execute_result"
    }
   ],
   "source": [
    "df_test.head()"
   ]
  },
  {
   "cell_type": "code",
   "execution_count": 6,
   "id": "95c171b4",
   "metadata": {
    "pycharm": {
     "name": "#%%\n"
    }
   },
   "outputs": [
    {
     "name": "stdout",
     "output_type": "stream",
     "text": [
      "mix\n"
     ]
    }
   ],
   "source": [
    "for col in df_test.columns.tolist():\n",
    "  weird = (df_test[[col]].applymap(type) != df_test[[col]].iloc[0].apply(type)).any(axis = 1)\n",
    "  if len (df_test[weird]) > 0:\n",
    "    print (col)"
   ]
  },
  {
   "cell_type": "code",
   "execution_count": 7,
   "id": "56224996",
   "metadata": {
    "pycharm": {
     "name": "#%%\n"
    }
   },
   "outputs": [],
   "source": [
    "df_test['mix'] = df_test['mix'].astype('str')"
   ]
  },
  {
   "cell_type": "code",
   "execution_count": 8,
   "id": "21554ec8",
   "metadata": {
    "pycharm": {
     "name": "#%%\n"
    }
   },
   "outputs": [
    {
     "data": {
      "text/plain": "product_id        0\nproduct_name     16\naisle_id          0\ndepartment_id     0\nprices            0\ndtype: int64"
     },
     "execution_count": 8,
     "metadata": {},
     "output_type": "execute_result"
    }
   ],
   "source": [
    "df_prods.isnull().sum()"
   ]
  },
  {
   "cell_type": "code",
   "execution_count": 9,
   "id": "29dfe130",
   "metadata": {
    "pycharm": {
     "name": "#%%\n"
    }
   },
   "outputs": [],
   "source": [
    "df_nan = df_prods[df_prods['product_name'].isnull() == True]"
   ]
  },
  {
   "cell_type": "code",
   "execution_count": 10,
   "id": "14a502de",
   "metadata": {
    "pycharm": {
     "name": "#%%\n"
    }
   },
   "outputs": [
    {
     "data": {
      "text/plain": "       product_id product_name  aisle_id  department_id  prices\n33             34          NaN       121             14    12.2\n68             69          NaN        26              7    11.8\n115           116          NaN        93              3    10.8\n261           262          NaN       110             13    12.1\n525           525          NaN       109             11     1.2\n1511         1511          NaN        84             16    14.3\n1780         1780          NaN       126             11    12.3\n2240         2240          NaN        52              1    14.2\n2586         2586          NaN       104             13    12.4\n3159         3159          NaN       126             11    13.1\n3230         3230          NaN       120             16    14.4\n3736         3736          NaN        41              8    14.8\n4283         4283          NaN        77              7    14.4\n4790         4790          NaN        91             16    14.5\n38187       38183          NaN        39             12    20.9\n40444       40440          NaN       120             16    14.8",
      "text/html": "<div>\n<style scoped>\n    .dataframe tbody tr th:only-of-type {\n        vertical-align: middle;\n    }\n\n    .dataframe tbody tr th {\n        vertical-align: top;\n    }\n\n    .dataframe thead th {\n        text-align: right;\n    }\n</style>\n<table border=\"1\" class=\"dataframe\">\n  <thead>\n    <tr style=\"text-align: right;\">\n      <th></th>\n      <th>product_id</th>\n      <th>product_name</th>\n      <th>aisle_id</th>\n      <th>department_id</th>\n      <th>prices</th>\n    </tr>\n  </thead>\n  <tbody>\n    <tr>\n      <th>33</th>\n      <td>34</td>\n      <td>NaN</td>\n      <td>121</td>\n      <td>14</td>\n      <td>12.2</td>\n    </tr>\n    <tr>\n      <th>68</th>\n      <td>69</td>\n      <td>NaN</td>\n      <td>26</td>\n      <td>7</td>\n      <td>11.8</td>\n    </tr>\n    <tr>\n      <th>115</th>\n      <td>116</td>\n      <td>NaN</td>\n      <td>93</td>\n      <td>3</td>\n      <td>10.8</td>\n    </tr>\n    <tr>\n      <th>261</th>\n      <td>262</td>\n      <td>NaN</td>\n      <td>110</td>\n      <td>13</td>\n      <td>12.1</td>\n    </tr>\n    <tr>\n      <th>525</th>\n      <td>525</td>\n      <td>NaN</td>\n      <td>109</td>\n      <td>11</td>\n      <td>1.2</td>\n    </tr>\n    <tr>\n      <th>1511</th>\n      <td>1511</td>\n      <td>NaN</td>\n      <td>84</td>\n      <td>16</td>\n      <td>14.3</td>\n    </tr>\n    <tr>\n      <th>1780</th>\n      <td>1780</td>\n      <td>NaN</td>\n      <td>126</td>\n      <td>11</td>\n      <td>12.3</td>\n    </tr>\n    <tr>\n      <th>2240</th>\n      <td>2240</td>\n      <td>NaN</td>\n      <td>52</td>\n      <td>1</td>\n      <td>14.2</td>\n    </tr>\n    <tr>\n      <th>2586</th>\n      <td>2586</td>\n      <td>NaN</td>\n      <td>104</td>\n      <td>13</td>\n      <td>12.4</td>\n    </tr>\n    <tr>\n      <th>3159</th>\n      <td>3159</td>\n      <td>NaN</td>\n      <td>126</td>\n      <td>11</td>\n      <td>13.1</td>\n    </tr>\n    <tr>\n      <th>3230</th>\n      <td>3230</td>\n      <td>NaN</td>\n      <td>120</td>\n      <td>16</td>\n      <td>14.4</td>\n    </tr>\n    <tr>\n      <th>3736</th>\n      <td>3736</td>\n      <td>NaN</td>\n      <td>41</td>\n      <td>8</td>\n      <td>14.8</td>\n    </tr>\n    <tr>\n      <th>4283</th>\n      <td>4283</td>\n      <td>NaN</td>\n      <td>77</td>\n      <td>7</td>\n      <td>14.4</td>\n    </tr>\n    <tr>\n      <th>4790</th>\n      <td>4790</td>\n      <td>NaN</td>\n      <td>91</td>\n      <td>16</td>\n      <td>14.5</td>\n    </tr>\n    <tr>\n      <th>38187</th>\n      <td>38183</td>\n      <td>NaN</td>\n      <td>39</td>\n      <td>12</td>\n      <td>20.9</td>\n    </tr>\n    <tr>\n      <th>40444</th>\n      <td>40440</td>\n      <td>NaN</td>\n      <td>120</td>\n      <td>16</td>\n      <td>14.8</td>\n    </tr>\n  </tbody>\n</table>\n</div>"
     },
     "execution_count": 10,
     "metadata": {},
     "output_type": "execute_result"
    }
   ],
   "source": [
    "df_nan"
   ]
  },
  {
   "cell_type": "code",
   "execution_count": 11,
   "id": "a5512209",
   "metadata": {
    "pycharm": {
     "name": "#%%\n"
    }
   },
   "outputs": [
    {
     "data": {
      "text/plain": "         product_id    aisle_id  department_id     prices\ncount     16.000000   16.000000      16.000000  16.000000\nmean    6684.000000   89.937500      10.937500  13.012500\nstd    12836.665242   33.731229       4.639953   3.881731\nmin       34.000000   26.000000       1.000000   1.200000\n25%      459.250000   70.750000       7.750000  12.175000\n50%     2413.000000   98.500000      11.500000  13.650000\n75%     3872.750000  120.000000      14.500000  14.425000\nmax    40440.000000  126.000000      16.000000  20.900000",
      "text/html": "<div>\n<style scoped>\n    .dataframe tbody tr th:only-of-type {\n        vertical-align: middle;\n    }\n\n    .dataframe tbody tr th {\n        vertical-align: top;\n    }\n\n    .dataframe thead th {\n        text-align: right;\n    }\n</style>\n<table border=\"1\" class=\"dataframe\">\n  <thead>\n    <tr style=\"text-align: right;\">\n      <th></th>\n      <th>product_id</th>\n      <th>aisle_id</th>\n      <th>department_id</th>\n      <th>prices</th>\n    </tr>\n  </thead>\n  <tbody>\n    <tr>\n      <th>count</th>\n      <td>16.000000</td>\n      <td>16.000000</td>\n      <td>16.000000</td>\n      <td>16.000000</td>\n    </tr>\n    <tr>\n      <th>mean</th>\n      <td>6684.000000</td>\n      <td>89.937500</td>\n      <td>10.937500</td>\n      <td>13.012500</td>\n    </tr>\n    <tr>\n      <th>std</th>\n      <td>12836.665242</td>\n      <td>33.731229</td>\n      <td>4.639953</td>\n      <td>3.881731</td>\n    </tr>\n    <tr>\n      <th>min</th>\n      <td>34.000000</td>\n      <td>26.000000</td>\n      <td>1.000000</td>\n      <td>1.200000</td>\n    </tr>\n    <tr>\n      <th>25%</th>\n      <td>459.250000</td>\n      <td>70.750000</td>\n      <td>7.750000</td>\n      <td>12.175000</td>\n    </tr>\n    <tr>\n      <th>50%</th>\n      <td>2413.000000</td>\n      <td>98.500000</td>\n      <td>11.500000</td>\n      <td>13.650000</td>\n    </tr>\n    <tr>\n      <th>75%</th>\n      <td>3872.750000</td>\n      <td>120.000000</td>\n      <td>14.500000</td>\n      <td>14.425000</td>\n    </tr>\n    <tr>\n      <th>max</th>\n      <td>40440.000000</td>\n      <td>126.000000</td>\n      <td>16.000000</td>\n      <td>20.900000</td>\n    </tr>\n  </tbody>\n</table>\n</div>"
     },
     "execution_count": 11,
     "metadata": {},
     "output_type": "execute_result"
    }
   ],
   "source": [
    "df_nan.describe()"
   ]
  },
  {
   "cell_type": "code",
   "execution_count": 12,
   "id": "4c731682",
   "metadata": {
    "pycharm": {
     "name": "#%%\n"
    }
   },
   "outputs": [
    {
     "data": {
      "text/plain": "(49693, 5)"
     },
     "execution_count": 12,
     "metadata": {},
     "output_type": "execute_result"
    }
   ],
   "source": [
    "df_prods.shape"
   ]
  },
  {
   "cell_type": "code",
   "execution_count": 13,
   "id": "6ee430f9",
   "metadata": {
    "pycharm": {
     "name": "#%%\n"
    }
   },
   "outputs": [],
   "source": [
    "df_prods_clean = df_prods[df_prods['product_name'].isnull() == False]"
   ]
  },
  {
   "cell_type": "code",
   "execution_count": 14,
   "id": "95114bd7",
   "metadata": {
    "pycharm": {
     "name": "#%%\n"
    }
   },
   "outputs": [
    {
     "data": {
      "text/plain": "(49677, 5)"
     },
     "execution_count": 14,
     "metadata": {},
     "output_type": "execute_result"
    }
   ],
   "source": [
    "df_prods_clean.shape"
   ]
  },
  {
   "cell_type": "code",
   "execution_count": 15,
   "id": "bf5a8cd4",
   "metadata": {
    "pycharm": {
     "name": "#%%\n"
    }
   },
   "outputs": [
    {
     "data": {
      "text/plain": "       product_id                                       product_name  \\\n462           462                  Fiber 4g Gummy Dietary Supplement   \n18459       18458                                         Ranger IPA   \n26810       26808               Black House Coffee Roasty Stout Beer   \n35309       35306  Gluten Free Organic Peanut Butter & Chocolate ...   \n35495       35491                            Adore Forever Body Wash   \n\n       aisle_id  department_id  prices  \n462          70             11     4.8  \n18459        27              5     9.2  \n26810        27              5    13.4  \n35309       121             14     6.8  \n35495       127             11     9.9  ",
      "text/html": "<div>\n<style scoped>\n    .dataframe tbody tr th:only-of-type {\n        vertical-align: middle;\n    }\n\n    .dataframe tbody tr th {\n        vertical-align: top;\n    }\n\n    .dataframe thead th {\n        text-align: right;\n    }\n</style>\n<table border=\"1\" class=\"dataframe\">\n  <thead>\n    <tr style=\"text-align: right;\">\n      <th></th>\n      <th>product_id</th>\n      <th>product_name</th>\n      <th>aisle_id</th>\n      <th>department_id</th>\n      <th>prices</th>\n    </tr>\n  </thead>\n  <tbody>\n    <tr>\n      <th>462</th>\n      <td>462</td>\n      <td>Fiber 4g Gummy Dietary Supplement</td>\n      <td>70</td>\n      <td>11</td>\n      <td>4.8</td>\n    </tr>\n    <tr>\n      <th>18459</th>\n      <td>18458</td>\n      <td>Ranger IPA</td>\n      <td>27</td>\n      <td>5</td>\n      <td>9.2</td>\n    </tr>\n    <tr>\n      <th>26810</th>\n      <td>26808</td>\n      <td>Black House Coffee Roasty Stout Beer</td>\n      <td>27</td>\n      <td>5</td>\n      <td>13.4</td>\n    </tr>\n    <tr>\n      <th>35309</th>\n      <td>35306</td>\n      <td>Gluten Free Organic Peanut Butter &amp; Chocolate ...</td>\n      <td>121</td>\n      <td>14</td>\n      <td>6.8</td>\n    </tr>\n    <tr>\n      <th>35495</th>\n      <td>35491</td>\n      <td>Adore Forever Body Wash</td>\n      <td>127</td>\n      <td>11</td>\n      <td>9.9</td>\n    </tr>\n  </tbody>\n</table>\n</div>"
     },
     "execution_count": 15,
     "metadata": {},
     "output_type": "execute_result"
    }
   ],
   "source": [
    "df_dups = df_prods_clean[df_prods_clean.duplicated()]\n",
    "df_dups"
   ]
  },
  {
   "cell_type": "code",
   "execution_count": 16,
   "id": "db0c5b7f",
   "metadata": {
    "pycharm": {
     "name": "#%%\n"
    }
   },
   "outputs": [
    {
     "data": {
      "text/plain": "(49677, 5)"
     },
     "execution_count": 16,
     "metadata": {},
     "output_type": "execute_result"
    }
   ],
   "source": [
    "df_prods_clean.shape"
   ]
  },
  {
   "cell_type": "code",
   "execution_count": 17,
   "id": "72e50bad",
   "metadata": {
    "pycharm": {
     "name": "#%%\n"
    }
   },
   "outputs": [],
   "source": [
    "df_prods_clean_no_dups = df_prods_clean.drop_duplicates()"
   ]
  },
  {
   "cell_type": "code",
   "execution_count": 18,
   "id": "bf990f31",
   "metadata": {
    "pycharm": {
     "name": "#%%\n"
    }
   },
   "outputs": [
    {
     "data": {
      "text/plain": "(49672, 5)"
     },
     "execution_count": 18,
     "metadata": {},
     "output_type": "execute_result"
    }
   ],
   "source": [
    "df_prods_clean_no_dups.shape"
   ]
  },
  {
   "cell_type": "code",
   "execution_count": 18,
   "id": "e668ffab",
   "metadata": {
    "pycharm": {
     "name": "#%%\n"
    }
   },
   "outputs": [],
   "source": []
  },
  {
   "cell_type": "code",
   "execution_count": 19,
   "id": "951a5c88",
   "metadata": {
    "pycharm": {
     "name": "#%%\n"
    }
   },
   "outputs": [
    {
     "data": {
      "text/plain": "         product_id      aisle_id  department_id        prices\ncount  49672.000000  49672.000000   49672.000000  49672.000000\nmean   24850.349775     67.762442      11.728942      9.993282\nstd    14340.705287     38.315784       5.850779    453.615536\nmin        1.000000      1.000000       1.000000      1.000000\n25%    12432.750000     35.000000       7.000000      4.100000\n50%    24850.500000     69.000000      13.000000      7.100000\n75%    37268.250000    100.000000      17.000000     11.100000\nmax    49688.000000    134.000000      21.000000  99999.000000",
      "text/html": "<div>\n<style scoped>\n    .dataframe tbody tr th:only-of-type {\n        vertical-align: middle;\n    }\n\n    .dataframe tbody tr th {\n        vertical-align: top;\n    }\n\n    .dataframe thead th {\n        text-align: right;\n    }\n</style>\n<table border=\"1\" class=\"dataframe\">\n  <thead>\n    <tr style=\"text-align: right;\">\n      <th></th>\n      <th>product_id</th>\n      <th>aisle_id</th>\n      <th>department_id</th>\n      <th>prices</th>\n    </tr>\n  </thead>\n  <tbody>\n    <tr>\n      <th>count</th>\n      <td>49672.000000</td>\n      <td>49672.000000</td>\n      <td>49672.000000</td>\n      <td>49672.000000</td>\n    </tr>\n    <tr>\n      <th>mean</th>\n      <td>24850.349775</td>\n      <td>67.762442</td>\n      <td>11.728942</td>\n      <td>9.993282</td>\n    </tr>\n    <tr>\n      <th>std</th>\n      <td>14340.705287</td>\n      <td>38.315784</td>\n      <td>5.850779</td>\n      <td>453.615536</td>\n    </tr>\n    <tr>\n      <th>min</th>\n      <td>1.000000</td>\n      <td>1.000000</td>\n      <td>1.000000</td>\n      <td>1.000000</td>\n    </tr>\n    <tr>\n      <th>25%</th>\n      <td>12432.750000</td>\n      <td>35.000000</td>\n      <td>7.000000</td>\n      <td>4.100000</td>\n    </tr>\n    <tr>\n      <th>50%</th>\n      <td>24850.500000</td>\n      <td>69.000000</td>\n      <td>13.000000</td>\n      <td>7.100000</td>\n    </tr>\n    <tr>\n      <th>75%</th>\n      <td>37268.250000</td>\n      <td>100.000000</td>\n      <td>17.000000</td>\n      <td>11.100000</td>\n    </tr>\n    <tr>\n      <th>max</th>\n      <td>49688.000000</td>\n      <td>134.000000</td>\n      <td>21.000000</td>\n      <td>99999.000000</td>\n    </tr>\n  </tbody>\n</table>\n</div>"
     },
     "execution_count": 19,
     "metadata": {},
     "output_type": "execute_result"
    }
   ],
   "source": [
    "df_prods_clean_no_dups.describe()"
   ]
  },
  {
   "cell_type": "markdown",
   "id": "ac6ea84b",
   "metadata": {
    "pycharm": {
     "name": "#%% md\n"
    }
   },
   "source": [
    "It appears that the max price of items should be investigated further. Prices really have gone through the roof at the grocery store!"
   ]
  },
  {
   "cell_type": "code",
   "execution_count": 20,
   "id": "964aa3da",
   "metadata": {
    "pycharm": {
     "name": "#%%\n"
    }
   },
   "outputs": [],
   "source": [
    "#check for mixed types\n",
    "\n",
    "for col in df_ords.columns.tolist():\n",
    "  weird = (df_ords[[col]].applymap(type) != df_ords[[col]].iloc[0].apply(type)).any(axis = 1)\n",
    "  if len (df_ords[weird]) > 0:\n",
    "    print (col)"
   ]
  },
  {
   "cell_type": "code",
   "execution_count": 21,
   "id": "1fc1058b",
   "metadata": {
    "pycharm": {
     "name": "#%%\n"
    }
   },
   "outputs": [
    {
     "data": {
      "text/plain": "Unnamed: 0                     0\norder_id                       0\nuser_id                        0\neval_set                       0\norder_number                   0\norder_dow                      0\norder_hour_of_day              0\ndays_since_prior_order    206209\ndtype: int64"
     },
     "execution_count": 21,
     "metadata": {},
     "output_type": "execute_result"
    }
   ],
   "source": [
    "df_ords.isnull().sum()"
   ]
  },
  {
   "cell_type": "markdown",
   "id": "02e2667f",
   "metadata": {
    "pycharm": {
     "name": "#%% md\n"
    }
   },
   "source": [
    "The only column with missing values is 'days_since_prior_order' -- I believe these are valid as there could be rows where a previous order didn't exist."
   ]
  },
  {
   "cell_type": "code",
   "execution_count": 22,
   "id": "30a0a45f",
   "metadata": {
    "pycharm": {
     "name": "#%%\n"
    }
   },
   "outputs": [
    {
     "data": {
      "text/plain": "         Unnamed: 0  order_id  user_id eval_set  order_number  order_dow  \\\n0                 0   2539329        1    prior             1          2   \n11               11   2168274        2    prior             1          2   \n26               26   1374495        3    prior             1          1   \n39               39   3343014        4    prior             1          6   \n45               45   2717275        5    prior             1          3   \n...             ...       ...      ...      ...           ...        ...   \n3420930     3420930    969311   206205    prior             1          4   \n3420934     3420934   3189322   206206    prior             1          3   \n3421002     3421002   2166133   206207    prior             1          6   \n3421019     3421019   2227043   206208    prior             1          1   \n3421069     3421069   3154581   206209    prior             1          3   \n\n         order_hour_of_day  days_since_prior_order  \n0                        8                     NaN  \n11                      11                     NaN  \n26                      14                     NaN  \n39                      11                     NaN  \n45                      12                     NaN  \n...                    ...                     ...  \n3420930                 12                     NaN  \n3420934                 18                     NaN  \n3421002                 19                     NaN  \n3421019                 15                     NaN  \n3421069                 11                     NaN  \n\n[206209 rows x 8 columns]",
      "text/html": "<div>\n<style scoped>\n    .dataframe tbody tr th:only-of-type {\n        vertical-align: middle;\n    }\n\n    .dataframe tbody tr th {\n        vertical-align: top;\n    }\n\n    .dataframe thead th {\n        text-align: right;\n    }\n</style>\n<table border=\"1\" class=\"dataframe\">\n  <thead>\n    <tr style=\"text-align: right;\">\n      <th></th>\n      <th>Unnamed: 0</th>\n      <th>order_id</th>\n      <th>user_id</th>\n      <th>eval_set</th>\n      <th>order_number</th>\n      <th>order_dow</th>\n      <th>order_hour_of_day</th>\n      <th>days_since_prior_order</th>\n    </tr>\n  </thead>\n  <tbody>\n    <tr>\n      <th>0</th>\n      <td>0</td>\n      <td>2539329</td>\n      <td>1</td>\n      <td>prior</td>\n      <td>1</td>\n      <td>2</td>\n      <td>8</td>\n      <td>NaN</td>\n    </tr>\n    <tr>\n      <th>11</th>\n      <td>11</td>\n      <td>2168274</td>\n      <td>2</td>\n      <td>prior</td>\n      <td>1</td>\n      <td>2</td>\n      <td>11</td>\n      <td>NaN</td>\n    </tr>\n    <tr>\n      <th>26</th>\n      <td>26</td>\n      <td>1374495</td>\n      <td>3</td>\n      <td>prior</td>\n      <td>1</td>\n      <td>1</td>\n      <td>14</td>\n      <td>NaN</td>\n    </tr>\n    <tr>\n      <th>39</th>\n      <td>39</td>\n      <td>3343014</td>\n      <td>4</td>\n      <td>prior</td>\n      <td>1</td>\n      <td>6</td>\n      <td>11</td>\n      <td>NaN</td>\n    </tr>\n    <tr>\n      <th>45</th>\n      <td>45</td>\n      <td>2717275</td>\n      <td>5</td>\n      <td>prior</td>\n      <td>1</td>\n      <td>3</td>\n      <td>12</td>\n      <td>NaN</td>\n    </tr>\n    <tr>\n      <th>...</th>\n      <td>...</td>\n      <td>...</td>\n      <td>...</td>\n      <td>...</td>\n      <td>...</td>\n      <td>...</td>\n      <td>...</td>\n      <td>...</td>\n    </tr>\n    <tr>\n      <th>3420930</th>\n      <td>3420930</td>\n      <td>969311</td>\n      <td>206205</td>\n      <td>prior</td>\n      <td>1</td>\n      <td>4</td>\n      <td>12</td>\n      <td>NaN</td>\n    </tr>\n    <tr>\n      <th>3420934</th>\n      <td>3420934</td>\n      <td>3189322</td>\n      <td>206206</td>\n      <td>prior</td>\n      <td>1</td>\n      <td>3</td>\n      <td>18</td>\n      <td>NaN</td>\n    </tr>\n    <tr>\n      <th>3421002</th>\n      <td>3421002</td>\n      <td>2166133</td>\n      <td>206207</td>\n      <td>prior</td>\n      <td>1</td>\n      <td>6</td>\n      <td>19</td>\n      <td>NaN</td>\n    </tr>\n    <tr>\n      <th>3421019</th>\n      <td>3421019</td>\n      <td>2227043</td>\n      <td>206208</td>\n      <td>prior</td>\n      <td>1</td>\n      <td>1</td>\n      <td>15</td>\n      <td>NaN</td>\n    </tr>\n    <tr>\n      <th>3421069</th>\n      <td>3421069</td>\n      <td>3154581</td>\n      <td>206209</td>\n      <td>prior</td>\n      <td>1</td>\n      <td>3</td>\n      <td>11</td>\n      <td>NaN</td>\n    </tr>\n  </tbody>\n</table>\n<p>206209 rows × 8 columns</p>\n</div>"
     },
     "execution_count": 22,
     "metadata": {},
     "output_type": "execute_result"
    }
   ],
   "source": [
    "df_ords_missing = df_ords[df_ords['days_since_prior_order'].isnull() == True]\n",
    "df_ords_missing"
   ]
  },
  {
   "cell_type": "code",
   "execution_count": 23,
   "id": "1790ba12",
   "metadata": {
    "pycharm": {
     "name": "#%%\n"
    }
   },
   "outputs": [],
   "source": [
    "df_ords['days_since_prior_order'].fillna(0, inplace=True)"
   ]
  },
  {
   "cell_type": "code",
   "execution_count": 24,
   "outputs": [
    {
     "name": "stdout",
     "output_type": "stream",
     "text": [
      "<class 'pandas.core.frame.DataFrame'>\n",
      "RangeIndex: 3421083 entries, 0 to 3421082\n",
      "Data columns (total 8 columns):\n",
      " #   Column                  Dtype  \n",
      "---  ------                  -----  \n",
      " 0   Unnamed: 0              int64  \n",
      " 1   order_id                int64  \n",
      " 2   user_id                 int64  \n",
      " 3   eval_set                object \n",
      " 4   order_number            int64  \n",
      " 5   order_dow               int64  \n",
      " 6   order_hour_of_day       int64  \n",
      " 7   days_since_prior_order  float64\n",
      "dtypes: float64(1), int64(6), object(1)\n",
      "memory usage: 208.8+ MB\n"
     ]
    }
   ],
   "source": [
    "df_ords.info()"
   ],
   "metadata": {
    "collapsed": false,
    "pycharm": {
     "name": "#%%\n"
    }
   }
  },
  {
   "cell_type": "code",
   "execution_count": 25,
   "id": "b8a30761",
   "metadata": {
    "pycharm": {
     "name": "#%%\n"
    }
   },
   "outputs": [
    {
     "data": {
      "text/plain": "Empty DataFrame\nColumns: [Unnamed: 0, order_id, user_id, eval_set, order_number, order_dow, order_hour_of_day, days_since_prior_order]\nIndex: []",
      "text/html": "<div>\n<style scoped>\n    .dataframe tbody tr th:only-of-type {\n        vertical-align: middle;\n    }\n\n    .dataframe tbody tr th {\n        vertical-align: top;\n    }\n\n    .dataframe thead th {\n        text-align: right;\n    }\n</style>\n<table border=\"1\" class=\"dataframe\">\n  <thead>\n    <tr style=\"text-align: right;\">\n      <th></th>\n      <th>Unnamed: 0</th>\n      <th>order_id</th>\n      <th>user_id</th>\n      <th>eval_set</th>\n      <th>order_number</th>\n      <th>order_dow</th>\n      <th>order_hour_of_day</th>\n      <th>days_since_prior_order</th>\n    </tr>\n  </thead>\n  <tbody>\n  </tbody>\n</table>\n</div>"
     },
     "execution_count": 25,
     "metadata": {},
     "output_type": "execute_result"
    }
   ],
   "source": [
    "df_ords_missing = df_ords[df_ords['days_since_prior_order'].isnull() == True]\n",
    "df_ords_missing"
   ]
  },
  {
   "cell_type": "markdown",
   "id": "0c255947",
   "metadata": {
    "pycharm": {
     "name": "#%% md\n"
    }
   },
   "source": [
    "It seems to me that a NaN value for days_since_prior_order could easily represent a '0' -- imputing a median or mean doesn't seem to make sense here."
   ]
  },
  {
   "cell_type": "code",
   "execution_count": 26,
   "id": "9fc8225b",
   "metadata": {
    "pycharm": {
     "name": "#%%\n"
    }
   },
   "outputs": [],
   "source": [
    "df_ords_duplicate = df_ords[df_ords.duplicated()]"
   ]
  },
  {
   "cell_type": "code",
   "execution_count": 27,
   "id": "bd902413",
   "metadata": {
    "pycharm": {
     "name": "#%%\n"
    }
   },
   "outputs": [
    {
     "data": {
      "text/plain": "Empty DataFrame\nColumns: [Unnamed: 0, order_id, user_id, eval_set, order_number, order_dow, order_hour_of_day, days_since_prior_order]\nIndex: []",
      "text/html": "<div>\n<style scoped>\n    .dataframe tbody tr th:only-of-type {\n        vertical-align: middle;\n    }\n\n    .dataframe tbody tr th {\n        vertical-align: top;\n    }\n\n    .dataframe thead th {\n        text-align: right;\n    }\n</style>\n<table border=\"1\" class=\"dataframe\">\n  <thead>\n    <tr style=\"text-align: right;\">\n      <th></th>\n      <th>Unnamed: 0</th>\n      <th>order_id</th>\n      <th>user_id</th>\n      <th>eval_set</th>\n      <th>order_number</th>\n      <th>order_dow</th>\n      <th>order_hour_of_day</th>\n      <th>days_since_prior_order</th>\n    </tr>\n  </thead>\n  <tbody>\n  </tbody>\n</table>\n</div>"
     },
     "execution_count": 27,
     "metadata": {},
     "output_type": "execute_result"
    }
   ],
   "source": [
    "df_ords_duplicate"
   ]
  },
  {
   "cell_type": "markdown",
   "id": "38113c9a",
   "metadata": {
    "pycharm": {
     "name": "#%% md\n"
    }
   },
   "source": [
    "There don't appear to be any duplicate values."
   ]
  }
 ],
 "metadata": {
  "kernelspec": {
   "display_name": "Python 3 (ipykernel)",
   "language": "python",
   "name": "python3"
  },
  "language_info": {
   "codemirror_mode": {
    "name": "ipython",
    "version": 3
   },
   "file_extension": ".py",
   "mimetype": "text/x-python",
   "name": "python",
   "nbconvert_exporter": "python",
   "pygments_lexer": "ipython3",
   "version": "3.9.12"
  }
 },
 "nbformat": 4,
 "nbformat_minor": 5
}