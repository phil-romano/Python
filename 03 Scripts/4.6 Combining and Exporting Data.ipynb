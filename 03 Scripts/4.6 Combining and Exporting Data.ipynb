{
 "cells": [
  {
   "cell_type": "code",
   "execution_count": 2,
   "outputs": [],
   "source": [
    "#import libraries\n",
    "import pandas as pd\n",
    "import numpy as np\n",
    "import os\n",
    "\n",
    "#import files\n",
    "path = r'..\\02 Data\\Original Data'\n",
    "path2 = r'..\\02 Data\\Prepared Data'\n",
    "\n",
    "#import departments dataframe\n",
    "df_ords_prior = pd.read_csv(os.path.join(path, 'order_products_prior.csv'), index_col = False)\n",
    "df_ords = pd.read_csv(os.path.join(path2,'orders_clean.csv'), index_col = False)"
   ],
   "metadata": {
    "collapsed": false,
    "pycharm": {
     "name": "#%%\n"
    }
   }
  },
  {
   "cell_type": "code",
   "execution_count": 3,
   "outputs": [
    {
     "data": {
      "text/plain": "  customer_id   month  purchased_meat  purchased_alcohol  purchased_snacks\n0        6732  Jan-20               0                  1                10\n1         767  Jan-20              13                  2                 5\n2         890  Jan-20               3                 10                 1\n3         635  Jan-20               4                  0                 7",
      "text/html": "<div>\n<style scoped>\n    .dataframe tbody tr th:only-of-type {\n        vertical-align: middle;\n    }\n\n    .dataframe tbody tr th {\n        vertical-align: top;\n    }\n\n    .dataframe thead th {\n        text-align: right;\n    }\n</style>\n<table border=\"1\" class=\"dataframe\">\n  <thead>\n    <tr style=\"text-align: right;\">\n      <th></th>\n      <th>customer_id</th>\n      <th>month</th>\n      <th>purchased_meat</th>\n      <th>purchased_alcohol</th>\n      <th>purchased_snacks</th>\n    </tr>\n  </thead>\n  <tbody>\n    <tr>\n      <th>0</th>\n      <td>6732</td>\n      <td>Jan-20</td>\n      <td>0</td>\n      <td>1</td>\n      <td>10</td>\n    </tr>\n    <tr>\n      <th>1</th>\n      <td>767</td>\n      <td>Jan-20</td>\n      <td>13</td>\n      <td>2</td>\n      <td>5</td>\n    </tr>\n    <tr>\n      <th>2</th>\n      <td>890</td>\n      <td>Jan-20</td>\n      <td>3</td>\n      <td>10</td>\n      <td>1</td>\n    </tr>\n    <tr>\n      <th>3</th>\n      <td>635</td>\n      <td>Jan-20</td>\n      <td>4</td>\n      <td>0</td>\n      <td>7</td>\n    </tr>\n  </tbody>\n</table>\n</div>"
     },
     "execution_count": 3,
     "metadata": {},
     "output_type": "execute_result"
    }
   ],
   "source": [
    "# Define a dictionary containing January 2020 data\n",
    "data1 = {'customer_id':['6732', '767', '890', '635'],\n",
    "        'month':['Jan-20', 'Jan-20', 'Jan-20', 'Jan-20'],\n",
    "        'purchased_meat':[0, 13, 3, 4],\n",
    "        'purchased_alcohol':[1, 2, 10, 0],\n",
    "        'purchased_snacks':[10, 5, 1, 7]}\n",
    "\n",
    "# Define a dictionary containing February 2020 data\n",
    "data2 = {'customer_id':['6732', '767', '890', '635'],\n",
    "         'month':['Feb-20', 'Feb-20', 'Feb-20', 'Feb-20'],\n",
    "         'purchased_meat':[0, 10, 5, 3],\n",
    "         'purchased_alcohol':[2, 4, 14, 0],\n",
    "         'purchased_snacks':[15, 3, 2, 6]}\n",
    "\n",
    "#convert the dictionary into dataframe\n",
    "df = pd.DataFrame(data1,index=[0, 1, 2, 3])\n",
    "df_1 = pd.DataFrame(data2,index=[0,1,2,3])\n",
    "\n",
    "df"
   ],
   "metadata": {
    "collapsed": false,
    "pycharm": {
     "name": "#%%\n"
    }
   }
  },
  {
   "cell_type": "code",
   "execution_count": 4,
   "outputs": [
    {
     "data": {
      "text/plain": "  customer_id   month  purchased_meat  purchased_alcohol  purchased_snacks\n0        6732  Feb-20               0                  2                15\n1         767  Feb-20              10                  4                 3\n2         890  Feb-20               5                 14                 2\n3         635  Feb-20               3                  0                 6",
      "text/html": "<div>\n<style scoped>\n    .dataframe tbody tr th:only-of-type {\n        vertical-align: middle;\n    }\n\n    .dataframe tbody tr th {\n        vertical-align: top;\n    }\n\n    .dataframe thead th {\n        text-align: right;\n    }\n</style>\n<table border=\"1\" class=\"dataframe\">\n  <thead>\n    <tr style=\"text-align: right;\">\n      <th></th>\n      <th>customer_id</th>\n      <th>month</th>\n      <th>purchased_meat</th>\n      <th>purchased_alcohol</th>\n      <th>purchased_snacks</th>\n    </tr>\n  </thead>\n  <tbody>\n    <tr>\n      <th>0</th>\n      <td>6732</td>\n      <td>Feb-20</td>\n      <td>0</td>\n      <td>2</td>\n      <td>15</td>\n    </tr>\n    <tr>\n      <th>1</th>\n      <td>767</td>\n      <td>Feb-20</td>\n      <td>10</td>\n      <td>4</td>\n      <td>3</td>\n    </tr>\n    <tr>\n      <th>2</th>\n      <td>890</td>\n      <td>Feb-20</td>\n      <td>5</td>\n      <td>14</td>\n      <td>2</td>\n    </tr>\n    <tr>\n      <th>3</th>\n      <td>635</td>\n      <td>Feb-20</td>\n      <td>3</td>\n      <td>0</td>\n      <td>6</td>\n    </tr>\n  </tbody>\n</table>\n</div>"
     },
     "execution_count": 4,
     "metadata": {},
     "output_type": "execute_result"
    }
   ],
   "source": [
    "df_1"
   ],
   "metadata": {
    "collapsed": false,
    "pycharm": {
     "name": "#%%\n"
    }
   }
  },
  {
   "cell_type": "code",
   "execution_count": 5,
   "outputs": [
    {
     "data": {
      "text/plain": "  customer_id   month  purchased_meat  purchased_alcohol  purchased_snacks\n0        6732  Jan-20               0                  1                10\n1         767  Jan-20              13                  2                 5\n2         890  Jan-20               3                 10                 1\n3         635  Jan-20               4                  0                 7\n0        6732  Feb-20               0                  2                15\n1         767  Feb-20              10                  4                 3\n2         890  Feb-20               5                 14                 2\n3         635  Feb-20               3                  0                 6",
      "text/html": "<div>\n<style scoped>\n    .dataframe tbody tr th:only-of-type {\n        vertical-align: middle;\n    }\n\n    .dataframe tbody tr th {\n        vertical-align: top;\n    }\n\n    .dataframe thead th {\n        text-align: right;\n    }\n</style>\n<table border=\"1\" class=\"dataframe\">\n  <thead>\n    <tr style=\"text-align: right;\">\n      <th></th>\n      <th>customer_id</th>\n      <th>month</th>\n      <th>purchased_meat</th>\n      <th>purchased_alcohol</th>\n      <th>purchased_snacks</th>\n    </tr>\n  </thead>\n  <tbody>\n    <tr>\n      <th>0</th>\n      <td>6732</td>\n      <td>Jan-20</td>\n      <td>0</td>\n      <td>1</td>\n      <td>10</td>\n    </tr>\n    <tr>\n      <th>1</th>\n      <td>767</td>\n      <td>Jan-20</td>\n      <td>13</td>\n      <td>2</td>\n      <td>5</td>\n    </tr>\n    <tr>\n      <th>2</th>\n      <td>890</td>\n      <td>Jan-20</td>\n      <td>3</td>\n      <td>10</td>\n      <td>1</td>\n    </tr>\n    <tr>\n      <th>3</th>\n      <td>635</td>\n      <td>Jan-20</td>\n      <td>4</td>\n      <td>0</td>\n      <td>7</td>\n    </tr>\n    <tr>\n      <th>0</th>\n      <td>6732</td>\n      <td>Feb-20</td>\n      <td>0</td>\n      <td>2</td>\n      <td>15</td>\n    </tr>\n    <tr>\n      <th>1</th>\n      <td>767</td>\n      <td>Feb-20</td>\n      <td>10</td>\n      <td>4</td>\n      <td>3</td>\n    </tr>\n    <tr>\n      <th>2</th>\n      <td>890</td>\n      <td>Feb-20</td>\n      <td>5</td>\n      <td>14</td>\n      <td>2</td>\n    </tr>\n    <tr>\n      <th>3</th>\n      <td>635</td>\n      <td>Feb-20</td>\n      <td>3</td>\n      <td>0</td>\n      <td>6</td>\n    </tr>\n  </tbody>\n</table>\n</div>"
     },
     "execution_count": 5,
     "metadata": {},
     "output_type": "execute_result"
    }
   ],
   "source": [
    "frames = [df, df_1]\n",
    "df_concat = pd.concat(frames)\n",
    "\n",
    "df_concat"
   ],
   "metadata": {
    "collapsed": false,
    "pycharm": {
     "name": "#%%\n"
    }
   }
  },
  {
   "cell_type": "code",
   "execution_count": 6,
   "outputs": [
    {
     "name": "stderr",
     "output_type": "stream",
     "text": [
      "C:\\Users\\heres\\AppData\\Local\\Temp\\ipykernel_13284\\3929113207.py:1: FutureWarning: The frame.append method is deprecated and will be removed from pandas in a future version. Use pandas.concat instead.\n",
      "  df_appended = df.append(df_1)\n"
     ]
    },
    {
     "data": {
      "text/plain": "  customer_id   month  purchased_meat  purchased_alcohol  purchased_snacks\n0        6732  Jan-20               0                  1                10\n1         767  Jan-20              13                  2                 5\n2         890  Jan-20               3                 10                 1\n3         635  Jan-20               4                  0                 7\n0        6732  Feb-20               0                  2                15\n1         767  Feb-20              10                  4                 3\n2         890  Feb-20               5                 14                 2\n3         635  Feb-20               3                  0                 6",
      "text/html": "<div>\n<style scoped>\n    .dataframe tbody tr th:only-of-type {\n        vertical-align: middle;\n    }\n\n    .dataframe tbody tr th {\n        vertical-align: top;\n    }\n\n    .dataframe thead th {\n        text-align: right;\n    }\n</style>\n<table border=\"1\" class=\"dataframe\">\n  <thead>\n    <tr style=\"text-align: right;\">\n      <th></th>\n      <th>customer_id</th>\n      <th>month</th>\n      <th>purchased_meat</th>\n      <th>purchased_alcohol</th>\n      <th>purchased_snacks</th>\n    </tr>\n  </thead>\n  <tbody>\n    <tr>\n      <th>0</th>\n      <td>6732</td>\n      <td>Jan-20</td>\n      <td>0</td>\n      <td>1</td>\n      <td>10</td>\n    </tr>\n    <tr>\n      <th>1</th>\n      <td>767</td>\n      <td>Jan-20</td>\n      <td>13</td>\n      <td>2</td>\n      <td>5</td>\n    </tr>\n    <tr>\n      <th>2</th>\n      <td>890</td>\n      <td>Jan-20</td>\n      <td>3</td>\n      <td>10</td>\n      <td>1</td>\n    </tr>\n    <tr>\n      <th>3</th>\n      <td>635</td>\n      <td>Jan-20</td>\n      <td>4</td>\n      <td>0</td>\n      <td>7</td>\n    </tr>\n    <tr>\n      <th>0</th>\n      <td>6732</td>\n      <td>Feb-20</td>\n      <td>0</td>\n      <td>2</td>\n      <td>15</td>\n    </tr>\n    <tr>\n      <th>1</th>\n      <td>767</td>\n      <td>Feb-20</td>\n      <td>10</td>\n      <td>4</td>\n      <td>3</td>\n    </tr>\n    <tr>\n      <th>2</th>\n      <td>890</td>\n      <td>Feb-20</td>\n      <td>5</td>\n      <td>14</td>\n      <td>2</td>\n    </tr>\n    <tr>\n      <th>3</th>\n      <td>635</td>\n      <td>Feb-20</td>\n      <td>3</td>\n      <td>0</td>\n      <td>6</td>\n    </tr>\n  </tbody>\n</table>\n</div>"
     },
     "execution_count": 6,
     "metadata": {},
     "output_type": "execute_result"
    }
   ],
   "source": [
    "df_appended = df.append(df_1)\n",
    "df_appended"
   ],
   "metadata": {
    "collapsed": false,
    "pycharm": {
     "name": "#%%\n"
    }
   }
  },
  {
   "cell_type": "code",
   "execution_count": 7,
   "outputs": [],
   "source": [
    "# Create data with different columns from df\n",
    "data3 = {'customer_id':['6732', '767', '890', '635'],\n",
    "         'month':['Jan-20', 'Jan-20', 'Jan-20', 'Jan-20'],\n",
    "         'days_purchased_on':[0, 13, 3, 4]}\n",
    "\n",
    "# Convert to dataframe\n",
    "df_2 = pd.DataFrame(data3,index=[0, 1, 2, 3])"
   ],
   "metadata": {
    "collapsed": false,
    "pycharm": {
     "name": "#%%\n"
    }
   }
  },
  {
   "cell_type": "code",
   "execution_count": 8,
   "outputs": [
    {
     "data": {
      "text/plain": "  customer_id   month  days_purchased_on\n0        6732  Jan-20                  0\n1         767  Jan-20                 13\n2         890  Jan-20                  3\n3         635  Jan-20                  4",
      "text/html": "<div>\n<style scoped>\n    .dataframe tbody tr th:only-of-type {\n        vertical-align: middle;\n    }\n\n    .dataframe tbody tr th {\n        vertical-align: top;\n    }\n\n    .dataframe thead th {\n        text-align: right;\n    }\n</style>\n<table border=\"1\" class=\"dataframe\">\n  <thead>\n    <tr style=\"text-align: right;\">\n      <th></th>\n      <th>customer_id</th>\n      <th>month</th>\n      <th>days_purchased_on</th>\n    </tr>\n  </thead>\n  <tbody>\n    <tr>\n      <th>0</th>\n      <td>6732</td>\n      <td>Jan-20</td>\n      <td>0</td>\n    </tr>\n    <tr>\n      <th>1</th>\n      <td>767</td>\n      <td>Jan-20</td>\n      <td>13</td>\n    </tr>\n    <tr>\n      <th>2</th>\n      <td>890</td>\n      <td>Jan-20</td>\n      <td>3</td>\n    </tr>\n    <tr>\n      <th>3</th>\n      <td>635</td>\n      <td>Jan-20</td>\n      <td>4</td>\n    </tr>\n  </tbody>\n</table>\n</div>"
     },
     "execution_count": 8,
     "metadata": {},
     "output_type": "execute_result"
    }
   ],
   "source": [
    "df_2"
   ],
   "metadata": {
    "collapsed": false,
    "pycharm": {
     "name": "#%%\n"
    }
   }
  },
  {
   "cell_type": "code",
   "execution_count": 9,
   "outputs": [
    {
     "name": "stderr",
     "output_type": "stream",
     "text": [
      "C:\\Users\\heres\\AppData\\Local\\Temp\\ipykernel_13284\\212113226.py:1: FutureWarning: The frame.append method is deprecated and will be removed from pandas in a future version. Use pandas.concat instead.\n",
      "  df_append_test = df.append(df_2)\n"
     ]
    }
   ],
   "source": [
    "df_append_test = df.append(df_2)"
   ],
   "metadata": {
    "collapsed": false,
    "pycharm": {
     "name": "#%%\n"
    }
   }
  },
  {
   "cell_type": "code",
   "execution_count": 10,
   "outputs": [
    {
     "data": {
      "text/plain": "  customer_id   month  purchased_meat  purchased_alcohol  purchased_snacks  \\\n0        6732  Jan-20               0                  1                10   \n1         767  Jan-20              13                  2                 5   \n2         890  Jan-20               3                 10                 1   \n3         635  Jan-20               4                  0                 7   \n\n   days_purchased_on  \n0                  0  \n1                 13  \n2                  3  \n3                  4  ",
      "text/html": "<div>\n<style scoped>\n    .dataframe tbody tr th:only-of-type {\n        vertical-align: middle;\n    }\n\n    .dataframe tbody tr th {\n        vertical-align: top;\n    }\n\n    .dataframe thead th {\n        text-align: right;\n    }\n</style>\n<table border=\"1\" class=\"dataframe\">\n  <thead>\n    <tr style=\"text-align: right;\">\n      <th></th>\n      <th>customer_id</th>\n      <th>month</th>\n      <th>purchased_meat</th>\n      <th>purchased_alcohol</th>\n      <th>purchased_snacks</th>\n      <th>days_purchased_on</th>\n    </tr>\n  </thead>\n  <tbody>\n    <tr>\n      <th>0</th>\n      <td>6732</td>\n      <td>Jan-20</td>\n      <td>0</td>\n      <td>1</td>\n      <td>10</td>\n      <td>0</td>\n    </tr>\n    <tr>\n      <th>1</th>\n      <td>767</td>\n      <td>Jan-20</td>\n      <td>13</td>\n      <td>2</td>\n      <td>5</td>\n      <td>13</td>\n    </tr>\n    <tr>\n      <th>2</th>\n      <td>890</td>\n      <td>Jan-20</td>\n      <td>3</td>\n      <td>10</td>\n      <td>1</td>\n      <td>3</td>\n    </tr>\n    <tr>\n      <th>3</th>\n      <td>635</td>\n      <td>Jan-20</td>\n      <td>4</td>\n      <td>0</td>\n      <td>7</td>\n      <td>4</td>\n    </tr>\n  </tbody>\n</table>\n</div>"
     },
     "execution_count": 10,
     "metadata": {},
     "output_type": "execute_result"
    }
   ],
   "source": [
    "df_merged = df.merge(df_2, on = ['customer_id', 'month'])\n",
    "df_merged"
   ],
   "metadata": {
    "collapsed": false,
    "pycharm": {
     "name": "#%%\n"
    }
   }
  },
  {
   "cell_type": "code",
   "execution_count": 11,
   "outputs": [
    {
     "data": {
      "text/plain": "  customer_id   month  purchased_meat  purchased_alcohol  purchased_snacks  \\\n0        6732  Jan-20               0                  1                10   \n1         767  Jan-20              13                  2                 5   \n2         890  Jan-20               3                 10                 1   \n3         635  Jan-20               4                  0                 7   \n\n   days_purchased_on _merge  \n0                  0   both  \n1                 13   both  \n2                  3   both  \n3                  4   both  ",
      "text/html": "<div>\n<style scoped>\n    .dataframe tbody tr th:only-of-type {\n        vertical-align: middle;\n    }\n\n    .dataframe tbody tr th {\n        vertical-align: top;\n    }\n\n    .dataframe thead th {\n        text-align: right;\n    }\n</style>\n<table border=\"1\" class=\"dataframe\">\n  <thead>\n    <tr style=\"text-align: right;\">\n      <th></th>\n      <th>customer_id</th>\n      <th>month</th>\n      <th>purchased_meat</th>\n      <th>purchased_alcohol</th>\n      <th>purchased_snacks</th>\n      <th>days_purchased_on</th>\n      <th>_merge</th>\n    </tr>\n  </thead>\n  <tbody>\n    <tr>\n      <th>0</th>\n      <td>6732</td>\n      <td>Jan-20</td>\n      <td>0</td>\n      <td>1</td>\n      <td>10</td>\n      <td>0</td>\n      <td>both</td>\n    </tr>\n    <tr>\n      <th>1</th>\n      <td>767</td>\n      <td>Jan-20</td>\n      <td>13</td>\n      <td>2</td>\n      <td>5</td>\n      <td>13</td>\n      <td>both</td>\n    </tr>\n    <tr>\n      <th>2</th>\n      <td>890</td>\n      <td>Jan-20</td>\n      <td>3</td>\n      <td>10</td>\n      <td>1</td>\n      <td>3</td>\n      <td>both</td>\n    </tr>\n    <tr>\n      <th>3</th>\n      <td>635</td>\n      <td>Jan-20</td>\n      <td>4</td>\n      <td>0</td>\n      <td>7</td>\n      <td>4</td>\n      <td>both</td>\n    </tr>\n  </tbody>\n</table>\n</div>"
     },
     "execution_count": 11,
     "metadata": {},
     "output_type": "execute_result"
    }
   ],
   "source": [
    "df_merged = df.merge(df_2, on=['customer_id','month'], indicator=True)\n",
    "df_merged"
   ],
   "metadata": {
    "collapsed": false,
    "pycharm": {
     "name": "#%%\n"
    }
   }
  },
  {
   "cell_type": "code",
   "execution_count": 12,
   "outputs": [
    {
     "data": {
      "text/plain": "both          4\nleft_only     0\nright_only    0\nName: _merge, dtype: int64"
     },
     "execution_count": 12,
     "metadata": {},
     "output_type": "execute_result"
    }
   ],
   "source": [
    "df_merged['_merge'].value_counts()"
   ],
   "metadata": {
    "collapsed": false,
    "pycharm": {
     "name": "#%%\n"
    }
   }
  },
  {
   "cell_type": "code",
   "execution_count": 13,
   "outputs": [
    {
     "data": {
      "text/plain": "  customer_id   month  purchased_meat  purchased_alcohol  purchased_snacks  \\\n0        6732  Jan-20               0                  1                10   \n1         767  Jan-20              13                  2                 5   \n2         890  Jan-20               3                 10                 1   \n3         635  Jan-20               4                  0                 7   \n\n   days_purchased_on _merge  \n0                  0   both  \n1                 13   both  \n2                  3   both  \n3                  4   both  ",
      "text/html": "<div>\n<style scoped>\n    .dataframe tbody tr th:only-of-type {\n        vertical-align: middle;\n    }\n\n    .dataframe tbody tr th {\n        vertical-align: top;\n    }\n\n    .dataframe thead th {\n        text-align: right;\n    }\n</style>\n<table border=\"1\" class=\"dataframe\">\n  <thead>\n    <tr style=\"text-align: right;\">\n      <th></th>\n      <th>customer_id</th>\n      <th>month</th>\n      <th>purchased_meat</th>\n      <th>purchased_alcohol</th>\n      <th>purchased_snacks</th>\n      <th>days_purchased_on</th>\n      <th>_merge</th>\n    </tr>\n  </thead>\n  <tbody>\n    <tr>\n      <th>0</th>\n      <td>6732</td>\n      <td>Jan-20</td>\n      <td>0</td>\n      <td>1</td>\n      <td>10</td>\n      <td>0</td>\n      <td>both</td>\n    </tr>\n    <tr>\n      <th>1</th>\n      <td>767</td>\n      <td>Jan-20</td>\n      <td>13</td>\n      <td>2</td>\n      <td>5</td>\n      <td>13</td>\n      <td>both</td>\n    </tr>\n    <tr>\n      <th>2</th>\n      <td>890</td>\n      <td>Jan-20</td>\n      <td>3</td>\n      <td>10</td>\n      <td>1</td>\n      <td>3</td>\n      <td>both</td>\n    </tr>\n    <tr>\n      <th>3</th>\n      <td>635</td>\n      <td>Jan-20</td>\n      <td>4</td>\n      <td>0</td>\n      <td>7</td>\n      <td>4</td>\n      <td>both</td>\n    </tr>\n  </tbody>\n</table>\n</div>"
     },
     "execution_count": 13,
     "metadata": {},
     "output_type": "execute_result"
    }
   ],
   "source": [
    "#Test merge without overwriting\n",
    "pd.merge(df,df_2, on = ['customer_id', 'month'], indicator=True)"
   ],
   "metadata": {
    "collapsed": false,
    "pycharm": {
     "name": "#%%\n"
    }
   }
  },
  {
   "cell_type": "code",
   "execution_count": 14,
   "outputs": [
    {
     "data": {
      "text/plain": "(32434489, 4)"
     },
     "execution_count": 14,
     "metadata": {},
     "output_type": "execute_result"
    }
   ],
   "source": [
    "df_ords_prior.shape"
   ],
   "metadata": {
    "collapsed": false,
    "pycharm": {
     "name": "#%%\n"
    }
   }
  },
  {
   "cell_type": "code",
   "execution_count": 15,
   "outputs": [
    {
     "data": {
      "text/plain": "         Unnamed: 0.1  Unnamed: 0  order_id  user_id eval_set  order_number  \\\n0                   0           0   2539329        1    prior             1   \n1                   1           1   2398795        1    prior             2   \n2                   2           2    473747        1    prior             3   \n3                   3           3   2254736        1    prior             4   \n4                   4           4    431534        1    prior             5   \n...               ...         ...       ...      ...      ...           ...   \n3421078       3421078     3421078   2266710   206209    prior            10   \n3421079       3421079     3421079   1854736   206209    prior            11   \n3421080       3421080     3421080    626363   206209    prior            12   \n3421081       3421081     3421081   2977660   206209    prior            13   \n3421082       3421082     3421082    272231   206209    train            14   \n\n         order_dow  order_hour_of_day  days_since_prior_order  \n0                2                  8                     0.0  \n1                3                  7                    15.0  \n2                3                 12                    21.0  \n3                4                  7                    29.0  \n4                4                 15                    28.0  \n...            ...                ...                     ...  \n3421078          5                 18                    29.0  \n3421079          4                 10                    30.0  \n3421080          1                 12                    18.0  \n3421081          1                 12                     7.0  \n3421082          6                 14                    30.0  \n\n[3421083 rows x 9 columns]",
      "text/html": "<div>\n<style scoped>\n    .dataframe tbody tr th:only-of-type {\n        vertical-align: middle;\n    }\n\n    .dataframe tbody tr th {\n        vertical-align: top;\n    }\n\n    .dataframe thead th {\n        text-align: right;\n    }\n</style>\n<table border=\"1\" class=\"dataframe\">\n  <thead>\n    <tr style=\"text-align: right;\">\n      <th></th>\n      <th>Unnamed: 0.1</th>\n      <th>Unnamed: 0</th>\n      <th>order_id</th>\n      <th>user_id</th>\n      <th>eval_set</th>\n      <th>order_number</th>\n      <th>order_dow</th>\n      <th>order_hour_of_day</th>\n      <th>days_since_prior_order</th>\n    </tr>\n  </thead>\n  <tbody>\n    <tr>\n      <th>0</th>\n      <td>0</td>\n      <td>0</td>\n      <td>2539329</td>\n      <td>1</td>\n      <td>prior</td>\n      <td>1</td>\n      <td>2</td>\n      <td>8</td>\n      <td>0.0</td>\n    </tr>\n    <tr>\n      <th>1</th>\n      <td>1</td>\n      <td>1</td>\n      <td>2398795</td>\n      <td>1</td>\n      <td>prior</td>\n      <td>2</td>\n      <td>3</td>\n      <td>7</td>\n      <td>15.0</td>\n    </tr>\n    <tr>\n      <th>2</th>\n      <td>2</td>\n      <td>2</td>\n      <td>473747</td>\n      <td>1</td>\n      <td>prior</td>\n      <td>3</td>\n      <td>3</td>\n      <td>12</td>\n      <td>21.0</td>\n    </tr>\n    <tr>\n      <th>3</th>\n      <td>3</td>\n      <td>3</td>\n      <td>2254736</td>\n      <td>1</td>\n      <td>prior</td>\n      <td>4</td>\n      <td>4</td>\n      <td>7</td>\n      <td>29.0</td>\n    </tr>\n    <tr>\n      <th>4</th>\n      <td>4</td>\n      <td>4</td>\n      <td>431534</td>\n      <td>1</td>\n      <td>prior</td>\n      <td>5</td>\n      <td>4</td>\n      <td>15</td>\n      <td>28.0</td>\n    </tr>\n    <tr>\n      <th>...</th>\n      <td>...</td>\n      <td>...</td>\n      <td>...</td>\n      <td>...</td>\n      <td>...</td>\n      <td>...</td>\n      <td>...</td>\n      <td>...</td>\n      <td>...</td>\n    </tr>\n    <tr>\n      <th>3421078</th>\n      <td>3421078</td>\n      <td>3421078</td>\n      <td>2266710</td>\n      <td>206209</td>\n      <td>prior</td>\n      <td>10</td>\n      <td>5</td>\n      <td>18</td>\n      <td>29.0</td>\n    </tr>\n    <tr>\n      <th>3421079</th>\n      <td>3421079</td>\n      <td>3421079</td>\n      <td>1854736</td>\n      <td>206209</td>\n      <td>prior</td>\n      <td>11</td>\n      <td>4</td>\n      <td>10</td>\n      <td>30.0</td>\n    </tr>\n    <tr>\n      <th>3421080</th>\n      <td>3421080</td>\n      <td>3421080</td>\n      <td>626363</td>\n      <td>206209</td>\n      <td>prior</td>\n      <td>12</td>\n      <td>1</td>\n      <td>12</td>\n      <td>18.0</td>\n    </tr>\n    <tr>\n      <th>3421081</th>\n      <td>3421081</td>\n      <td>3421081</td>\n      <td>2977660</td>\n      <td>206209</td>\n      <td>prior</td>\n      <td>13</td>\n      <td>1</td>\n      <td>12</td>\n      <td>7.0</td>\n    </tr>\n    <tr>\n      <th>3421082</th>\n      <td>3421082</td>\n      <td>3421082</td>\n      <td>272231</td>\n      <td>206209</td>\n      <td>train</td>\n      <td>14</td>\n      <td>6</td>\n      <td>14</td>\n      <td>30.0</td>\n    </tr>\n  </tbody>\n</table>\n<p>3421083 rows × 9 columns</p>\n</div>"
     },
     "execution_count": 15,
     "metadata": {},
     "output_type": "execute_result"
    }
   ],
   "source": [
    "df_ords"
   ],
   "metadata": {
    "collapsed": false,
    "pycharm": {
     "name": "#%%\n"
    }
   }
  },
  {
   "cell_type": "code",
   "execution_count": 16,
   "outputs": [
    {
     "data": {
      "text/plain": "          order_id  product_id  add_to_cart_order  reordered\n0                2       33120                  1          1\n1                2       28985                  2          1\n2                2        9327                  3          0\n3                2       45918                  4          1\n4                2       30035                  5          0\n...            ...         ...                ...        ...\n32434484   3421083       39678                  6          1\n32434485   3421083       11352                  7          0\n32434486   3421083        4600                  8          0\n32434487   3421083       24852                  9          1\n32434488   3421083        5020                 10          1\n\n[32434489 rows x 4 columns]",
      "text/html": "<div>\n<style scoped>\n    .dataframe tbody tr th:only-of-type {\n        vertical-align: middle;\n    }\n\n    .dataframe tbody tr th {\n        vertical-align: top;\n    }\n\n    .dataframe thead th {\n        text-align: right;\n    }\n</style>\n<table border=\"1\" class=\"dataframe\">\n  <thead>\n    <tr style=\"text-align: right;\">\n      <th></th>\n      <th>order_id</th>\n      <th>product_id</th>\n      <th>add_to_cart_order</th>\n      <th>reordered</th>\n    </tr>\n  </thead>\n  <tbody>\n    <tr>\n      <th>0</th>\n      <td>2</td>\n      <td>33120</td>\n      <td>1</td>\n      <td>1</td>\n    </tr>\n    <tr>\n      <th>1</th>\n      <td>2</td>\n      <td>28985</td>\n      <td>2</td>\n      <td>1</td>\n    </tr>\n    <tr>\n      <th>2</th>\n      <td>2</td>\n      <td>9327</td>\n      <td>3</td>\n      <td>0</td>\n    </tr>\n    <tr>\n      <th>3</th>\n      <td>2</td>\n      <td>45918</td>\n      <td>4</td>\n      <td>1</td>\n    </tr>\n    <tr>\n      <th>4</th>\n      <td>2</td>\n      <td>30035</td>\n      <td>5</td>\n      <td>0</td>\n    </tr>\n    <tr>\n      <th>...</th>\n      <td>...</td>\n      <td>...</td>\n      <td>...</td>\n      <td>...</td>\n    </tr>\n    <tr>\n      <th>32434484</th>\n      <td>3421083</td>\n      <td>39678</td>\n      <td>6</td>\n      <td>1</td>\n    </tr>\n    <tr>\n      <th>32434485</th>\n      <td>3421083</td>\n      <td>11352</td>\n      <td>7</td>\n      <td>0</td>\n    </tr>\n    <tr>\n      <th>32434486</th>\n      <td>3421083</td>\n      <td>4600</td>\n      <td>8</td>\n      <td>0</td>\n    </tr>\n    <tr>\n      <th>32434487</th>\n      <td>3421083</td>\n      <td>24852</td>\n      <td>9</td>\n      <td>1</td>\n    </tr>\n    <tr>\n      <th>32434488</th>\n      <td>3421083</td>\n      <td>5020</td>\n      <td>10</td>\n      <td>1</td>\n    </tr>\n  </tbody>\n</table>\n<p>32434489 rows × 4 columns</p>\n</div>"
     },
     "execution_count": 16,
     "metadata": {},
     "output_type": "execute_result"
    }
   ],
   "source": [
    "df_ords_prior"
   ],
   "metadata": {
    "collapsed": false,
    "pycharm": {
     "name": "#%%\n"
    }
   }
  },
  {
   "cell_type": "code",
   "execution_count": 17,
   "outputs": [
    {
     "data": {
      "text/plain": "          Unnamed: 0.1  Unnamed: 0  order_id  user_id eval_set  order_number  \\\n0                    0           0   2539329        1    prior             1   \n1                    0           0   2539329        1    prior             1   \n2                    0           0   2539329        1    prior             1   \n3                    0           0   2539329        1    prior             1   \n4                    0           0   2539329        1    prior             1   \n...                ...         ...       ...      ...      ...           ...   \n32434484       3421081     3421081   2977660   206209    prior            13   \n32434485       3421081     3421081   2977660   206209    prior            13   \n32434486       3421081     3421081   2977660   206209    prior            13   \n32434487       3421081     3421081   2977660   206209    prior            13   \n32434488       3421081     3421081   2977660   206209    prior            13   \n\n          order_dow  order_hour_of_day  days_since_prior_order  product_id  \\\n0                 2                  8                     0.0         196   \n1                 2                  8                     0.0       14084   \n2                 2                  8                     0.0       12427   \n3                 2                  8                     0.0       26088   \n4                 2                  8                     0.0       26405   \n...             ...                ...                     ...         ...   \n32434484          1                 12                     7.0       14197   \n32434485          1                 12                     7.0       38730   \n32434486          1                 12                     7.0       31477   \n32434487          1                 12                     7.0        6567   \n32434488          1                 12                     7.0       22920   \n\n          add_to_cart_order  reordered _merge  \n0                         1          0   both  \n1                         2          0   both  \n2                         3          0   both  \n3                         4          0   both  \n4                         5          0   both  \n...                     ...        ...    ...  \n32434484                  5          1   both  \n32434485                  6          0   both  \n32434486                  7          0   both  \n32434487                  8          0   both  \n32434488                  9          0   both  \n\n[32434489 rows x 13 columns]",
      "text/html": "<div>\n<style scoped>\n    .dataframe tbody tr th:only-of-type {\n        vertical-align: middle;\n    }\n\n    .dataframe tbody tr th {\n        vertical-align: top;\n    }\n\n    .dataframe thead th {\n        text-align: right;\n    }\n</style>\n<table border=\"1\" class=\"dataframe\">\n  <thead>\n    <tr style=\"text-align: right;\">\n      <th></th>\n      <th>Unnamed: 0.1</th>\n      <th>Unnamed: 0</th>\n      <th>order_id</th>\n      <th>user_id</th>\n      <th>eval_set</th>\n      <th>order_number</th>\n      <th>order_dow</th>\n      <th>order_hour_of_day</th>\n      <th>days_since_prior_order</th>\n      <th>product_id</th>\n      <th>add_to_cart_order</th>\n      <th>reordered</th>\n      <th>_merge</th>\n    </tr>\n  </thead>\n  <tbody>\n    <tr>\n      <th>0</th>\n      <td>0</td>\n      <td>0</td>\n      <td>2539329</td>\n      <td>1</td>\n      <td>prior</td>\n      <td>1</td>\n      <td>2</td>\n      <td>8</td>\n      <td>0.0</td>\n      <td>196</td>\n      <td>1</td>\n      <td>0</td>\n      <td>both</td>\n    </tr>\n    <tr>\n      <th>1</th>\n      <td>0</td>\n      <td>0</td>\n      <td>2539329</td>\n      <td>1</td>\n      <td>prior</td>\n      <td>1</td>\n      <td>2</td>\n      <td>8</td>\n      <td>0.0</td>\n      <td>14084</td>\n      <td>2</td>\n      <td>0</td>\n      <td>both</td>\n    </tr>\n    <tr>\n      <th>2</th>\n      <td>0</td>\n      <td>0</td>\n      <td>2539329</td>\n      <td>1</td>\n      <td>prior</td>\n      <td>1</td>\n      <td>2</td>\n      <td>8</td>\n      <td>0.0</td>\n      <td>12427</td>\n      <td>3</td>\n      <td>0</td>\n      <td>both</td>\n    </tr>\n    <tr>\n      <th>3</th>\n      <td>0</td>\n      <td>0</td>\n      <td>2539329</td>\n      <td>1</td>\n      <td>prior</td>\n      <td>1</td>\n      <td>2</td>\n      <td>8</td>\n      <td>0.0</td>\n      <td>26088</td>\n      <td>4</td>\n      <td>0</td>\n      <td>both</td>\n    </tr>\n    <tr>\n      <th>4</th>\n      <td>0</td>\n      <td>0</td>\n      <td>2539329</td>\n      <td>1</td>\n      <td>prior</td>\n      <td>1</td>\n      <td>2</td>\n      <td>8</td>\n      <td>0.0</td>\n      <td>26405</td>\n      <td>5</td>\n      <td>0</td>\n      <td>both</td>\n    </tr>\n    <tr>\n      <th>...</th>\n      <td>...</td>\n      <td>...</td>\n      <td>...</td>\n      <td>...</td>\n      <td>...</td>\n      <td>...</td>\n      <td>...</td>\n      <td>...</td>\n      <td>...</td>\n      <td>...</td>\n      <td>...</td>\n      <td>...</td>\n      <td>...</td>\n    </tr>\n    <tr>\n      <th>32434484</th>\n      <td>3421081</td>\n      <td>3421081</td>\n      <td>2977660</td>\n      <td>206209</td>\n      <td>prior</td>\n      <td>13</td>\n      <td>1</td>\n      <td>12</td>\n      <td>7.0</td>\n      <td>14197</td>\n      <td>5</td>\n      <td>1</td>\n      <td>both</td>\n    </tr>\n    <tr>\n      <th>32434485</th>\n      <td>3421081</td>\n      <td>3421081</td>\n      <td>2977660</td>\n      <td>206209</td>\n      <td>prior</td>\n      <td>13</td>\n      <td>1</td>\n      <td>12</td>\n      <td>7.0</td>\n      <td>38730</td>\n      <td>6</td>\n      <td>0</td>\n      <td>both</td>\n    </tr>\n    <tr>\n      <th>32434486</th>\n      <td>3421081</td>\n      <td>3421081</td>\n      <td>2977660</td>\n      <td>206209</td>\n      <td>prior</td>\n      <td>13</td>\n      <td>1</td>\n      <td>12</td>\n      <td>7.0</td>\n      <td>31477</td>\n      <td>7</td>\n      <td>0</td>\n      <td>both</td>\n    </tr>\n    <tr>\n      <th>32434487</th>\n      <td>3421081</td>\n      <td>3421081</td>\n      <td>2977660</td>\n      <td>206209</td>\n      <td>prior</td>\n      <td>13</td>\n      <td>1</td>\n      <td>12</td>\n      <td>7.0</td>\n      <td>6567</td>\n      <td>8</td>\n      <td>0</td>\n      <td>both</td>\n    </tr>\n    <tr>\n      <th>32434488</th>\n      <td>3421081</td>\n      <td>3421081</td>\n      <td>2977660</td>\n      <td>206209</td>\n      <td>prior</td>\n      <td>13</td>\n      <td>1</td>\n      <td>12</td>\n      <td>7.0</td>\n      <td>22920</td>\n      <td>9</td>\n      <td>0</td>\n      <td>both</td>\n    </tr>\n  </tbody>\n</table>\n<p>32434489 rows × 13 columns</p>\n</div>"
     },
     "execution_count": 17,
     "metadata": {},
     "output_type": "execute_result"
    }
   ],
   "source": [
    "pd.merge(df_ords, df_ords_prior, on = ['order_id'], indicator = True)"
   ],
   "metadata": {
    "collapsed": false,
    "pycharm": {
     "name": "#%%\n"
    }
   }
  },
  {
   "cell_type": "code",
   "execution_count": 18,
   "outputs": [],
   "source": [
    "df_ords_merged = df_ords.merge(df_ords_prior, on = 'order_id', indicator = True)"
   ],
   "metadata": {
    "collapsed": false,
    "pycharm": {
     "name": "#%%\n"
    }
   }
  },
  {
   "cell_type": "code",
   "execution_count": 19,
   "outputs": [
    {
     "data": {
      "text/plain": "          Unnamed: 0.1  Unnamed: 0  order_id  user_id eval_set  order_number  \\\n0                    0           0   2539329        1    prior             1   \n1                    0           0   2539329        1    prior             1   \n2                    0           0   2539329        1    prior             1   \n3                    0           0   2539329        1    prior             1   \n4                    0           0   2539329        1    prior             1   \n...                ...         ...       ...      ...      ...           ...   \n32434484       3421081     3421081   2977660   206209    prior            13   \n32434485       3421081     3421081   2977660   206209    prior            13   \n32434486       3421081     3421081   2977660   206209    prior            13   \n32434487       3421081     3421081   2977660   206209    prior            13   \n32434488       3421081     3421081   2977660   206209    prior            13   \n\n          order_dow  order_hour_of_day  days_since_prior_order  product_id  \\\n0                 2                  8                     0.0         196   \n1                 2                  8                     0.0       14084   \n2                 2                  8                     0.0       12427   \n3                 2                  8                     0.0       26088   \n4                 2                  8                     0.0       26405   \n...             ...                ...                     ...         ...   \n32434484          1                 12                     7.0       14197   \n32434485          1                 12                     7.0       38730   \n32434486          1                 12                     7.0       31477   \n32434487          1                 12                     7.0        6567   \n32434488          1                 12                     7.0       22920   \n\n          add_to_cart_order  reordered _merge  \n0                         1          0   both  \n1                         2          0   both  \n2                         3          0   both  \n3                         4          0   both  \n4                         5          0   both  \n...                     ...        ...    ...  \n32434484                  5          1   both  \n32434485                  6          0   both  \n32434486                  7          0   both  \n32434487                  8          0   both  \n32434488                  9          0   both  \n\n[32434489 rows x 13 columns]",
      "text/html": "<div>\n<style scoped>\n    .dataframe tbody tr th:only-of-type {\n        vertical-align: middle;\n    }\n\n    .dataframe tbody tr th {\n        vertical-align: top;\n    }\n\n    .dataframe thead th {\n        text-align: right;\n    }\n</style>\n<table border=\"1\" class=\"dataframe\">\n  <thead>\n    <tr style=\"text-align: right;\">\n      <th></th>\n      <th>Unnamed: 0.1</th>\n      <th>Unnamed: 0</th>\n      <th>order_id</th>\n      <th>user_id</th>\n      <th>eval_set</th>\n      <th>order_number</th>\n      <th>order_dow</th>\n      <th>order_hour_of_day</th>\n      <th>days_since_prior_order</th>\n      <th>product_id</th>\n      <th>add_to_cart_order</th>\n      <th>reordered</th>\n      <th>_merge</th>\n    </tr>\n  </thead>\n  <tbody>\n    <tr>\n      <th>0</th>\n      <td>0</td>\n      <td>0</td>\n      <td>2539329</td>\n      <td>1</td>\n      <td>prior</td>\n      <td>1</td>\n      <td>2</td>\n      <td>8</td>\n      <td>0.0</td>\n      <td>196</td>\n      <td>1</td>\n      <td>0</td>\n      <td>both</td>\n    </tr>\n    <tr>\n      <th>1</th>\n      <td>0</td>\n      <td>0</td>\n      <td>2539329</td>\n      <td>1</td>\n      <td>prior</td>\n      <td>1</td>\n      <td>2</td>\n      <td>8</td>\n      <td>0.0</td>\n      <td>14084</td>\n      <td>2</td>\n      <td>0</td>\n      <td>both</td>\n    </tr>\n    <tr>\n      <th>2</th>\n      <td>0</td>\n      <td>0</td>\n      <td>2539329</td>\n      <td>1</td>\n      <td>prior</td>\n      <td>1</td>\n      <td>2</td>\n      <td>8</td>\n      <td>0.0</td>\n      <td>12427</td>\n      <td>3</td>\n      <td>0</td>\n      <td>both</td>\n    </tr>\n    <tr>\n      <th>3</th>\n      <td>0</td>\n      <td>0</td>\n      <td>2539329</td>\n      <td>1</td>\n      <td>prior</td>\n      <td>1</td>\n      <td>2</td>\n      <td>8</td>\n      <td>0.0</td>\n      <td>26088</td>\n      <td>4</td>\n      <td>0</td>\n      <td>both</td>\n    </tr>\n    <tr>\n      <th>4</th>\n      <td>0</td>\n      <td>0</td>\n      <td>2539329</td>\n      <td>1</td>\n      <td>prior</td>\n      <td>1</td>\n      <td>2</td>\n      <td>8</td>\n      <td>0.0</td>\n      <td>26405</td>\n      <td>5</td>\n      <td>0</td>\n      <td>both</td>\n    </tr>\n    <tr>\n      <th>...</th>\n      <td>...</td>\n      <td>...</td>\n      <td>...</td>\n      <td>...</td>\n      <td>...</td>\n      <td>...</td>\n      <td>...</td>\n      <td>...</td>\n      <td>...</td>\n      <td>...</td>\n      <td>...</td>\n      <td>...</td>\n      <td>...</td>\n    </tr>\n    <tr>\n      <th>32434484</th>\n      <td>3421081</td>\n      <td>3421081</td>\n      <td>2977660</td>\n      <td>206209</td>\n      <td>prior</td>\n      <td>13</td>\n      <td>1</td>\n      <td>12</td>\n      <td>7.0</td>\n      <td>14197</td>\n      <td>5</td>\n      <td>1</td>\n      <td>both</td>\n    </tr>\n    <tr>\n      <th>32434485</th>\n      <td>3421081</td>\n      <td>3421081</td>\n      <td>2977660</td>\n      <td>206209</td>\n      <td>prior</td>\n      <td>13</td>\n      <td>1</td>\n      <td>12</td>\n      <td>7.0</td>\n      <td>38730</td>\n      <td>6</td>\n      <td>0</td>\n      <td>both</td>\n    </tr>\n    <tr>\n      <th>32434486</th>\n      <td>3421081</td>\n      <td>3421081</td>\n      <td>2977660</td>\n      <td>206209</td>\n      <td>prior</td>\n      <td>13</td>\n      <td>1</td>\n      <td>12</td>\n      <td>7.0</td>\n      <td>31477</td>\n      <td>7</td>\n      <td>0</td>\n      <td>both</td>\n    </tr>\n    <tr>\n      <th>32434487</th>\n      <td>3421081</td>\n      <td>3421081</td>\n      <td>2977660</td>\n      <td>206209</td>\n      <td>prior</td>\n      <td>13</td>\n      <td>1</td>\n      <td>12</td>\n      <td>7.0</td>\n      <td>6567</td>\n      <td>8</td>\n      <td>0</td>\n      <td>both</td>\n    </tr>\n    <tr>\n      <th>32434488</th>\n      <td>3421081</td>\n      <td>3421081</td>\n      <td>2977660</td>\n      <td>206209</td>\n      <td>prior</td>\n      <td>13</td>\n      <td>1</td>\n      <td>12</td>\n      <td>7.0</td>\n      <td>22920</td>\n      <td>9</td>\n      <td>0</td>\n      <td>both</td>\n    </tr>\n  </tbody>\n</table>\n<p>32434489 rows × 13 columns</p>\n</div>"
     },
     "execution_count": 19,
     "metadata": {},
     "output_type": "execute_result"
    }
   ],
   "source": [
    "df_ords_merged"
   ],
   "metadata": {
    "collapsed": false,
    "pycharm": {
     "name": "#%%\n"
    }
   }
  },
  {
   "cell_type": "code",
   "execution_count": 20,
   "outputs": [
    {
     "data": {
      "text/plain": "   Unnamed: 0.1  Unnamed: 0  order_id  user_id eval_set  order_number  \\\n0             0           0   2539329        1    prior             1   \n1             0           0   2539329        1    prior             1   \n2             0           0   2539329        1    prior             1   \n3             0           0   2539329        1    prior             1   \n4             0           0   2539329        1    prior             1   \n\n   order_dow  order_hour_of_day  days_since_prior_order  product_id  \\\n0          2                  8                     0.0         196   \n1          2                  8                     0.0       14084   \n2          2                  8                     0.0       12427   \n3          2                  8                     0.0       26088   \n4          2                  8                     0.0       26405   \n\n   add_to_cart_order  reordered _merge  \n0                  1          0   both  \n1                  2          0   both  \n2                  3          0   both  \n3                  4          0   both  \n4                  5          0   both  ",
      "text/html": "<div>\n<style scoped>\n    .dataframe tbody tr th:only-of-type {\n        vertical-align: middle;\n    }\n\n    .dataframe tbody tr th {\n        vertical-align: top;\n    }\n\n    .dataframe thead th {\n        text-align: right;\n    }\n</style>\n<table border=\"1\" class=\"dataframe\">\n  <thead>\n    <tr style=\"text-align: right;\">\n      <th></th>\n      <th>Unnamed: 0.1</th>\n      <th>Unnamed: 0</th>\n      <th>order_id</th>\n      <th>user_id</th>\n      <th>eval_set</th>\n      <th>order_number</th>\n      <th>order_dow</th>\n      <th>order_hour_of_day</th>\n      <th>days_since_prior_order</th>\n      <th>product_id</th>\n      <th>add_to_cart_order</th>\n      <th>reordered</th>\n      <th>_merge</th>\n    </tr>\n  </thead>\n  <tbody>\n    <tr>\n      <th>0</th>\n      <td>0</td>\n      <td>0</td>\n      <td>2539329</td>\n      <td>1</td>\n      <td>prior</td>\n      <td>1</td>\n      <td>2</td>\n      <td>8</td>\n      <td>0.0</td>\n      <td>196</td>\n      <td>1</td>\n      <td>0</td>\n      <td>both</td>\n    </tr>\n    <tr>\n      <th>1</th>\n      <td>0</td>\n      <td>0</td>\n      <td>2539329</td>\n      <td>1</td>\n      <td>prior</td>\n      <td>1</td>\n      <td>2</td>\n      <td>8</td>\n      <td>0.0</td>\n      <td>14084</td>\n      <td>2</td>\n      <td>0</td>\n      <td>both</td>\n    </tr>\n    <tr>\n      <th>2</th>\n      <td>0</td>\n      <td>0</td>\n      <td>2539329</td>\n      <td>1</td>\n      <td>prior</td>\n      <td>1</td>\n      <td>2</td>\n      <td>8</td>\n      <td>0.0</td>\n      <td>12427</td>\n      <td>3</td>\n      <td>0</td>\n      <td>both</td>\n    </tr>\n    <tr>\n      <th>3</th>\n      <td>0</td>\n      <td>0</td>\n      <td>2539329</td>\n      <td>1</td>\n      <td>prior</td>\n      <td>1</td>\n      <td>2</td>\n      <td>8</td>\n      <td>0.0</td>\n      <td>26088</td>\n      <td>4</td>\n      <td>0</td>\n      <td>both</td>\n    </tr>\n    <tr>\n      <th>4</th>\n      <td>0</td>\n      <td>0</td>\n      <td>2539329</td>\n      <td>1</td>\n      <td>prior</td>\n      <td>1</td>\n      <td>2</td>\n      <td>8</td>\n      <td>0.0</td>\n      <td>26405</td>\n      <td>5</td>\n      <td>0</td>\n      <td>both</td>\n    </tr>\n  </tbody>\n</table>\n</div>"
     },
     "execution_count": 20,
     "metadata": {},
     "output_type": "execute_result"
    }
   ],
   "source": [
    "df_ords_merged.head()"
   ],
   "metadata": {
    "collapsed": false,
    "pycharm": {
     "name": "#%%\n"
    }
   }
  },
  {
   "cell_type": "code",
   "execution_count": 21,
   "outputs": [
    {
     "data": {
      "text/plain": "both          32434489\nleft_only            0\nright_only           0\nName: _merge, dtype: int64"
     },
     "execution_count": 21,
     "metadata": {},
     "output_type": "execute_result"
    }
   ],
   "source": [
    "df_ords_merged['_merge'].value_counts()"
   ],
   "metadata": {
    "collapsed": false,
    "pycharm": {
     "name": "#%%\n"
    }
   }
  },
  {
   "cell_type": "code",
   "execution_count": 22,
   "outputs": [],
   "source": [
    "# Export data to pkl\n",
    "\n",
    "df_ords_merged.to_pickle(os.path.join(path2, 'orders_products_combined.pkl'))"
   ],
   "metadata": {
    "collapsed": false,
    "pycharm": {
     "name": "#%%\n"
    }
   }
  },
  {
   "cell_type": "code",
   "execution_count": 24,
   "outputs": [
    {
     "name": "stdout",
     "output_type": "stream",
     "text": [
      "<class 'pandas.core.frame.DataFrame'>\n",
      "Int64Index: 32434489 entries, 0 to 32434488\n",
      "Data columns (total 13 columns):\n",
      " #   Column                  Dtype   \n",
      "---  ------                  -----   \n",
      " 0   Unnamed: 0.1            int64   \n",
      " 1   Unnamed: 0              int64   \n",
      " 2   order_id                int64   \n",
      " 3   user_id                 int64   \n",
      " 4   eval_set                object  \n",
      " 5   order_number            int64   \n",
      " 6   order_dow               int64   \n",
      " 7   order_hour_of_day       int64   \n",
      " 8   days_since_prior_order  float64 \n",
      " 9   product_id              int64   \n",
      " 10  add_to_cart_order       int64   \n",
      " 11  reordered               int64   \n",
      " 12  _merge                  category\n",
      "dtypes: category(1), float64(1), int64(10), object(1)\n",
      "memory usage: 3.2+ GB\n"
     ]
    }
   ],
   "source": [
    "df_ords_merged.info()"
   ],
   "metadata": {
    "collapsed": false,
    "pycharm": {
     "name": "#%%\n"
    }
   }
  },
  {
   "cell_type": "code",
   "execution_count": 25,
   "outputs": [
    {
     "name": "stdout",
     "output_type": "stream",
     "text": [
      "<class 'pandas.core.frame.DataFrame'>\n",
      "RangeIndex: 3421083 entries, 0 to 3421082\n",
      "Data columns (total 9 columns):\n",
      " #   Column                  Dtype  \n",
      "---  ------                  -----  \n",
      " 0   Unnamed: 0.1            int64  \n",
      " 1   Unnamed: 0              int64  \n",
      " 2   order_id                int64  \n",
      " 3   user_id                 int64  \n",
      " 4   eval_set                object \n",
      " 5   order_number            int64  \n",
      " 6   order_dow               int64  \n",
      " 7   order_hour_of_day       int64  \n",
      " 8   days_since_prior_order  float64\n",
      "dtypes: float64(1), int64(7), object(1)\n",
      "memory usage: 234.9+ MB\n"
     ]
    }
   ],
   "source": [
    "df_ords.info()"
   ],
   "metadata": {
    "collapsed": false,
    "pycharm": {
     "name": "#%%\n"
    }
   }
  },
  {
   "cell_type": "code",
   "execution_count": null,
   "outputs": [],
   "source": [],
   "metadata": {
    "collapsed": false,
    "pycharm": {
     "name": "#%%\n"
    }
   }
  }
 ],
 "metadata": {
  "kernelspec": {
   "display_name": "Python 3 (ipykernel)",
   "language": "python",
   "name": "python3"
  },
  "language_info": {
   "codemirror_mode": {
    "name": "ipython",
    "version": 3
   },
   "file_extension": ".py",
   "mimetype": "text/x-python",
   "name": "python",
   "nbconvert_exporter": "python",
   "pygments_lexer": "ipython3",
   "version": "3.9.12"
  }
 },
 "nbformat": 4,
 "nbformat_minor": 5
}