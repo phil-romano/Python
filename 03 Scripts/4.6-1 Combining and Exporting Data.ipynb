{
 "cells": [
  {
   "cell_type": "code",
   "execution_count": 5,
   "outputs": [],
   "source": [
    "#import libraries\n",
    "import pandas as pd\n",
    "import numpy as np\n",
    "import os\n",
    "\n",
    "#import files\n",
    "path = r'..\\02 Data\\Original Data'\n",
    "path2 = r'..\\02 Data\\Prepared Data'\n",
    "\n",
    "#import departments dataframe\n",
    "df_ords_merged = pd.read_pickle(os.path.join(path2, 'orders_products_combined.pkl'))\n",
    "df_prods = pd.read_csv(os.path.join(path2, 'products_clean.csv'))"
   ],
   "metadata": {
    "collapsed": false,
    "pycharm": {
     "name": "#%%\n"
    }
   }
  },
  {
   "cell_type": "code",
   "execution_count": 4,
   "outputs": [
    {
     "data": {
      "text/plain": "(32434489, 13)"
     },
     "execution_count": 4,
     "metadata": {},
     "output_type": "execute_result"
    }
   ],
   "source": [
    "df_ords_merged.shape"
   ],
   "metadata": {
    "collapsed": false,
    "pycharm": {
     "name": "#%%\n"
    }
   }
  },
  {
   "cell_type": "code",
   "execution_count": 6,
   "outputs": [
    {
     "name": "stdout",
     "output_type": "stream",
     "text": [
      "<class 'pandas.core.frame.DataFrame'>\n",
      "Int64Index: 32434489 entries, 0 to 32434488\n",
      "Data columns (total 13 columns):\n",
      " #   Column                  Dtype   \n",
      "---  ------                  -----   \n",
      " 0   Unnamed: 0.1            int64   \n",
      " 1   Unnamed: 0              int64   \n",
      " 2   order_id                int64   \n",
      " 3   user_id                 int64   \n",
      " 4   eval_set                object  \n",
      " 5   order_number            int64   \n",
      " 6   order_dow               int64   \n",
      " 7   order_hour_of_day       int64   \n",
      " 8   days_since_prior_order  float64 \n",
      " 9   product_id              int64   \n",
      " 10  add_to_cart_order       int64   \n",
      " 11  reordered               int64   \n",
      " 12  _merge                  category\n",
      "dtypes: category(1), float64(1), int64(10), object(1)\n",
      "memory usage: 3.2+ GB\n"
     ]
    }
   ],
   "source": [
    "df_ords_merged.info()"
   ],
   "metadata": {
    "collapsed": false,
    "pycharm": {
     "name": "#%%\n"
    }
   }
  },
  {
   "cell_type": "code",
   "execution_count": 7,
   "outputs": [
    {
     "name": "stdout",
     "output_type": "stream",
     "text": [
      "<class 'pandas.core.frame.DataFrame'>\n",
      "RangeIndex: 49672 entries, 0 to 49671\n",
      "Data columns (total 6 columns):\n",
      " #   Column         Non-Null Count  Dtype  \n",
      "---  ------         --------------  -----  \n",
      " 0   Unnamed: 0     49672 non-null  int64  \n",
      " 1   product_id     49672 non-null  int64  \n",
      " 2   product_name   49672 non-null  object \n",
      " 3   aisle_id       49672 non-null  int64  \n",
      " 4   department_id  49672 non-null  int64  \n",
      " 5   prices         49672 non-null  float64\n",
      "dtypes: float64(1), int64(4), object(1)\n",
      "memory usage: 2.3+ MB\n"
     ]
    }
   ],
   "source": [
    "df_prods.info()"
   ],
   "metadata": {
    "collapsed": false,
    "pycharm": {
     "name": "#%%\n"
    }
   }
  },
  {
   "cell_type": "code",
   "execution_count": 10,
   "outputs": [],
   "source": [
    "df_ords_merged1 = df_ords_merged.drop(['_merge'], axis=1)"
   ],
   "metadata": {
    "collapsed": false,
    "pycharm": {
     "name": "#%%\n"
    }
   }
  },
  {
   "cell_type": "code",
   "execution_count": 11,
   "outputs": [],
   "source": [
    "df_ords_prods_merged = df_ords_merged1.merge(df_prods, on='product_id', indicator=True)"
   ],
   "metadata": {
    "collapsed": false,
    "pycharm": {
     "name": "#%%\n"
    }
   }
  },
  {
   "cell_type": "code",
   "execution_count": 12,
   "outputs": [
    {
     "data": {
      "text/plain": "both          32404859\nleft_only            0\nright_only           0\nName: _merge, dtype: int64"
     },
     "execution_count": 12,
     "metadata": {},
     "output_type": "execute_result"
    }
   ],
   "source": [
    "df_ords_prods_merged['_merge'].value_counts()"
   ],
   "metadata": {
    "collapsed": false,
    "pycharm": {
     "name": "#%%\n"
    }
   }
  },
  {
   "cell_type": "code",
   "execution_count": 13,
   "outputs": [
    {
     "data": {
      "text/plain": "          Unnamed: 0.1  Unnamed: 0_x  order_id  user_id eval_set  \\\n0                    0             0   2539329        1    prior   \n1                    1             1   2398795        1    prior   \n2                    2             2    473747        1    prior   \n3                    3             3   2254736        1    prior   \n4                    4             4    431534        1    prior   \n...                ...           ...       ...      ...      ...   \n32404854       3360493       3360493   1320836   202557    prior   \n32404855       3360494       3360494     31526   202557    prior   \n32404856       3376038       3376038    758936   203436    prior   \n32404857       3376039       3376039   2745165   203436    prior   \n32404858       3408036       3408036   3093936   205420    prior   \n\n          order_number  order_dow  order_hour_of_day  days_since_prior_order  \\\n0                    1          2                  8                     0.0   \n1                    2          3                  7                    15.0   \n2                    3          3                 12                    21.0   \n3                    4          4                  7                    29.0   \n4                    5          4                 15                    28.0   \n...                ...        ...                ...                     ...   \n32404854            17          2                 15                     1.0   \n32404855            18          5                 11                     3.0   \n32404856             1          2                  7                     0.0   \n32404857             2          3                  5                    15.0   \n32404858             1          4                 14                     0.0   \n\n          product_id  add_to_cart_order  reordered  Unnamed: 0_y  \\\n0                196                  1          0           195   \n1                196                  1          1           195   \n2                196                  1          1           195   \n3                196                  1          1           195   \n4                196                  1          1           195   \n...              ...                ...        ...           ...   \n32404854       43553                  2          1         43557   \n32404855       43553                  2          1         43557   \n32404856       42338                  4          0         42342   \n32404857       42338                 16          1         42342   \n32404858       28818                  8          0         28820   \n\n                           product_name  aisle_id  department_id  prices  \\\n0                                  Soda        77              7     9.0   \n1                                  Soda        77              7     9.0   \n2                                  Soda        77              7     9.0   \n3                                  Soda        77              7     9.0   \n4                                  Soda        77              7     9.0   \n...                                 ...       ...            ...     ...   \n32404854            Orange Energy Shots        64              7     3.7   \n32404855            Orange Energy Shots        64              7     3.7   \n32404856          Zucchini Chips, Pesto        50             19     6.9   \n32404857          Zucchini Chips, Pesto        50             19     6.9   \n32404858  Hot Oatmeal Multigrain Raisin       130             14    10.3   \n\n         _merge  \n0          both  \n1          both  \n2          both  \n3          both  \n4          both  \n...         ...  \n32404854   both  \n32404855   both  \n32404856   both  \n32404857   both  \n32404858   both  \n\n[32404859 rows x 18 columns]",
      "text/html": "<div>\n<style scoped>\n    .dataframe tbody tr th:only-of-type {\n        vertical-align: middle;\n    }\n\n    .dataframe tbody tr th {\n        vertical-align: top;\n    }\n\n    .dataframe thead th {\n        text-align: right;\n    }\n</style>\n<table border=\"1\" class=\"dataframe\">\n  <thead>\n    <tr style=\"text-align: right;\">\n      <th></th>\n      <th>Unnamed: 0.1</th>\n      <th>Unnamed: 0_x</th>\n      <th>order_id</th>\n      <th>user_id</th>\n      <th>eval_set</th>\n      <th>order_number</th>\n      <th>order_dow</th>\n      <th>order_hour_of_day</th>\n      <th>days_since_prior_order</th>\n      <th>product_id</th>\n      <th>add_to_cart_order</th>\n      <th>reordered</th>\n      <th>Unnamed: 0_y</th>\n      <th>product_name</th>\n      <th>aisle_id</th>\n      <th>department_id</th>\n      <th>prices</th>\n      <th>_merge</th>\n    </tr>\n  </thead>\n  <tbody>\n    <tr>\n      <th>0</th>\n      <td>0</td>\n      <td>0</td>\n      <td>2539329</td>\n      <td>1</td>\n      <td>prior</td>\n      <td>1</td>\n      <td>2</td>\n      <td>8</td>\n      <td>0.0</td>\n      <td>196</td>\n      <td>1</td>\n      <td>0</td>\n      <td>195</td>\n      <td>Soda</td>\n      <td>77</td>\n      <td>7</td>\n      <td>9.0</td>\n      <td>both</td>\n    </tr>\n    <tr>\n      <th>1</th>\n      <td>1</td>\n      <td>1</td>\n      <td>2398795</td>\n      <td>1</td>\n      <td>prior</td>\n      <td>2</td>\n      <td>3</td>\n      <td>7</td>\n      <td>15.0</td>\n      <td>196</td>\n      <td>1</td>\n      <td>1</td>\n      <td>195</td>\n      <td>Soda</td>\n      <td>77</td>\n      <td>7</td>\n      <td>9.0</td>\n      <td>both</td>\n    </tr>\n    <tr>\n      <th>2</th>\n      <td>2</td>\n      <td>2</td>\n      <td>473747</td>\n      <td>1</td>\n      <td>prior</td>\n      <td>3</td>\n      <td>3</td>\n      <td>12</td>\n      <td>21.0</td>\n      <td>196</td>\n      <td>1</td>\n      <td>1</td>\n      <td>195</td>\n      <td>Soda</td>\n      <td>77</td>\n      <td>7</td>\n      <td>9.0</td>\n      <td>both</td>\n    </tr>\n    <tr>\n      <th>3</th>\n      <td>3</td>\n      <td>3</td>\n      <td>2254736</td>\n      <td>1</td>\n      <td>prior</td>\n      <td>4</td>\n      <td>4</td>\n      <td>7</td>\n      <td>29.0</td>\n      <td>196</td>\n      <td>1</td>\n      <td>1</td>\n      <td>195</td>\n      <td>Soda</td>\n      <td>77</td>\n      <td>7</td>\n      <td>9.0</td>\n      <td>both</td>\n    </tr>\n    <tr>\n      <th>4</th>\n      <td>4</td>\n      <td>4</td>\n      <td>431534</td>\n      <td>1</td>\n      <td>prior</td>\n      <td>5</td>\n      <td>4</td>\n      <td>15</td>\n      <td>28.0</td>\n      <td>196</td>\n      <td>1</td>\n      <td>1</td>\n      <td>195</td>\n      <td>Soda</td>\n      <td>77</td>\n      <td>7</td>\n      <td>9.0</td>\n      <td>both</td>\n    </tr>\n    <tr>\n      <th>...</th>\n      <td>...</td>\n      <td>...</td>\n      <td>...</td>\n      <td>...</td>\n      <td>...</td>\n      <td>...</td>\n      <td>...</td>\n      <td>...</td>\n      <td>...</td>\n      <td>...</td>\n      <td>...</td>\n      <td>...</td>\n      <td>...</td>\n      <td>...</td>\n      <td>...</td>\n      <td>...</td>\n      <td>...</td>\n      <td>...</td>\n    </tr>\n    <tr>\n      <th>32404854</th>\n      <td>3360493</td>\n      <td>3360493</td>\n      <td>1320836</td>\n      <td>202557</td>\n      <td>prior</td>\n      <td>17</td>\n      <td>2</td>\n      <td>15</td>\n      <td>1.0</td>\n      <td>43553</td>\n      <td>2</td>\n      <td>1</td>\n      <td>43557</td>\n      <td>Orange Energy Shots</td>\n      <td>64</td>\n      <td>7</td>\n      <td>3.7</td>\n      <td>both</td>\n    </tr>\n    <tr>\n      <th>32404855</th>\n      <td>3360494</td>\n      <td>3360494</td>\n      <td>31526</td>\n      <td>202557</td>\n      <td>prior</td>\n      <td>18</td>\n      <td>5</td>\n      <td>11</td>\n      <td>3.0</td>\n      <td>43553</td>\n      <td>2</td>\n      <td>1</td>\n      <td>43557</td>\n      <td>Orange Energy Shots</td>\n      <td>64</td>\n      <td>7</td>\n      <td>3.7</td>\n      <td>both</td>\n    </tr>\n    <tr>\n      <th>32404856</th>\n      <td>3376038</td>\n      <td>3376038</td>\n      <td>758936</td>\n      <td>203436</td>\n      <td>prior</td>\n      <td>1</td>\n      <td>2</td>\n      <td>7</td>\n      <td>0.0</td>\n      <td>42338</td>\n      <td>4</td>\n      <td>0</td>\n      <td>42342</td>\n      <td>Zucchini Chips, Pesto</td>\n      <td>50</td>\n      <td>19</td>\n      <td>6.9</td>\n      <td>both</td>\n    </tr>\n    <tr>\n      <th>32404857</th>\n      <td>3376039</td>\n      <td>3376039</td>\n      <td>2745165</td>\n      <td>203436</td>\n      <td>prior</td>\n      <td>2</td>\n      <td>3</td>\n      <td>5</td>\n      <td>15.0</td>\n      <td>42338</td>\n      <td>16</td>\n      <td>1</td>\n      <td>42342</td>\n      <td>Zucchini Chips, Pesto</td>\n      <td>50</td>\n      <td>19</td>\n      <td>6.9</td>\n      <td>both</td>\n    </tr>\n    <tr>\n      <th>32404858</th>\n      <td>3408036</td>\n      <td>3408036</td>\n      <td>3093936</td>\n      <td>205420</td>\n      <td>prior</td>\n      <td>1</td>\n      <td>4</td>\n      <td>14</td>\n      <td>0.0</td>\n      <td>28818</td>\n      <td>8</td>\n      <td>0</td>\n      <td>28820</td>\n      <td>Hot Oatmeal Multigrain Raisin</td>\n      <td>130</td>\n      <td>14</td>\n      <td>10.3</td>\n      <td>both</td>\n    </tr>\n  </tbody>\n</table>\n<p>32404859 rows × 18 columns</p>\n</div>"
     },
     "execution_count": 13,
     "metadata": {},
     "output_type": "execute_result"
    }
   ],
   "source": [
    "df_ords_prods_merged"
   ],
   "metadata": {
    "collapsed": false,
    "pycharm": {
     "name": "#%%\n"
    }
   }
  },
  {
   "cell_type": "code",
   "execution_count": 14,
   "outputs": [],
   "source": [
    "# Export data to pkl\n",
    "\n",
    "df_ords_prods_merged.to_pickle(os.path.join(path2, 'orders_products_merged.pkl'))"
   ],
   "metadata": {
    "collapsed": false,
    "pycharm": {
     "name": "#%%\n"
    }
   }
  },
  {
   "cell_type": "code",
   "execution_count": null,
   "outputs": [],
   "source": [],
   "metadata": {
    "collapsed": false,
    "pycharm": {
     "name": "#%%\n"
    }
   }
  }
 ],
 "metadata": {
  "kernelspec": {
   "display_name": "Python 3",
   "language": "python",
   "name": "python3"
  },
  "language_info": {
   "codemirror_mode": {
    "name": "ipython",
    "version": 2
   },
   "file_extension": ".py",
   "mimetype": "text/x-python",
   "name": "python",
   "nbconvert_exporter": "python",
   "pygments_lexer": "ipython2",
   "version": "2.7.6"
  }
 },
 "nbformat": 4,
 "nbformat_minor": 0
}