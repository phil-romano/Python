{
 "cells": [
  {
   "cell_type": "code",
   "execution_count": 13,
   "outputs": [],
   "source": [
    "#import libraries\n",
    "import pandas as pd\n",
    "import os\n",
    "\n",
    "#import files\n",
    "path = r'..\\02 Data\\Original Data'\n",
    "path2 = r'..\\02 Data\\Prepared Data'\n",
    "\n",
    "#import dataframe\n",
    "df_ords_merged = pd.read_pickle(os.path.join(path2,'orders_products_merged.pkl'))\n",
    "\n",
    "df = df_ords_merged[:1000000]"
   ],
   "metadata": {
    "collapsed": false,
    "pycharm": {
     "name": "#%%\n"
    }
   }
  },
  {
   "cell_type": "code",
   "execution_count": 22,
   "outputs": [
    {
     "name": "stdout",
     "output_type": "stream",
     "text": [
      "<class 'pandas.core.frame.DataFrame'>\n",
      "Int64Index: 32404859 entries, 0 to 32404858\n",
      "Data columns (total 19 columns):\n",
      " #   Column                  Dtype   \n",
      "---  ------                  -----   \n",
      " 0   Unnamed: 0.1            int64   \n",
      " 1   Unnamed: 0_x            int64   \n",
      " 2   order_id                int64   \n",
      " 3   user_id                 int64   \n",
      " 4   eval_set                object  \n",
      " 5   order_number            int64   \n",
      " 6   order_dow               int64   \n",
      " 7   order_hour_of_day       int64   \n",
      " 8   days_since_prior_order  float64 \n",
      " 9   product_id              int64   \n",
      " 10  add_to_cart_order       int64   \n",
      " 11  reordered               int64   \n",
      " 12  Unnamed: 0_y            int64   \n",
      " 13  product_name            object  \n",
      " 14  aisle_id                int64   \n",
      " 15  department_id           int64   \n",
      " 16  prices                  float64 \n",
      " 17  _merge                  category\n",
      " 18  price_range_loc         object  \n",
      "dtypes: category(1), float64(2), int64(13), object(3)\n",
      "memory usage: 4.6+ GB\n"
     ]
    }
   ],
   "source": [
    "df_ords_merged.info()"
   ],
   "metadata": {
    "collapsed": false,
    "pycharm": {
     "name": "#%%\n"
    }
   }
  },
  {
   "cell_type": "code",
   "execution_count": 16,
   "outputs": [
    {
     "name": "stderr",
     "output_type": "stream",
     "text": [
      "C:\\Users\\heres\\AppData\\Local\\Temp\\ipykernel_31504\\896978190.py:14: SettingWithCopyWarning: \n",
      "A value is trying to be set on a copy of a slice from a DataFrame.\n",
      "Try using .loc[row_indexer,col_indexer] = value instead\n",
      "\n",
      "See the caveats in the documentation: https://pandas.pydata.org/pandas-docs/stable/user_guide/indexing.html#returning-a-view-versus-a-copy\n",
      "  df['price_range'] = df.apply(price_label, axis=1)\n"
     ]
    },
    {
     "data": {
      "text/plain": "Mid-range product    756450\nLow-range product    243550\nName: price_range, dtype: int64"
     },
     "execution_count": 16,
     "metadata": {},
     "output_type": "execute_result"
    }
   ],
   "source": [
    "#define a function\n",
    "\n",
    "def price_label(row):\n",
    "\n",
    "    if row['prices'] <= 5:\n",
    "        return 'Low-range product'\n",
    "    elif (row['prices'] > 5) and (row['prices'] <= 15):\n",
    "        return 'Mid-range product'\n",
    "    elif row['prices'] > 15:\n",
    "        return 'High range'\n",
    "    else: return 'Not enough data'\n",
    "\n",
    "#apply function\n",
    "df['price_range'] = df.apply(price_label, axis=1)\n",
    "df['price_range'].value_counts(dropna = False)"
   ],
   "metadata": {
    "collapsed": false,
    "pycharm": {
     "name": "#%%\n"
    }
   }
  },
  {
   "cell_type": "code",
   "execution_count": 17,
   "outputs": [
    {
     "data": {
      "text/plain": "14.8"
     },
     "execution_count": 17,
     "metadata": {},
     "output_type": "execute_result"
    }
   ],
   "source": [
    "df['prices'].max( )"
   ],
   "metadata": {
    "collapsed": false,
    "pycharm": {
     "name": "#%%\n"
    }
   }
  },
  {
   "cell_type": "code",
   "execution_count": 19,
   "outputs": [
    {
     "data": {
      "text/plain": "Mid-range product     21860860\nLow-range product     10126321\nHigh-range product      417678\nName: price_range_loc, dtype: int64"
     },
     "execution_count": 19,
     "metadata": {},
     "output_type": "execute_result"
    }
   ],
   "source": [
    "#Apply loc function to label prices\n",
    "df_ords_merged.loc[df_ords_merged['prices'] > 15, 'price_range_loc'] = 'High-range product'\n",
    "df_ords_merged.loc[(df_ords_merged['prices'] <= 15) & (df_ords_merged['prices'] > 5), 'price_range_loc'] = 'Mid-range product'\n",
    "df_ords_merged.loc[df_ords_merged['prices'] <= 5, 'price_range_loc'] = 'Low-range product'\n",
    "\n",
    "df_ords_merged['price_range_loc'].value_counts(dropna= False)"
   ],
   "metadata": {
    "collapsed": false,
    "pycharm": {
     "name": "#%%\n"
    }
   }
  },
  {
   "cell_type": "code",
   "execution_count": 23,
   "outputs": [
    {
     "data": {
      "text/plain": "0    6204182\n1    5660230\n6    4496490\n2    4213830\n5    4205791\n3    3840534\n4    3783802\nName: order_dow, dtype: int64"
     },
     "execution_count": 23,
     "metadata": {},
     "output_type": "execute_result"
    }
   ],
   "source": [
    "#Count frequency\n",
    "df_ords_merged['order_dow'].value_counts(dropna= False)"
   ],
   "metadata": {
    "collapsed": false,
    "pycharm": {
     "name": "#%%\n"
    }
   }
  },
  {
   "cell_type": "code",
   "execution_count": 25,
   "outputs": [],
   "source": [
    "#Loop through order_dow\n",
    "result = []\n",
    "\n",
    "for value in df_ords_merged[\"order_dow\"]:\n",
    "    if value == 0:\n",
    "        result.append(\"Busiest day\")\n",
    "    elif value == 4:\n",
    "        result.append(\"Least busy\")\n",
    "    else:\n",
    "        result.append(\"Regularly busy\")"
   ],
   "metadata": {
    "collapsed": false,
    "pycharm": {
     "name": "#%%\n"
    }
   }
  },
  {
   "cell_type": "code",
   "execution_count": 26,
   "outputs": [
    {
     "data": {
      "text/plain": "['Regularly busy',\n 'Regularly busy',\n 'Regularly busy',\n 'Least busy',\n 'Least busy',\n 'Regularly busy',\n 'Regularly busy',\n 'Regularly busy',\n 'Regularly busy',\n 'Least busy',\n 'Regularly busy',\n 'Regularly busy',\n 'Regularly busy',\n 'Regularly busy',\n 'Regularly busy',\n 'Regularly busy',\n 'Regularly busy',\n 'Least busy',\n 'Regularly busy',\n 'Regularly busy',\n 'Regularly busy',\n 'Least busy',\n 'Least busy',\n 'Regularly busy',\n 'Regularly busy',\n 'Regularly busy',\n 'Regularly busy',\n 'Regularly busy',\n 'Regularly busy',\n 'Regularly busy',\n 'Regularly busy',\n 'Regularly busy',\n 'Regularly busy',\n 'Regularly busy',\n 'Regularly busy',\n 'Regularly busy',\n 'Regularly busy',\n 'Regularly busy',\n 'Regularly busy',\n 'Regularly busy',\n 'Regularly busy',\n 'Regularly busy',\n 'Regularly busy',\n 'Regularly busy',\n 'Regularly busy',\n 'Regularly busy',\n 'Regularly busy',\n 'Regularly busy',\n 'Regularly busy',\n 'Regularly busy',\n 'Least busy',\n 'Regularly busy',\n 'Busiest day',\n 'Regularly busy',\n 'Regularly busy',\n 'Regularly busy',\n 'Regularly busy',\n 'Regularly busy',\n 'Regularly busy',\n 'Regularly busy',\n 'Busiest day',\n 'Least busy',\n 'Regularly busy',\n 'Regularly busy',\n 'Regularly busy',\n 'Regularly busy',\n 'Regularly busy',\n 'Busiest day',\n 'Regularly busy',\n 'Regularly busy',\n 'Least busy',\n 'Regularly busy',\n 'Least busy',\n 'Regularly busy',\n 'Regularly busy',\n 'Regularly busy',\n 'Regularly busy',\n 'Regularly busy',\n 'Regularly busy',\n 'Regularly busy',\n 'Regularly busy',\n 'Regularly busy',\n 'Regularly busy',\n 'Regularly busy',\n 'Regularly busy',\n 'Regularly busy',\n 'Regularly busy',\n 'Regularly busy',\n 'Regularly busy',\n 'Least busy',\n 'Regularly busy',\n 'Regularly busy',\n 'Regularly busy',\n 'Regularly busy',\n 'Regularly busy',\n 'Regularly busy',\n 'Regularly busy',\n 'Least busy',\n 'Regularly busy',\n 'Regularly busy',\n 'Regularly busy',\n 'Regularly busy',\n 'Regularly busy',\n 'Regularly busy',\n 'Regularly busy',\n 'Regularly busy',\n 'Regularly busy',\n 'Regularly busy',\n 'Regularly busy',\n 'Regularly busy',\n 'Regularly busy',\n 'Least busy',\n 'Regularly busy',\n 'Regularly busy',\n 'Regularly busy',\n 'Regularly busy',\n 'Busiest day',\n 'Regularly busy',\n 'Busiest day',\n 'Regularly busy',\n 'Regularly busy',\n 'Regularly busy',\n 'Regularly busy',\n 'Regularly busy',\n 'Regularly busy',\n 'Regularly busy',\n 'Busiest day',\n 'Regularly busy',\n 'Least busy',\n 'Regularly busy',\n 'Regularly busy',\n 'Regularly busy',\n 'Regularly busy',\n 'Regularly busy',\n 'Regularly busy',\n 'Regularly busy',\n 'Regularly busy',\n 'Regularly busy',\n 'Regularly busy',\n 'Least busy',\n 'Regularly busy',\n 'Regularly busy',\n 'Busiest day',\n 'Regularly busy',\n 'Regularly busy',\n 'Regularly busy',\n 'Regularly busy',\n 'Busiest day',\n 'Regularly busy',\n 'Regularly busy',\n 'Least busy',\n 'Least busy',\n 'Regularly busy',\n 'Regularly busy',\n 'Regularly busy',\n 'Regularly busy',\n 'Regularly busy',\n 'Busiest day',\n 'Regularly busy',\n 'Busiest day',\n 'Regularly busy',\n 'Regularly busy',\n 'Regularly busy',\n 'Regularly busy',\n 'Least busy',\n 'Regularly busy',\n 'Regularly busy',\n 'Busiest day',\n 'Busiest day',\n 'Regularly busy',\n 'Regularly busy',\n 'Regularly busy',\n 'Regularly busy',\n 'Regularly busy',\n 'Regularly busy',\n 'Regularly busy',\n 'Regularly busy',\n 'Busiest day',\n 'Regularly busy',\n 'Regularly busy',\n 'Least busy',\n 'Regularly busy',\n 'Regularly busy',\n 'Regularly busy',\n 'Regularly busy',\n 'Regularly busy',\n 'Regularly busy',\n 'Regularly busy',\n 'Regularly busy',\n 'Least busy',\n 'Regularly busy',\n 'Regularly busy',\n 'Regularly busy',\n 'Regularly busy',\n 'Least busy',\n 'Regularly busy',\n 'Regularly busy',\n 'Regularly busy',\n 'Regularly busy',\n 'Regularly busy',\n 'Regularly busy',\n 'Regularly busy',\n 'Regularly busy',\n 'Regularly busy',\n 'Least busy',\n 'Regularly busy',\n 'Regularly busy',\n 'Busiest day',\n 'Regularly busy',\n 'Least busy',\n 'Regularly busy',\n 'Regularly busy',\n 'Regularly busy',\n 'Regularly busy',\n 'Regularly busy',\n 'Regularly busy',\n 'Busiest day',\n 'Regularly busy',\n 'Regularly busy',\n 'Regularly busy',\n 'Regularly busy',\n 'Least busy',\n 'Regularly busy',\n 'Regularly busy',\n 'Regularly busy',\n 'Regularly busy',\n 'Regularly busy',\n 'Least busy',\n 'Least busy',\n 'Least busy',\n 'Regularly busy',\n 'Regularly busy',\n 'Least busy',\n 'Regularly busy',\n 'Least busy',\n 'Regularly busy',\n 'Regularly busy',\n 'Regularly busy',\n 'Regularly busy',\n 'Regularly busy',\n 'Regularly busy',\n 'Busiest day',\n 'Busiest day',\n 'Busiest day',\n 'Busiest day',\n 'Busiest day',\n 'Busiest day',\n 'Regularly busy',\n 'Least busy',\n 'Busiest day',\n 'Regularly busy',\n 'Regularly busy',\n 'Least busy',\n 'Regularly busy',\n 'Regularly busy',\n 'Least busy',\n 'Least busy',\n 'Regularly busy',\n 'Busiest day',\n 'Regularly busy',\n 'Regularly busy',\n 'Regularly busy',\n 'Regularly busy',\n 'Regularly busy',\n 'Busiest day',\n 'Regularly busy',\n 'Regularly busy',\n 'Regularly busy',\n 'Regularly busy',\n 'Regularly busy',\n 'Regularly busy',\n 'Regularly busy',\n 'Regularly busy',\n 'Regularly busy',\n 'Least busy',\n 'Regularly busy',\n 'Least busy',\n 'Regularly busy',\n 'Regularly busy',\n 'Least busy',\n 'Busiest day',\n 'Busiest day',\n 'Regularly busy',\n 'Regularly busy',\n 'Regularly busy',\n 'Regularly busy',\n 'Regularly busy',\n 'Regularly busy',\n 'Regularly busy',\n 'Regularly busy',\n 'Regularly busy',\n 'Busiest day',\n 'Regularly busy',\n 'Regularly busy',\n 'Regularly busy',\n 'Regularly busy',\n 'Regularly busy',\n 'Regularly busy',\n 'Regularly busy',\n 'Regularly busy',\n 'Least busy',\n 'Least busy',\n 'Least busy',\n 'Regularly busy',\n 'Regularly busy',\n 'Least busy',\n 'Regularly busy',\n 'Least busy',\n 'Busiest day',\n 'Regularly busy',\n 'Busiest day',\n 'Busiest day',\n 'Regularly busy',\n 'Busiest day',\n 'Regularly busy',\n 'Regularly busy',\n 'Regularly busy',\n 'Least busy',\n 'Regularly busy',\n 'Least busy',\n 'Regularly busy',\n 'Regularly busy',\n 'Least busy',\n 'Regularly busy',\n 'Regularly busy',\n 'Regularly busy',\n 'Busiest day',\n 'Regularly busy',\n 'Regularly busy',\n 'Busiest day',\n 'Regularly busy',\n 'Regularly busy',\n 'Busiest day',\n 'Regularly busy',\n 'Least busy',\n 'Regularly busy',\n 'Regularly busy',\n 'Regularly busy',\n 'Regularly busy',\n 'Busiest day',\n 'Regularly busy',\n 'Least busy',\n 'Regularly busy',\n 'Busiest day',\n 'Regularly busy',\n 'Least busy',\n 'Regularly busy',\n 'Least busy',\n 'Regularly busy',\n 'Regularly busy',\n 'Least busy',\n 'Regularly busy',\n 'Regularly busy',\n 'Least busy',\n 'Regularly busy',\n 'Regularly busy',\n 'Regularly busy',\n 'Regularly busy',\n 'Regularly busy',\n 'Regularly busy',\n 'Regularly busy',\n 'Regularly busy',\n 'Busiest day',\n 'Regularly busy',\n 'Regularly busy',\n 'Regularly busy',\n 'Regularly busy',\n 'Regularly busy',\n 'Busiest day',\n 'Regularly busy',\n 'Regularly busy',\n 'Regularly busy',\n 'Busiest day',\n 'Regularly busy',\n 'Regularly busy',\n 'Regularly busy',\n 'Regularly busy',\n 'Regularly busy',\n 'Regularly busy',\n 'Regularly busy',\n 'Regularly busy',\n 'Regularly busy',\n 'Regularly busy',\n 'Regularly busy',\n 'Regularly busy',\n 'Regularly busy',\n 'Regularly busy',\n 'Least busy',\n 'Regularly busy',\n 'Regularly busy',\n 'Regularly busy',\n 'Regularly busy',\n 'Regularly busy',\n 'Regularly busy',\n 'Regularly busy',\n 'Least busy',\n 'Regularly busy',\n 'Regularly busy',\n 'Least busy',\n 'Regularly busy',\n 'Regularly busy',\n 'Regularly busy',\n 'Regularly busy',\n 'Regularly busy',\n 'Regularly busy',\n 'Regularly busy',\n 'Regularly busy',\n 'Regularly busy',\n 'Regularly busy',\n 'Regularly busy',\n 'Regularly busy',\n 'Regularly busy',\n 'Least busy',\n 'Regularly busy',\n 'Regularly busy',\n 'Regularly busy',\n 'Regularly busy',\n 'Regularly busy',\n 'Regularly busy',\n 'Regularly busy',\n 'Regularly busy',\n 'Regularly busy',\n 'Regularly busy',\n 'Regularly busy',\n 'Regularly busy',\n 'Regularly busy',\n 'Regularly busy',\n 'Regularly busy',\n 'Regularly busy',\n 'Regularly busy',\n 'Least busy',\n 'Regularly busy',\n 'Regularly busy',\n 'Regularly busy',\n 'Regularly busy',\n 'Regularly busy',\n 'Regularly busy',\n 'Least busy',\n 'Regularly busy',\n 'Regularly busy',\n 'Regularly busy',\n 'Least busy',\n 'Regularly busy',\n 'Least busy',\n 'Least busy',\n 'Regularly busy',\n 'Regularly busy',\n 'Regularly busy',\n 'Regularly busy',\n 'Regularly busy',\n 'Regularly busy',\n 'Regularly busy',\n 'Regularly busy',\n 'Regularly busy',\n 'Regularly busy',\n 'Regularly busy',\n 'Regularly busy',\n 'Busiest day',\n 'Regularly busy',\n 'Regularly busy',\n 'Regularly busy',\n 'Regularly busy',\n 'Regularly busy',\n 'Busiest day',\n 'Busiest day',\n 'Regularly busy',\n 'Regularly busy',\n 'Regularly busy',\n 'Regularly busy',\n 'Regularly busy',\n 'Least busy',\n 'Regularly busy',\n 'Regularly busy',\n 'Regularly busy',\n 'Least busy',\n 'Regularly busy',\n 'Regularly busy',\n 'Regularly busy',\n 'Regularly busy',\n 'Regularly busy',\n 'Regularly busy',\n 'Regularly busy',\n 'Least busy',\n 'Least busy',\n 'Least busy',\n 'Regularly busy',\n 'Regularly busy',\n 'Regularly busy',\n 'Regularly busy',\n 'Busiest day',\n 'Regularly busy',\n 'Regularly busy',\n 'Least busy',\n 'Regularly busy',\n 'Regularly busy',\n 'Busiest day',\n 'Least busy',\n 'Busiest day',\n 'Regularly busy',\n 'Regularly busy',\n 'Regularly busy',\n 'Regularly busy',\n 'Regularly busy',\n 'Regularly busy',\n 'Least busy',\n 'Regularly busy',\n 'Regularly busy',\n 'Busiest day',\n 'Regularly busy',\n 'Regularly busy',\n 'Regularly busy',\n 'Regularly busy',\n 'Busiest day',\n 'Least busy',\n 'Regularly busy',\n 'Regularly busy',\n 'Regularly busy',\n 'Least busy',\n 'Least busy',\n 'Regularly busy',\n 'Least busy',\n 'Regularly busy',\n 'Regularly busy',\n 'Regularly busy',\n 'Regularly busy',\n 'Least busy',\n 'Regularly busy',\n 'Regularly busy',\n 'Regularly busy',\n 'Regularly busy',\n 'Regularly busy',\n 'Regularly busy',\n 'Least busy',\n 'Regularly busy',\n 'Regularly busy',\n 'Regularly busy',\n 'Regularly busy',\n 'Regularly busy',\n 'Regularly busy',\n 'Regularly busy',\n 'Regularly busy',\n 'Regularly busy',\n 'Regularly busy',\n 'Regularly busy',\n 'Regularly busy',\n 'Regularly busy',\n 'Regularly busy',\n 'Least busy',\n 'Regularly busy',\n 'Regularly busy',\n 'Least busy',\n 'Least busy',\n 'Regularly busy',\n 'Busiest day',\n 'Busiest day',\n 'Regularly busy',\n 'Regularly busy',\n 'Regularly busy',\n 'Regularly busy',\n 'Regularly busy',\n 'Regularly busy',\n 'Regularly busy',\n 'Regularly busy',\n 'Least busy',\n 'Regularly busy',\n 'Regularly busy',\n 'Regularly busy',\n 'Regularly busy',\n 'Regularly busy',\n 'Regularly busy',\n 'Regularly busy',\n 'Regularly busy',\n 'Regularly busy',\n 'Least busy',\n 'Regularly busy',\n 'Regularly busy',\n 'Regularly busy',\n 'Regularly busy',\n 'Regularly busy',\n 'Regularly busy',\n 'Regularly busy',\n 'Regularly busy',\n 'Regularly busy',\n 'Least busy',\n 'Regularly busy',\n 'Regularly busy',\n 'Regularly busy',\n 'Regularly busy',\n 'Regularly busy',\n 'Regularly busy',\n 'Regularly busy',\n 'Regularly busy',\n 'Regularly busy',\n 'Least busy',\n 'Regularly busy',\n 'Regularly busy',\n 'Regularly busy',\n 'Regularly busy',\n 'Regularly busy',\n 'Regularly busy',\n 'Regularly busy',\n 'Regularly busy',\n 'Regularly busy',\n 'Regularly busy',\n 'Regularly busy',\n 'Regularly busy',\n 'Regularly busy',\n 'Regularly busy',\n 'Regularly busy',\n 'Regularly busy',\n 'Regularly busy',\n 'Regularly busy',\n 'Regularly busy',\n 'Regularly busy',\n 'Regularly busy',\n 'Regularly busy',\n 'Regularly busy',\n 'Regularly busy',\n 'Busiest day',\n 'Busiest day',\n 'Regularly busy',\n 'Regularly busy',\n 'Busiest day',\n 'Regularly busy',\n 'Busiest day',\n 'Regularly busy',\n 'Regularly busy',\n 'Regularly busy',\n 'Regularly busy',\n 'Regularly busy',\n 'Regularly busy',\n 'Regularly busy',\n 'Regularly busy',\n 'Regularly busy',\n 'Busiest day',\n 'Regularly busy',\n 'Regularly busy',\n 'Regularly busy',\n 'Regularly busy',\n 'Regularly busy',\n 'Busiest day',\n 'Regularly busy',\n 'Least busy',\n 'Least busy',\n 'Regularly busy',\n 'Regularly busy',\n 'Regularly busy',\n 'Regularly busy',\n 'Regularly busy',\n 'Least busy',\n 'Regularly busy',\n 'Least busy',\n 'Regularly busy',\n 'Regularly busy',\n 'Regularly busy',\n 'Regularly busy',\n 'Regularly busy',\n 'Regularly busy',\n 'Regularly busy',\n 'Regularly busy',\n 'Regularly busy',\n 'Regularly busy',\n 'Regularly busy',\n 'Regularly busy',\n 'Regularly busy',\n 'Regularly busy',\n 'Regularly busy',\n 'Regularly busy',\n 'Regularly busy',\n 'Regularly busy',\n 'Busiest day',\n 'Regularly busy',\n 'Regularly busy',\n 'Regularly busy',\n 'Least busy',\n 'Regularly busy',\n 'Regularly busy',\n 'Regularly busy',\n 'Regularly busy',\n 'Regularly busy',\n 'Regularly busy',\n 'Regularly busy',\n 'Regularly busy',\n 'Regularly busy',\n 'Regularly busy',\n 'Regularly busy',\n 'Regularly busy',\n 'Regularly busy',\n 'Regularly busy',\n 'Regularly busy',\n 'Regularly busy',\n 'Regularly busy',\n 'Regularly busy',\n 'Regularly busy',\n 'Regularly busy',\n 'Regularly busy',\n 'Regularly busy',\n 'Regularly busy',\n 'Regularly busy',\n 'Regularly busy',\n 'Regularly busy',\n 'Regularly busy',\n 'Regularly busy',\n 'Regularly busy',\n 'Regularly busy',\n 'Regularly busy',\n 'Regularly busy',\n 'Busiest day',\n 'Regularly busy',\n 'Regularly busy',\n 'Least busy',\n 'Regularly busy',\n 'Regularly busy',\n 'Least busy',\n 'Least busy',\n 'Regularly busy',\n 'Regularly busy',\n 'Regularly busy',\n 'Regularly busy',\n 'Least busy',\n 'Regularly busy',\n 'Least busy',\n 'Regularly busy',\n 'Regularly busy',\n 'Regularly busy',\n 'Regularly busy',\n 'Busiest day',\n 'Regularly busy',\n 'Least busy',\n 'Regularly busy',\n 'Regularly busy',\n 'Regularly busy',\n 'Regularly busy',\n 'Regularly busy',\n 'Regularly busy',\n 'Regularly busy',\n 'Regularly busy',\n 'Regularly busy',\n 'Regularly busy',\n 'Regularly busy',\n 'Regularly busy',\n 'Regularly busy',\n 'Regularly busy',\n 'Least busy',\n 'Regularly busy',\n 'Regularly busy',\n 'Busiest day',\n 'Regularly busy',\n 'Regularly busy',\n 'Regularly busy',\n 'Least busy',\n 'Regularly busy',\n 'Regularly busy',\n 'Regularly busy',\n 'Regularly busy',\n 'Regularly busy',\n 'Least busy',\n 'Regularly busy',\n 'Least busy',\n 'Least busy',\n 'Regularly busy',\n 'Regularly busy',\n 'Regularly busy',\n 'Regularly busy',\n 'Regularly busy',\n 'Regularly busy',\n 'Least busy',\n 'Regularly busy',\n 'Regularly busy',\n 'Regularly busy',\n 'Regularly busy',\n 'Regularly busy',\n 'Least busy',\n 'Busiest day',\n 'Regularly busy',\n 'Regularly busy',\n 'Least busy',\n 'Regularly busy',\n 'Regularly busy',\n 'Regularly busy',\n 'Regularly busy',\n 'Regularly busy',\n 'Busiest day',\n 'Regularly busy',\n 'Regularly busy',\n 'Regularly busy',\n 'Regularly busy',\n 'Regularly busy',\n 'Least busy',\n 'Regularly busy',\n 'Regularly busy',\n 'Busiest day',\n 'Regularly busy',\n 'Busiest day',\n 'Regularly busy',\n 'Least busy',\n 'Regularly busy',\n 'Regularly busy',\n 'Least busy',\n 'Least busy',\n 'Regularly busy',\n 'Regularly busy',\n 'Least busy',\n 'Least busy',\n 'Regularly busy',\n 'Regularly busy',\n 'Regularly busy',\n 'Least busy',\n 'Regularly busy',\n 'Regularly busy',\n 'Regularly busy',\n 'Regularly busy',\n 'Regularly busy',\n 'Regularly busy',\n 'Regularly busy',\n 'Regularly busy',\n 'Regularly busy',\n 'Regularly busy',\n 'Regularly busy',\n 'Regularly busy',\n 'Regularly busy',\n 'Regularly busy',\n 'Regularly busy',\n 'Regularly busy',\n 'Regularly busy',\n 'Least busy',\n 'Regularly busy',\n 'Least busy',\n 'Regularly busy',\n 'Regularly busy',\n 'Regularly busy',\n 'Least busy',\n 'Regularly busy',\n 'Regularly busy',\n 'Regularly busy',\n 'Regularly busy',\n 'Regularly busy',\n 'Regularly busy',\n 'Regularly busy',\n 'Regularly busy',\n 'Regularly busy',\n 'Regularly busy',\n 'Least busy',\n 'Regularly busy',\n 'Least busy',\n 'Regularly busy',\n 'Regularly busy',\n 'Regularly busy',\n 'Regularly busy',\n 'Regularly busy',\n 'Regularly busy',\n 'Regularly busy',\n 'Least busy',\n 'Regularly busy',\n 'Regularly busy',\n 'Regularly busy',\n 'Regularly busy',\n 'Regularly busy',\n 'Regularly busy',\n 'Regularly busy',\n 'Regularly busy',\n 'Regularly busy',\n 'Regularly busy',\n 'Regularly busy',\n 'Regularly busy',\n 'Regularly busy',\n 'Regularly busy',\n 'Least busy',\n 'Regularly busy',\n 'Regularly busy',\n 'Regularly busy',\n 'Regularly busy',\n 'Regularly busy',\n 'Regularly busy',\n 'Least busy',\n 'Regularly busy',\n 'Regularly busy',\n 'Regularly busy',\n 'Regularly busy',\n 'Busiest day',\n 'Regularly busy',\n 'Least busy',\n 'Least busy',\n 'Least busy',\n 'Regularly busy',\n 'Busiest day',\n 'Regularly busy',\n 'Regularly busy',\n 'Regularly busy',\n 'Regularly busy',\n 'Regularly busy',\n 'Regularly busy',\n 'Regularly busy',\n 'Least busy',\n 'Regularly busy',\n 'Regularly busy',\n 'Regularly busy',\n 'Regularly busy',\n 'Regularly busy',\n 'Regularly busy',\n 'Regularly busy',\n 'Regularly busy',\n 'Regularly busy',\n 'Regularly busy',\n 'Regularly busy',\n 'Regularly busy',\n 'Least busy',\n 'Regularly busy',\n 'Regularly busy',\n 'Regularly busy',\n 'Least busy',\n 'Regularly busy',\n 'Regularly busy',\n 'Least busy',\n 'Busiest day',\n 'Regularly busy',\n 'Regularly busy',\n 'Regularly busy',\n 'Regularly busy',\n 'Regularly busy',\n 'Least busy',\n 'Least busy',\n 'Least busy',\n 'Least busy',\n 'Regularly busy',\n 'Regularly busy',\n 'Regularly busy',\n 'Regularly busy',\n 'Least busy',\n 'Regularly busy',\n 'Regularly busy',\n 'Regularly busy',\n 'Regularly busy',\n 'Regularly busy',\n 'Regularly busy',\n 'Regularly busy',\n 'Regularly busy',\n 'Regularly busy',\n 'Regularly busy',\n 'Regularly busy',\n 'Regularly busy',\n 'Regularly busy',\n 'Regularly busy',\n 'Regularly busy',\n 'Regularly busy',\n 'Regularly busy',\n 'Regularly busy',\n 'Busiest day',\n 'Least busy',\n 'Regularly busy',\n 'Regularly busy',\n 'Regularly busy',\n 'Least busy',\n 'Regularly busy',\n 'Regularly busy',\n 'Busiest day',\n 'Regularly busy',\n 'Regularly busy',\n 'Regularly busy',\n 'Regularly busy',\n 'Regularly busy',\n 'Regularly busy',\n 'Regularly busy',\n 'Regularly busy',\n 'Regularly busy',\n 'Least busy',\n 'Regularly busy',\n 'Regularly busy',\n 'Regularly busy',\n 'Regularly busy',\n 'Regularly busy',\n 'Regularly busy',\n 'Least busy',\n 'Regularly busy',\n 'Regularly busy',\n 'Least busy',\n 'Regularly busy',\n 'Regularly busy',\n 'Regularly busy',\n 'Regularly busy',\n 'Regularly busy',\n 'Regularly busy',\n 'Least busy',\n 'Regularly busy',\n 'Regularly busy',\n 'Regularly busy',\n 'Least busy',\n 'Least busy',\n 'Regularly busy',\n 'Regularly busy',\n 'Regularly busy',\n 'Least busy',\n 'Regularly busy',\n 'Regularly busy',\n 'Regularly busy',\n 'Busiest day',\n 'Busiest day',\n 'Regularly busy',\n 'Regularly busy',\n 'Regularly busy',\n ...]"
     },
     "execution_count": 26,
     "metadata": {},
     "output_type": "execute_result"
    }
   ],
   "source": [
    "result"
   ],
   "metadata": {
    "collapsed": false,
    "pycharm": {
     "name": "#%%\n"
    }
   }
  },
  {
   "cell_type": "code",
   "execution_count": 27,
   "outputs": [
    {
     "data": {
      "text/plain": "Regularly busy    22416875\nBusiest day        6204182\nLeast busy         3783802\nName: busiest day, dtype: int64"
     },
     "execution_count": 27,
     "metadata": {},
     "output_type": "execute_result"
    }
   ],
   "source": [
    "#Create new column\n",
    "df_ords_merged['busiest day'] = result\n",
    "df_ords_merged['busiest day'].value_counts(dropna= False)"
   ],
   "metadata": {
    "collapsed": false,
    "pycharm": {
     "name": "#%%\n"
    }
   }
  },
  {
   "cell_type": "code",
   "execution_count": 29,
   "outputs": [
    {
     "data": {
      "text/plain": "   Unnamed: 0.1  Unnamed: 0_x  order_id  user_id eval_set  order_number  \\\n0             0             0   2539329        1    prior             1   \n1             1             1   2398795        1    prior             2   \n2             2             2    473747        1    prior             3   \n3             3             3   2254736        1    prior             4   \n4             4             4    431534        1    prior             5   \n\n   order_dow  order_hour_of_day  days_since_prior_order  product_id  \\\n0          2                  8                     0.0         196   \n1          3                  7                    15.0         196   \n2          3                 12                    21.0         196   \n3          4                  7                    29.0         196   \n4          4                 15                    28.0         196   \n\n   add_to_cart_order  reordered  Unnamed: 0_y product_name  aisle_id  \\\n0                  1          0           195         Soda        77   \n1                  1          1           195         Soda        77   \n2                  1          1           195         Soda        77   \n3                  1          1           195         Soda        77   \n4                  1          1           195         Soda        77   \n\n   department_id  prices _merge    price_range_loc     busiest day  \n0              7     9.0   both  Mid-range product  Regularly busy  \n1              7     9.0   both  Mid-range product  Regularly busy  \n2              7     9.0   both  Mid-range product  Regularly busy  \n3              7     9.0   both  Mid-range product      Least busy  \n4              7     9.0   both  Mid-range product      Least busy  ",
      "text/html": "<div>\n<style scoped>\n    .dataframe tbody tr th:only-of-type {\n        vertical-align: middle;\n    }\n\n    .dataframe tbody tr th {\n        vertical-align: top;\n    }\n\n    .dataframe thead th {\n        text-align: right;\n    }\n</style>\n<table border=\"1\" class=\"dataframe\">\n  <thead>\n    <tr style=\"text-align: right;\">\n      <th></th>\n      <th>Unnamed: 0.1</th>\n      <th>Unnamed: 0_x</th>\n      <th>order_id</th>\n      <th>user_id</th>\n      <th>eval_set</th>\n      <th>order_number</th>\n      <th>order_dow</th>\n      <th>order_hour_of_day</th>\n      <th>days_since_prior_order</th>\n      <th>product_id</th>\n      <th>add_to_cart_order</th>\n      <th>reordered</th>\n      <th>Unnamed: 0_y</th>\n      <th>product_name</th>\n      <th>aisle_id</th>\n      <th>department_id</th>\n      <th>prices</th>\n      <th>_merge</th>\n      <th>price_range_loc</th>\n      <th>busiest day</th>\n    </tr>\n  </thead>\n  <tbody>\n    <tr>\n      <th>0</th>\n      <td>0</td>\n      <td>0</td>\n      <td>2539329</td>\n      <td>1</td>\n      <td>prior</td>\n      <td>1</td>\n      <td>2</td>\n      <td>8</td>\n      <td>0.0</td>\n      <td>196</td>\n      <td>1</td>\n      <td>0</td>\n      <td>195</td>\n      <td>Soda</td>\n      <td>77</td>\n      <td>7</td>\n      <td>9.0</td>\n      <td>both</td>\n      <td>Mid-range product</td>\n      <td>Regularly busy</td>\n    </tr>\n    <tr>\n      <th>1</th>\n      <td>1</td>\n      <td>1</td>\n      <td>2398795</td>\n      <td>1</td>\n      <td>prior</td>\n      <td>2</td>\n      <td>3</td>\n      <td>7</td>\n      <td>15.0</td>\n      <td>196</td>\n      <td>1</td>\n      <td>1</td>\n      <td>195</td>\n      <td>Soda</td>\n      <td>77</td>\n      <td>7</td>\n      <td>9.0</td>\n      <td>both</td>\n      <td>Mid-range product</td>\n      <td>Regularly busy</td>\n    </tr>\n    <tr>\n      <th>2</th>\n      <td>2</td>\n      <td>2</td>\n      <td>473747</td>\n      <td>1</td>\n      <td>prior</td>\n      <td>3</td>\n      <td>3</td>\n      <td>12</td>\n      <td>21.0</td>\n      <td>196</td>\n      <td>1</td>\n      <td>1</td>\n      <td>195</td>\n      <td>Soda</td>\n      <td>77</td>\n      <td>7</td>\n      <td>9.0</td>\n      <td>both</td>\n      <td>Mid-range product</td>\n      <td>Regularly busy</td>\n    </tr>\n    <tr>\n      <th>3</th>\n      <td>3</td>\n      <td>3</td>\n      <td>2254736</td>\n      <td>1</td>\n      <td>prior</td>\n      <td>4</td>\n      <td>4</td>\n      <td>7</td>\n      <td>29.0</td>\n      <td>196</td>\n      <td>1</td>\n      <td>1</td>\n      <td>195</td>\n      <td>Soda</td>\n      <td>77</td>\n      <td>7</td>\n      <td>9.0</td>\n      <td>both</td>\n      <td>Mid-range product</td>\n      <td>Least busy</td>\n    </tr>\n    <tr>\n      <th>4</th>\n      <td>4</td>\n      <td>4</td>\n      <td>431534</td>\n      <td>1</td>\n      <td>prior</td>\n      <td>5</td>\n      <td>4</td>\n      <td>15</td>\n      <td>28.0</td>\n      <td>196</td>\n      <td>1</td>\n      <td>1</td>\n      <td>195</td>\n      <td>Soda</td>\n      <td>77</td>\n      <td>7</td>\n      <td>9.0</td>\n      <td>both</td>\n      <td>Mid-range product</td>\n      <td>Least busy</td>\n    </tr>\n  </tbody>\n</table>\n</div>"
     },
     "execution_count": 29,
     "metadata": {},
     "output_type": "execute_result"
    }
   ],
   "source": [
    "df_ords_merged.head()"
   ],
   "metadata": {
    "collapsed": false,
    "pycharm": {
     "name": "#%%\n"
    }
   }
  },
  {
   "cell_type": "code",
   "execution_count": 30,
   "outputs": [
    {
     "data": {
      "text/plain": "0    6204182\n1    5660230\n6    4496490\n2    4213830\n5    4205791\n3    3840534\n4    3783802\nName: order_dow, dtype: int64"
     },
     "execution_count": 30,
     "metadata": {},
     "output_type": "execute_result"
    }
   ],
   "source": [
    "df_ords_merged['order_dow'].value_counts(dropna= False)"
   ],
   "metadata": {
    "collapsed": false,
    "pycharm": {
     "name": "#%%\n"
    }
   }
  },
  {
   "cell_type": "code",
   "execution_count": 33,
   "outputs": [],
   "source": [
    "#Define new variable, for loop for the two busiest and slowest days of the week\n",
    "result1 = []\n",
    "\n",
    "for value in df_ords_merged[\"order_dow\"]:\n",
    "    if value == 0:\n",
    "        result1.append(\"Busiest days\")\n",
    "    elif value == 1:\n",
    "        result1.append(\"Busiest days\")\n",
    "    elif value == 3:\n",
    "        result1.append(\"Slowest days\")\n",
    "    elif value == 4:\n",
    "        result1.append(\"Slowest days\")\n",
    "    else:\n",
    "        result1.append(\"Regularly busy\")"
   ],
   "metadata": {
    "collapsed": false,
    "pycharm": {
     "name": "#%%\n"
    }
   }
  },
  {
   "cell_type": "code",
   "execution_count": 34,
   "outputs": [
    {
     "data": {
      "text/plain": "['Regularly busy',\n 'Slowest days',\n 'Slowest days',\n 'Slowest days',\n 'Slowest days',\n 'Regularly busy',\n 'Busiest days',\n 'Busiest days',\n 'Busiest days',\n 'Slowest days',\n 'Busiest days',\n 'Regularly busy',\n 'Regularly busy',\n 'Busiest days',\n 'Busiest days',\n 'Regularly busy',\n 'Regularly busy',\n 'Slowest days',\n 'Slowest days',\n 'Slowest days',\n 'Slowest days',\n 'Slowest days',\n 'Slowest days',\n 'Busiest days',\n 'Busiest days',\n 'Busiest days',\n 'Regularly busy',\n 'Regularly busy',\n 'Busiest days',\n 'Regularly busy',\n 'Regularly busy',\n 'Busiest days',\n 'Regularly busy',\n 'Regularly busy',\n 'Regularly busy',\n 'Slowest days',\n 'Regularly busy',\n 'Slowest days',\n 'Busiest days',\n 'Busiest days',\n 'Regularly busy',\n 'Slowest days',\n 'Slowest days',\n 'Regularly busy',\n 'Regularly busy',\n 'Busiest days',\n 'Busiest days',\n 'Regularly busy',\n 'Busiest days',\n 'Busiest days',\n 'Slowest days',\n 'Regularly busy',\n 'Busiest days',\n 'Busiest days',\n 'Busiest days',\n 'Busiest days',\n 'Busiest days',\n 'Regularly busy',\n 'Slowest days',\n 'Regularly busy',\n 'Busiest days',\n 'Slowest days',\n 'Busiest days',\n 'Regularly busy',\n 'Regularly busy',\n 'Busiest days',\n 'Regularly busy',\n 'Busiest days',\n 'Regularly busy',\n 'Slowest days',\n 'Slowest days',\n 'Regularly busy',\n 'Slowest days',\n 'Regularly busy',\n 'Slowest days',\n 'Slowest days',\n 'Regularly busy',\n 'Busiest days',\n 'Busiest days',\n 'Busiest days',\n 'Regularly busy',\n 'Regularly busy',\n 'Busiest days',\n 'Regularly busy',\n 'Slowest days',\n 'Regularly busy',\n 'Slowest days',\n 'Regularly busy',\n 'Slowest days',\n 'Slowest days',\n 'Regularly busy',\n 'Regularly busy',\n 'Regularly busy',\n 'Regularly busy',\n 'Regularly busy',\n 'Regularly busy',\n 'Regularly busy',\n 'Slowest days',\n 'Busiest days',\n 'Slowest days',\n 'Regularly busy',\n 'Regularly busy',\n 'Slowest days',\n 'Busiest days',\n 'Regularly busy',\n 'Busiest days',\n 'Busiest days',\n 'Busiest days',\n 'Slowest days',\n 'Busiest days',\n 'Busiest days',\n 'Slowest days',\n 'Regularly busy',\n 'Busiest days',\n 'Regularly busy',\n 'Busiest days',\n 'Busiest days',\n 'Regularly busy',\n 'Busiest days',\n 'Slowest days',\n 'Regularly busy',\n 'Regularly busy',\n 'Regularly busy',\n 'Regularly busy',\n 'Regularly busy',\n 'Busiest days',\n 'Busiest days',\n 'Busiest days',\n 'Slowest days',\n 'Slowest days',\n 'Regularly busy',\n 'Regularly busy',\n 'Busiest days',\n 'Regularly busy',\n 'Regularly busy',\n 'Slowest days',\n 'Slowest days',\n 'Regularly busy',\n 'Slowest days',\n 'Slowest days',\n 'Slowest days',\n 'Regularly busy',\n 'Busiest days',\n 'Regularly busy',\n 'Regularly busy',\n 'Regularly busy',\n 'Regularly busy',\n 'Busiest days',\n 'Slowest days',\n 'Slowest days',\n 'Slowest days',\n 'Slowest days',\n 'Regularly busy',\n 'Regularly busy',\n 'Regularly busy',\n 'Slowest days',\n 'Regularly busy',\n 'Busiest days',\n 'Slowest days',\n 'Busiest days',\n 'Regularly busy',\n 'Regularly busy',\n 'Slowest days',\n 'Regularly busy',\n 'Slowest days',\n 'Regularly busy',\n 'Regularly busy',\n 'Busiest days',\n 'Busiest days',\n 'Slowest days',\n 'Busiest days',\n 'Busiest days',\n 'Regularly busy',\n 'Busiest days',\n 'Busiest days',\n 'Regularly busy',\n 'Regularly busy',\n 'Busiest days',\n 'Regularly busy',\n 'Regularly busy',\n 'Slowest days',\n 'Busiest days',\n 'Busiest days',\n 'Slowest days',\n 'Busiest days',\n 'Slowest days',\n 'Slowest days',\n 'Slowest days',\n 'Busiest days',\n 'Slowest days',\n 'Busiest days',\n 'Busiest days',\n 'Busiest days',\n 'Busiest days',\n 'Slowest days',\n 'Regularly busy',\n 'Regularly busy',\n 'Regularly busy',\n 'Regularly busy',\n 'Regularly busy',\n 'Regularly busy',\n 'Regularly busy',\n 'Regularly busy',\n 'Regularly busy',\n 'Slowest days',\n 'Regularly busy',\n 'Regularly busy',\n 'Busiest days',\n 'Regularly busy',\n 'Slowest days',\n 'Regularly busy',\n 'Regularly busy',\n 'Regularly busy',\n 'Slowest days',\n 'Busiest days',\n 'Regularly busy',\n 'Busiest days',\n 'Regularly busy',\n 'Regularly busy',\n 'Busiest days',\n 'Slowest days',\n 'Slowest days',\n 'Regularly busy',\n 'Slowest days',\n 'Regularly busy',\n 'Busiest days',\n 'Slowest days',\n 'Slowest days',\n 'Slowest days',\n 'Slowest days',\n 'Regularly busy',\n 'Slowest days',\n 'Slowest days',\n 'Slowest days',\n 'Slowest days',\n 'Regularly busy',\n 'Busiest days',\n 'Slowest days',\n 'Busiest days',\n 'Busiest days',\n 'Busiest days',\n 'Busiest days',\n 'Busiest days',\n 'Busiest days',\n 'Busiest days',\n 'Busiest days',\n 'Busiest days',\n 'Regularly busy',\n 'Slowest days',\n 'Busiest days',\n 'Slowest days',\n 'Slowest days',\n 'Slowest days',\n 'Regularly busy',\n 'Regularly busy',\n 'Slowest days',\n 'Slowest days',\n 'Regularly busy',\n 'Busiest days',\n 'Regularly busy',\n 'Regularly busy',\n 'Regularly busy',\n 'Regularly busy',\n 'Busiest days',\n 'Busiest days',\n 'Regularly busy',\n 'Regularly busy',\n 'Regularly busy',\n 'Busiest days',\n 'Slowest days',\n 'Regularly busy',\n 'Regularly busy',\n 'Busiest days',\n 'Regularly busy',\n 'Slowest days',\n 'Busiest days',\n 'Slowest days',\n 'Busiest days',\n 'Busiest days',\n 'Slowest days',\n 'Busiest days',\n 'Busiest days',\n 'Busiest days',\n 'Regularly busy',\n 'Regularly busy',\n 'Regularly busy',\n 'Regularly busy',\n 'Regularly busy',\n 'Regularly busy',\n 'Regularly busy',\n 'Regularly busy',\n 'Busiest days',\n 'Regularly busy',\n 'Busiest days',\n 'Regularly busy',\n 'Regularly busy',\n 'Regularly busy',\n 'Regularly busy',\n 'Busiest days',\n 'Regularly busy',\n 'Slowest days',\n 'Slowest days',\n 'Slowest days',\n 'Regularly busy',\n 'Regularly busy',\n 'Slowest days',\n 'Regularly busy',\n 'Slowest days',\n 'Busiest days',\n 'Regularly busy',\n 'Busiest days',\n 'Busiest days',\n 'Slowest days',\n 'Busiest days',\n 'Regularly busy',\n 'Busiest days',\n 'Busiest days',\n 'Slowest days',\n 'Busiest days',\n 'Slowest days',\n 'Busiest days',\n 'Busiest days',\n 'Slowest days',\n 'Busiest days',\n 'Regularly busy',\n 'Regularly busy',\n 'Busiest days',\n 'Regularly busy',\n 'Busiest days',\n 'Busiest days',\n 'Regularly busy',\n 'Busiest days',\n 'Busiest days',\n 'Slowest days',\n 'Slowest days',\n 'Regularly busy',\n 'Regularly busy',\n 'Regularly busy',\n 'Regularly busy',\n 'Busiest days',\n 'Busiest days',\n 'Slowest days',\n 'Regularly busy',\n 'Busiest days',\n 'Busiest days',\n 'Slowest days',\n 'Regularly busy',\n 'Slowest days',\n 'Regularly busy',\n 'Regularly busy',\n 'Slowest days',\n 'Regularly busy',\n 'Regularly busy',\n 'Slowest days',\n 'Regularly busy',\n 'Slowest days',\n 'Regularly busy',\n 'Regularly busy',\n 'Regularly busy',\n 'Regularly busy',\n 'Regularly busy',\n 'Busiest days',\n 'Busiest days',\n 'Busiest days',\n 'Busiest days',\n 'Slowest days',\n 'Busiest days',\n 'Regularly busy',\n 'Busiest days',\n 'Busiest days',\n 'Regularly busy',\n 'Busiest days',\n 'Busiest days',\n 'Busiest days',\n 'Busiest days',\n 'Busiest days',\n 'Slowest days',\n 'Busiest days',\n 'Regularly busy',\n 'Slowest days',\n 'Regularly busy',\n 'Slowest days',\n 'Regularly busy',\n 'Busiest days',\n 'Busiest days',\n 'Regularly busy',\n 'Slowest days',\n 'Slowest days',\n 'Regularly busy',\n 'Busiest days',\n 'Slowest days',\n 'Regularly busy',\n 'Slowest days',\n 'Regularly busy',\n 'Regularly busy',\n 'Slowest days',\n 'Regularly busy',\n 'Regularly busy',\n 'Slowest days',\n 'Regularly busy',\n 'Regularly busy',\n 'Busiest days',\n 'Busiest days',\n 'Slowest days',\n 'Slowest days',\n 'Regularly busy',\n 'Slowest days',\n 'Busiest days',\n 'Slowest days',\n 'Busiest days',\n 'Regularly busy',\n 'Regularly busy',\n 'Slowest days',\n 'Regularly busy',\n 'Regularly busy',\n 'Busiest days',\n 'Regularly busy',\n 'Busiest days',\n 'Slowest days',\n 'Busiest days',\n 'Busiest days',\n 'Slowest days',\n 'Regularly busy',\n 'Slowest days',\n 'Busiest days',\n 'Regularly busy',\n 'Regularly busy',\n 'Regularly busy',\n 'Regularly busy',\n 'Busiest days',\n 'Slowest days',\n 'Regularly busy',\n 'Busiest days',\n 'Slowest days',\n 'Slowest days',\n 'Regularly busy',\n 'Regularly busy',\n 'Slowest days',\n 'Regularly busy',\n 'Slowest days',\n 'Slowest days',\n 'Slowest days',\n 'Regularly busy',\n 'Slowest days',\n 'Slowest days',\n 'Regularly busy',\n 'Regularly busy',\n 'Regularly busy',\n 'Slowest days',\n 'Regularly busy',\n 'Slowest days',\n 'Regularly busy',\n 'Regularly busy',\n 'Busiest days',\n 'Busiest days',\n 'Busiest days',\n 'Regularly busy',\n 'Busiest days',\n 'Busiest days',\n 'Busiest days',\n 'Busiest days',\n 'Regularly busy',\n 'Regularly busy',\n 'Busiest days',\n 'Busiest days',\n 'Busiest days',\n 'Regularly busy',\n 'Regularly busy',\n 'Regularly busy',\n 'Slowest days',\n 'Slowest days',\n 'Regularly busy',\n 'Regularly busy',\n 'Busiest days',\n 'Slowest days',\n 'Regularly busy',\n 'Busiest days',\n 'Regularly busy',\n 'Regularly busy',\n 'Regularly busy',\n 'Slowest days',\n 'Regularly busy',\n 'Slowest days',\n 'Slowest days',\n 'Slowest days',\n 'Slowest days',\n 'Regularly busy',\n 'Regularly busy',\n 'Slowest days',\n 'Busiest days',\n 'Busiest days',\n 'Slowest days',\n 'Slowest days',\n 'Busiest days',\n 'Regularly busy',\n 'Busiest days',\n 'Slowest days',\n 'Busiest days',\n 'Busiest days',\n 'Regularly busy',\n 'Slowest days',\n 'Regularly busy',\n 'Slowest days',\n 'Regularly busy',\n 'Slowest days',\n 'Busiest days',\n 'Regularly busy',\n 'Busiest days',\n 'Regularly busy',\n 'Slowest days',\n 'Busiest days',\n 'Slowest days',\n 'Busiest days',\n 'Slowest days',\n 'Slowest days',\n 'Regularly busy',\n 'Slowest days',\n 'Slowest days',\n 'Slowest days',\n 'Slowest days',\n 'Slowest days',\n 'Busiest days',\n 'Regularly busy',\n 'Slowest days',\n 'Busiest days',\n 'Slowest days',\n 'Slowest days',\n 'Regularly busy',\n 'Regularly busy',\n 'Busiest days',\n 'Busiest days',\n 'Regularly busy',\n 'Slowest days',\n 'Busiest days',\n 'Busiest days',\n 'Busiest days',\n 'Regularly busy',\n 'Regularly busy',\n 'Regularly busy',\n 'Regularly busy',\n 'Regularly busy',\n 'Regularly busy',\n 'Slowest days',\n 'Regularly busy',\n 'Slowest days',\n 'Slowest days',\n 'Slowest days',\n 'Slowest days',\n 'Slowest days',\n 'Slowest days',\n 'Slowest days',\n 'Slowest days',\n 'Regularly busy',\n 'Busiest days',\n 'Busiest days',\n 'Regularly busy',\n 'Regularly busy',\n 'Busiest days',\n 'Slowest days',\n 'Regularly busy',\n 'Slowest days',\n 'Regularly busy',\n 'Regularly busy',\n 'Slowest days',\n 'Regularly busy',\n 'Busiest days',\n 'Slowest days',\n 'Slowest days',\n 'Slowest days',\n 'Regularly busy',\n 'Regularly busy',\n 'Slowest days',\n 'Regularly busy',\n 'Slowest days',\n 'Regularly busy',\n 'Regularly busy',\n 'Regularly busy',\n 'Slowest days',\n 'Regularly busy',\n 'Regularly busy',\n 'Slowest days',\n 'Regularly busy',\n 'Regularly busy',\n 'Slowest days',\n 'Slowest days',\n 'Regularly busy',\n 'Slowest days',\n 'Regularly busy',\n 'Regularly busy',\n 'Regularly busy',\n 'Slowest days',\n 'Regularly busy',\n 'Busiest days',\n 'Slowest days',\n 'Regularly busy',\n 'Regularly busy',\n 'Busiest days',\n 'Regularly busy',\n 'Busiest days',\n 'Slowest days',\n 'Regularly busy',\n 'Regularly busy',\n 'Regularly busy',\n 'Regularly busy',\n 'Slowest days',\n 'Regularly busy',\n 'Slowest days',\n 'Regularly busy',\n 'Regularly busy',\n 'Slowest days',\n 'Busiest days',\n 'Regularly busy',\n 'Busiest days',\n 'Regularly busy',\n 'Regularly busy',\n 'Regularly busy',\n 'Regularly busy',\n 'Slowest days',\n 'Busiest days',\n 'Busiest days',\n 'Busiest days',\n 'Slowest days',\n 'Busiest days',\n 'Slowest days',\n 'Busiest days',\n 'Slowest days',\n 'Regularly busy',\n 'Slowest days',\n 'Slowest days',\n 'Regularly busy',\n 'Regularly busy',\n 'Regularly busy',\n 'Busiest days',\n 'Slowest days',\n 'Busiest days',\n 'Regularly busy',\n 'Busiest days',\n 'Busiest days',\n 'Busiest days',\n 'Slowest days',\n 'Busiest days',\n 'Busiest days',\n 'Slowest days',\n 'Slowest days',\n 'Regularly busy',\n 'Regularly busy',\n 'Regularly busy',\n 'Slowest days',\n 'Regularly busy',\n 'Slowest days',\n 'Slowest days',\n 'Slowest days',\n 'Slowest days',\n 'Busiest days',\n 'Busiest days',\n 'Busiest days',\n 'Busiest days',\n 'Regularly busy',\n 'Busiest days',\n 'Busiest days',\n 'Busiest days',\n 'Slowest days',\n 'Slowest days',\n 'Slowest days',\n 'Regularly busy',\n 'Regularly busy',\n 'Busiest days',\n 'Regularly busy',\n 'Regularly busy',\n 'Regularly busy',\n 'Busiest days',\n 'Busiest days',\n 'Regularly busy',\n 'Regularly busy',\n 'Slowest days',\n 'Busiest days',\n 'Busiest days',\n 'Regularly busy',\n 'Busiest days',\n 'Regularly busy',\n 'Regularly busy',\n 'Busiest days',\n 'Busiest days',\n 'Busiest days',\n 'Busiest days',\n 'Slowest days',\n 'Busiest days',\n 'Busiest days',\n 'Busiest days',\n 'Busiest days',\n 'Busiest days',\n 'Busiest days',\n 'Busiest days',\n 'Busiest days',\n 'Busiest days',\n 'Regularly busy',\n 'Busiest days',\n 'Busiest days',\n 'Busiest days',\n 'Regularly busy',\n 'Busiest days',\n 'Busiest days',\n 'Busiest days',\n 'Busiest days',\n 'Busiest days',\n 'Busiest days',\n 'Regularly busy',\n 'Busiest days',\n 'Regularly busy',\n 'Busiest days',\n 'Slowest days',\n 'Regularly busy',\n 'Slowest days',\n 'Slowest days',\n 'Slowest days',\n 'Regularly busy',\n 'Regularly busy',\n 'Regularly busy',\n 'Regularly busy',\n 'Slowest days',\n 'Busiest days',\n 'Slowest days',\n 'Regularly busy',\n 'Slowest days',\n 'Busiest days',\n 'Regularly busy',\n 'Busiest days',\n 'Regularly busy',\n 'Slowest days',\n 'Regularly busy',\n 'Regularly busy',\n 'Slowest days',\n 'Regularly busy',\n 'Busiest days',\n 'Regularly busy',\n 'Regularly busy',\n 'Busiest days',\n 'Busiest days',\n 'Regularly busy',\n 'Regularly busy',\n 'Regularly busy',\n 'Busiest days',\n 'Regularly busy',\n 'Slowest days',\n 'Regularly busy',\n 'Busiest days',\n 'Busiest days',\n 'Regularly busy',\n 'Regularly busy',\n 'Regularly busy',\n 'Slowest days',\n 'Regularly busy',\n 'Regularly busy',\n 'Regularly busy',\n 'Regularly busy',\n 'Busiest days',\n 'Slowest days',\n 'Busiest days',\n 'Slowest days',\n 'Slowest days',\n 'Regularly busy',\n 'Busiest days',\n 'Regularly busy',\n 'Regularly busy',\n 'Slowest days',\n 'Regularly busy',\n 'Slowest days',\n 'Regularly busy',\n 'Regularly busy',\n 'Regularly busy',\n 'Regularly busy',\n 'Slowest days',\n 'Slowest days',\n 'Busiest days',\n 'Busiest days',\n 'Slowest days',\n 'Slowest days',\n 'Regularly busy',\n 'Busiest days',\n 'Regularly busy',\n 'Regularly busy',\n 'Regularly busy',\n 'Busiest days',\n 'Regularly busy',\n 'Regularly busy',\n 'Regularly busy',\n 'Slowest days',\n 'Busiest days',\n 'Slowest days',\n 'Regularly busy',\n 'Regularly busy',\n 'Busiest days',\n 'Busiest days',\n 'Busiest days',\n 'Slowest days',\n 'Slowest days',\n 'Regularly busy',\n 'Slowest days',\n 'Slowest days',\n 'Slowest days',\n 'Busiest days',\n 'Regularly busy',\n 'Slowest days',\n 'Slowest days',\n 'Slowest days',\n 'Busiest days',\n 'Busiest days',\n 'Slowest days',\n 'Regularly busy',\n 'Slowest days',\n 'Slowest days',\n 'Slowest days',\n 'Regularly busy',\n 'Regularly busy',\n 'Busiest days',\n 'Regularly busy',\n 'Busiest days',\n 'Regularly busy',\n 'Regularly busy',\n 'Regularly busy',\n 'Busiest days',\n 'Regularly busy',\n 'Regularly busy',\n 'Slowest days',\n 'Regularly busy',\n 'Slowest days',\n 'Regularly busy',\n 'Slowest days',\n 'Busiest days',\n 'Slowest days',\n 'Slowest days',\n 'Slowest days',\n 'Busiest days',\n 'Regularly busy',\n 'Busiest days',\n 'Busiest days',\n 'Regularly busy',\n 'Busiest days',\n 'Regularly busy',\n 'Busiest days',\n 'Busiest days',\n 'Slowest days',\n 'Slowest days',\n 'Regularly busy',\n 'Slowest days',\n 'Busiest days',\n 'Busiest days',\n 'Regularly busy',\n 'Slowest days',\n 'Busiest days',\n 'Busiest days',\n 'Busiest days',\n 'Slowest days',\n 'Slowest days',\n 'Busiest days',\n 'Slowest days',\n 'Regularly busy',\n 'Busiest days',\n 'Slowest days',\n 'Regularly busy',\n 'Regularly busy',\n 'Busiest days',\n 'Slowest days',\n 'Regularly busy',\n 'Slowest days',\n 'Regularly busy',\n 'Regularly busy',\n 'Slowest days',\n 'Regularly busy',\n 'Regularly busy',\n 'Busiest days',\n 'Regularly busy',\n 'Regularly busy',\n 'Regularly busy',\n 'Slowest days',\n 'Regularly busy',\n 'Regularly busy',\n 'Busiest days',\n 'Regularly busy',\n 'Busiest days',\n 'Slowest days',\n 'Slowest days',\n 'Slowest days',\n 'Slowest days',\n 'Regularly busy',\n 'Busiest days',\n 'Regularly busy',\n 'Slowest days',\n 'Regularly busy',\n 'Regularly busy',\n 'Busiest days',\n 'Slowest days',\n 'Slowest days',\n 'Slowest days',\n 'Regularly busy',\n 'Regularly busy',\n 'Slowest days',\n 'Regularly busy',\n 'Regularly busy',\n 'Regularly busy',\n 'Regularly busy',\n 'Regularly busy',\n 'Regularly busy',\n 'Regularly busy',\n 'Regularly busy',\n 'Regularly busy',\n 'Slowest days',\n 'Regularly busy',\n 'Regularly busy',\n 'Regularly busy',\n 'Slowest days',\n 'Regularly busy',\n 'Regularly busy',\n 'Slowest days',\n 'Busiest days',\n 'Busiest days',\n 'Regularly busy',\n 'Regularly busy',\n 'Slowest days',\n 'Regularly busy',\n 'Slowest days',\n 'Slowest days',\n 'Slowest days',\n 'Slowest days',\n 'Regularly busy',\n 'Regularly busy',\n 'Slowest days',\n 'Slowest days',\n 'Slowest days',\n 'Slowest days',\n 'Slowest days',\n 'Slowest days',\n 'Regularly busy',\n 'Regularly busy',\n 'Slowest days',\n 'Busiest days',\n 'Slowest days',\n 'Slowest days',\n 'Slowest days',\n 'Regularly busy',\n 'Slowest days',\n 'Regularly busy',\n 'Busiest days',\n 'Regularly busy',\n 'Slowest days',\n 'Slowest days',\n 'Slowest days',\n 'Busiest days',\n 'Slowest days',\n 'Busiest days',\n 'Slowest days',\n 'Regularly busy',\n 'Slowest days',\n 'Busiest days',\n 'Regularly busy',\n 'Busiest days',\n 'Busiest days',\n 'Slowest days',\n 'Slowest days',\n 'Busiest days',\n 'Slowest days',\n 'Busiest days',\n 'Busiest days',\n 'Busiest days',\n 'Busiest days',\n 'Slowest days',\n 'Slowest days',\n 'Slowest days',\n 'Slowest days',\n 'Busiest days',\n 'Regularly busy',\n 'Regularly busy',\n 'Slowest days',\n 'Regularly busy',\n 'Slowest days',\n 'Slowest days',\n 'Busiest days',\n 'Regularly busy',\n 'Regularly busy',\n 'Busiest days',\n 'Busiest days',\n 'Busiest days',\n 'Slowest days',\n 'Busiest days',\n 'Regularly busy',\n 'Regularly busy',\n 'Slowest days',\n 'Slowest days',\n 'Slowest days',\n 'Busiest days',\n 'Regularly busy',\n 'Slowest days',\n 'Busiest days',\n 'Busiest days',\n 'Busiest days',\n 'Busiest days',\n 'Busiest days',\n 'Busiest days',\n 'Slowest days',\n 'Busiest days',\n ...]"
     },
     "execution_count": 34,
     "metadata": {},
     "output_type": "execute_result"
    }
   ],
   "source": [
    "result1"
   ],
   "metadata": {
    "collapsed": false,
    "pycharm": {
     "name": "#%%\n"
    }
   }
  },
  {
   "cell_type": "code",
   "execution_count": 35,
   "outputs": [
    {
     "data": {
      "text/plain": "Regularly busy    12916111\nBusiest days      11864412\nSlowest days       7624336\nName: busy_slow, dtype: int64"
     },
     "execution_count": 35,
     "metadata": {},
     "output_type": "execute_result"
    }
   ],
   "source": [
    "#Create new column and count frequency of results\n",
    "df_ords_merged['busy_slow'] = result1\n",
    "df_ords_merged['busy_slow'].value_counts()"
   ],
   "metadata": {
    "collapsed": false,
    "pycharm": {
     "name": "#%%\n"
    }
   }
  },
  {
   "cell_type": "markdown",
   "source": [
    "Regularly busy days outnumber the two busiest days combined."
   ],
   "metadata": {
    "collapsed": false,
    "pycharm": {
     "name": "#%% md\n"
    }
   }
  },
  {
   "cell_type": "code",
   "execution_count": 36,
   "outputs": [
    {
     "data": {
      "text/plain": "10    2761760\n11    2736140\n14    2689136\n15    2662144\n13    2660954\n12    2618532\n16    2535202\n9     2454203\n17    2087654\n8     1718118\n18    1636502\n19    1258305\n20     976156\n7      891054\n21     795637\n22     634225\n23     402316\n6      290493\n0      218769\n1      115700\n5       87961\n2       69375\n4       53242\n3       51281\nName: order_hour_of_day, dtype: int64"
     },
     "execution_count": 36,
     "metadata": {},
     "output_type": "execute_result"
    }
   ],
   "source": [
    "df_ords_merged['order_hour_of_day'].value_counts(dropna= False)"
   ],
   "metadata": {
    "collapsed": false,
    "pycharm": {
     "name": "#%%\n"
    }
   }
  },
  {
   "cell_type": "code",
   "execution_count": 55,
   "outputs": [],
   "source": [
    "#Define new variable, run loop to label the busiest hours\n",
    "\n",
    "result2 = []\n",
    "\n",
    "for value in df_ords_merged[\"order_hour_of_day\"]:\n",
    "    if value == 15:\n",
    "        result2.append(\"Most orders\")\n",
    "    elif value == 14:\n",
    "        result2.append(\"Most orders\")\n",
    "    elif value == 11:\n",
    "        result2.append(\"Most orders\")\n",
    "    elif value == 10:\n",
    "        result2.append(\"Most orders\")\n",
    "    elif value == 9:\n",
    "        result2.append(\"Average orders\")\n",
    "    elif value == 16:\n",
    "        result2.append(\"Average orders\")\n",
    "    elif value == 12:\n",
    "        result2.append(\"Average orders\")\n",
    "    elif value == 13:\n",
    "        result2.append(\"Average orders\")\n",
    "    elif value == 17:\n",
    "        result2.append(\"Fewest orders\")\n",
    "    elif value == 8:\n",
    "        result2.append(\"Fewest orders\")\n",
    "    elif value == 18:\n",
    "        result2.append(\"Fewest orders\")\n",
    "    elif value == 19:\n",
    "        result2.append(\"Fewest orders\")\n",
    "    else:\n",
    "        result2.append(\"NA\")\n"
   ],
   "metadata": {
    "collapsed": false,
    "pycharm": {
     "name": "#%%\n"
    }
   }
  },
  {
   "cell_type": "markdown",
   "source": [
    "There has to be a more efficient way to do this."
   ],
   "metadata": {
    "collapsed": false,
    "pycharm": {
     "name": "#%% md\n"
    }
   }
  },
  {
   "cell_type": "code",
   "execution_count": 56,
   "outputs": [
    {
     "data": {
      "text/plain": "['Fewest orders',\n 'NA',\n 'Average orders',\n 'NA',\n 'Most orders',\n 'NA',\n 'Average orders',\n 'Most orders',\n 'Average orders',\n 'Fewest orders',\n 'Average orders',\n 'Average orders',\n 'Most orders',\n 'Average orders',\n 'Most orders',\n 'Most orders',\n 'Average orders',\n 'Fewest orders',\n 'Most orders',\n 'Fewest orders',\n 'Most orders',\n 'Average orders',\n 'Average orders',\n 'Average orders',\n 'Most orders',\n 'Most orders',\n 'Most orders',\n 'NA',\n 'Most orders',\n 'Most orders',\n 'Average orders',\n 'Average orders',\n 'Most orders',\n 'Most orders',\n 'Most orders',\n 'Fewest orders',\n 'Most orders',\n 'Most orders',\n 'Most orders',\n 'Average orders',\n 'Average orders',\n 'Most orders',\n 'Average orders',\n 'Most orders',\n 'Most orders',\n 'Most orders',\n 'Most orders',\n 'Average orders',\n 'Most orders',\n 'Average orders',\n 'Most orders',\n 'Average orders',\n 'Most orders',\n 'Average orders',\n 'Most orders',\n 'Most orders',\n 'Average orders',\n 'NA',\n 'Most orders',\n 'Most orders',\n 'Most orders',\n 'Average orders',\n 'Most orders',\n 'Most orders',\n 'Most orders',\n 'Average orders',\n 'Most orders',\n 'Average orders',\n 'Most orders',\n 'Average orders',\n 'Average orders',\n 'Average orders',\n 'Most orders',\n 'Fewest orders',\n 'Fewest orders',\n 'Most orders',\n 'Fewest orders',\n 'Average orders',\n 'Most orders',\n 'Average orders',\n 'Most orders',\n 'Most orders',\n 'Most orders',\n 'Fewest orders',\n 'Most orders',\n 'Most orders',\n 'Average orders',\n 'Most orders',\n 'Average orders',\n 'Most orders',\n 'Average orders',\n 'Most orders',\n 'Fewest orders',\n 'Most orders',\n 'Average orders',\n 'Average orders',\n 'Fewest orders',\n 'Most orders',\n 'Fewest orders',\n 'Fewest orders',\n 'Most orders',\n 'Most orders',\n 'Fewest orders',\n 'Average orders',\n 'Most orders',\n 'Most orders',\n 'Most orders',\n 'Average orders',\n 'Average orders',\n 'Average orders',\n 'Average orders',\n 'Average orders',\n 'Average orders',\n 'Fewest orders',\n 'Most orders',\n 'Most orders',\n 'Most orders',\n 'Fewest orders',\n 'Average orders',\n 'Most orders',\n 'Fewest orders',\n 'Average orders',\n 'Fewest orders',\n 'Average orders',\n 'Most orders',\n 'Most orders',\n 'NA',\n 'NA',\n 'Fewest orders',\n 'Fewest orders',\n 'Most orders',\n 'NA',\n 'Most orders',\n 'Average orders',\n 'Most orders',\n 'Most orders',\n 'Average orders',\n 'Average orders',\n 'Fewest orders',\n 'NA',\n 'Average orders',\n 'Most orders',\n 'Average orders',\n 'Average orders',\n 'Average orders',\n 'Average orders',\n 'Average orders',\n 'Average orders',\n 'Most orders',\n 'Average orders',\n 'Most orders',\n 'Most orders',\n 'Most orders',\n 'Most orders',\n 'Average orders',\n 'Fewest orders',\n 'Fewest orders',\n 'Most orders',\n 'Fewest orders',\n 'Most orders',\n 'Average orders',\n 'Average orders',\n 'Fewest orders',\n 'Most orders',\n 'Most orders',\n 'Most orders',\n 'Most orders',\n 'Average orders',\n 'Average orders',\n 'Average orders',\n 'Most orders',\n 'Most orders',\n 'Most orders',\n 'Most orders',\n 'Most orders',\n 'Most orders',\n 'Most orders',\n 'Most orders',\n 'Average orders',\n 'Most orders',\n 'Most orders',\n 'Fewest orders',\n 'Average orders',\n 'Average orders',\n 'Average orders',\n 'Average orders',\n 'Average orders',\n 'Average orders',\n 'Average orders',\n 'Average orders',\n 'Most orders',\n 'Most orders',\n 'Most orders',\n 'Most orders',\n 'Most orders',\n 'Most orders',\n 'Average orders',\n 'Fewest orders',\n 'Average orders',\n 'Average orders',\n 'Average orders',\n 'Most orders',\n 'Average orders',\n 'Average orders',\n 'Average orders',\n 'Average orders',\n 'Average orders',\n 'Fewest orders',\n 'Average orders',\n 'Most orders',\n 'Average orders',\n 'Average orders',\n 'Fewest orders',\n 'Most orders',\n 'Average orders',\n 'Most orders',\n 'NA',\n 'Fewest orders',\n 'Most orders',\n 'Average orders',\n 'NA',\n 'Average orders',\n 'Average orders',\n 'Most orders',\n 'Most orders',\n 'Average orders',\n 'Most orders',\n 'Most orders',\n 'Most orders',\n 'Most orders',\n 'Most orders',\n 'Most orders',\n 'Most orders',\n 'Most orders',\n 'Average orders',\n 'Average orders',\n 'Most orders',\n 'Average orders',\n 'NA',\n 'Most orders',\n 'Most orders',\n 'NA',\n 'NA',\n 'NA',\n 'NA',\n 'NA',\n 'Average orders',\n 'Average orders',\n 'Most orders',\n 'Fewest orders',\n 'Most orders',\n 'Average orders',\n 'Most orders',\n 'Average orders',\n 'Most orders',\n 'Fewest orders',\n 'Average orders',\n 'Most orders',\n 'Most orders',\n 'Average orders',\n 'Average orders',\n 'Average orders',\n 'Average orders',\n 'Most orders',\n 'Fewest orders',\n 'Most orders',\n 'NA',\n 'Most orders',\n 'Average orders',\n 'Fewest orders',\n 'Most orders',\n 'Average orders',\n 'Average orders',\n 'Fewest orders',\n 'NA',\n 'Most orders',\n 'NA',\n 'Average orders',\n 'NA',\n 'Average orders',\n 'Most orders',\n 'NA',\n 'Most orders',\n 'Most orders',\n 'Average orders',\n 'Most orders',\n 'Average orders',\n 'Most orders',\n 'Most orders',\n 'Average orders',\n 'Fewest orders',\n 'NA',\n 'Average orders',\n 'NA',\n 'Most orders',\n 'Most orders',\n 'Average orders',\n 'Most orders',\n 'Most orders',\n 'Most orders',\n 'Average orders',\n 'Fewest orders',\n 'Most orders',\n 'Fewest orders',\n 'Average orders',\n 'Most orders',\n 'Average orders',\n 'Average orders',\n 'Most orders',\n 'NA',\n 'Average orders',\n 'Average orders',\n 'Average orders',\n 'Most orders',\n 'Average orders',\n 'Most orders',\n 'Average orders',\n 'Average orders',\n 'Most orders',\n 'Fewest orders',\n 'Most orders',\n 'Average orders',\n 'Fewest orders',\n 'Most orders',\n 'Fewest orders',\n 'Fewest orders',\n 'Average orders',\n 'Average orders',\n 'Average orders',\n 'Fewest orders',\n 'Most orders',\n 'Most orders',\n 'Most orders',\n 'Average orders',\n 'Most orders',\n 'Fewest orders',\n 'Fewest orders',\n 'Average orders',\n 'Most orders',\n 'Average orders',\n 'NA',\n 'NA',\n 'NA',\n 'Average orders',\n 'Most orders',\n 'Most orders',\n 'Average orders',\n 'Most orders',\n 'Fewest orders',\n 'Most orders',\n 'Most orders',\n 'Average orders',\n 'Average orders',\n 'Most orders',\n 'Most orders',\n 'Most orders',\n 'Average orders',\n 'Average orders',\n 'Fewest orders',\n 'NA',\n 'Average orders',\n 'NA',\n 'NA',\n 'Most orders',\n 'NA',\n 'NA',\n 'Average orders',\n 'Fewest orders',\n 'NA',\n 'Most orders',\n 'Fewest orders',\n 'NA',\n 'NA',\n 'Average orders',\n 'Average orders',\n 'Average orders',\n 'NA',\n 'Average orders',\n 'Most orders',\n 'Average orders',\n 'Fewest orders',\n 'Average orders',\n 'Average orders',\n 'Fewest orders',\n 'Average orders',\n 'Average orders',\n 'Fewest orders',\n 'Average orders',\n 'Average orders',\n 'Average orders',\n 'Average orders',\n 'Average orders',\n 'Most orders',\n 'Average orders',\n 'Fewest orders',\n 'Most orders',\n 'Fewest orders',\n 'Average orders',\n 'Most orders',\n 'Most orders',\n 'Fewest orders',\n 'Average orders',\n 'Most orders',\n 'Most orders',\n 'Average orders',\n 'Fewest orders',\n 'Average orders',\n 'Average orders',\n 'Most orders',\n 'Most orders',\n 'Average orders',\n 'Average orders',\n 'Most orders',\n 'Average orders',\n 'Most orders',\n 'Most orders',\n 'Fewest orders',\n 'Average orders',\n 'Average orders',\n 'Average orders',\n 'Most orders',\n 'Most orders',\n 'Average orders',\n 'Average orders',\n 'Average orders',\n 'Most orders',\n 'Fewest orders',\n 'Average orders',\n 'Most orders',\n 'Average orders',\n 'Average orders',\n 'Most orders',\n 'Most orders',\n 'Most orders',\n 'Most orders',\n 'Average orders',\n 'Average orders',\n 'Most orders',\n 'Average orders',\n 'Fewest orders',\n 'Average orders',\n 'Average orders',\n 'Most orders',\n 'Most orders',\n 'Average orders',\n 'Average orders',\n 'Most orders',\n 'Most orders',\n 'Most orders',\n 'Average orders',\n 'Most orders',\n 'Most orders',\n 'Fewest orders',\n 'Average orders',\n 'Fewest orders',\n 'Average orders',\n 'Average orders',\n 'Average orders',\n 'Average orders',\n 'Fewest orders',\n 'Most orders',\n 'Average orders',\n 'NA',\n 'Average orders',\n 'NA',\n 'Average orders',\n 'Most orders',\n 'Most orders',\n 'Average orders',\n 'NA',\n 'Average orders',\n 'Fewest orders',\n 'Average orders',\n 'Average orders',\n 'Average orders',\n 'Average orders',\n 'Most orders',\n 'Average orders',\n 'Most orders',\n 'Average orders',\n 'Average orders',\n 'Most orders',\n 'Most orders',\n 'Most orders',\n 'Average orders',\n 'Average orders',\n 'Average orders',\n 'Fewest orders',\n 'Most orders',\n 'Most orders',\n 'Most orders',\n 'Most orders',\n 'Most orders',\n 'Most orders',\n 'Average orders',\n 'NA',\n 'Average orders',\n 'Average orders',\n 'NA',\n 'NA',\n 'Fewest orders',\n 'Most orders',\n 'Most orders',\n 'Most orders',\n 'Most orders',\n 'Most orders',\n 'Average orders',\n 'Most orders',\n 'Most orders',\n 'Most orders',\n 'Average orders',\n 'Average orders',\n 'Fewest orders',\n 'Most orders',\n 'Average orders',\n 'Most orders',\n 'Average orders',\n 'Most orders',\n 'Most orders',\n 'Most orders',\n 'Average orders',\n 'Most orders',\n 'Average orders',\n 'Average orders',\n 'Most orders',\n 'Most orders',\n 'Average orders',\n 'Average orders',\n 'Most orders',\n 'NA',\n 'NA',\n 'Average orders',\n 'Average orders',\n 'Average orders',\n 'Average orders',\n 'Average orders',\n 'Most orders',\n 'Average orders',\n 'Most orders',\n 'Most orders',\n 'Most orders',\n 'Most orders',\n 'Most orders',\n 'Average orders',\n 'Average orders',\n 'Average orders',\n 'Average orders',\n 'Average orders',\n 'Most orders',\n 'Average orders',\n 'Average orders',\n 'Average orders',\n 'Most orders',\n 'Most orders',\n 'Most orders',\n 'Most orders',\n 'NA',\n 'Most orders',\n 'Most orders',\n 'Average orders',\n 'Fewest orders',\n 'Most orders',\n 'Average orders',\n 'Most orders',\n 'Average orders',\n 'Most orders',\n 'Average orders',\n 'Most orders',\n 'Average orders',\n 'Fewest orders',\n 'Average orders',\n 'Average orders',\n 'Fewest orders',\n 'Most orders',\n 'Most orders',\n 'Fewest orders',\n 'Most orders',\n 'Most orders',\n 'Average orders',\n 'Average orders',\n 'Average orders',\n 'Most orders',\n 'Most orders',\n 'Most orders',\n 'Average orders',\n 'Most orders',\n 'Most orders',\n 'Average orders',\n 'Most orders',\n 'Most orders',\n 'Most orders',\n 'Most orders',\n 'NA',\n 'Fewest orders',\n 'Average orders',\n 'NA',\n 'Average orders',\n 'Fewest orders',\n 'NA',\n 'Most orders',\n 'Most orders',\n 'Most orders',\n 'Average orders',\n 'Most orders',\n 'Fewest orders',\n 'Fewest orders',\n 'Average orders',\n 'Average orders',\n 'Average orders',\n 'Most orders',\n 'NA',\n 'Most orders',\n 'Most orders',\n 'Most orders',\n 'NA',\n 'NA',\n 'NA',\n 'NA',\n 'NA',\n 'NA',\n 'NA',\n 'Fewest orders',\n 'Most orders',\n 'Fewest orders',\n 'Average orders',\n 'NA',\n 'NA',\n 'NA',\n 'NA',\n 'Most orders',\n 'Average orders',\n 'Average orders',\n 'Fewest orders',\n 'NA',\n 'NA',\n 'NA',\n 'Average orders',\n 'Average orders',\n 'Average orders',\n 'Average orders',\n 'Average orders',\n 'Most orders',\n 'Most orders',\n 'Most orders',\n 'Average orders',\n 'Average orders',\n 'Average orders',\n 'Most orders',\n 'Average orders',\n 'Average orders',\n 'Most orders',\n 'Fewest orders',\n 'Average orders',\n 'Most orders',\n 'Most orders',\n 'Most orders',\n 'Most orders',\n 'Fewest orders',\n 'Fewest orders',\n 'Most orders',\n 'Average orders',\n 'Most orders',\n 'Fewest orders',\n 'Fewest orders',\n 'Average orders',\n 'Fewest orders',\n 'Most orders',\n 'Fewest orders',\n 'Most orders',\n 'Fewest orders',\n 'NA',\n 'Fewest orders',\n 'Fewest orders',\n 'Fewest orders',\n 'Average orders',\n 'Fewest orders',\n 'Fewest orders',\n 'Fewest orders',\n 'Fewest orders',\n 'Most orders',\n 'Fewest orders',\n 'Fewest orders',\n 'NA',\n 'NA',\n 'NA',\n 'Fewest orders',\n 'NA',\n 'NA',\n 'NA',\n 'Average orders',\n 'NA',\n 'NA',\n 'Average orders',\n 'NA',\n 'Average orders',\n 'Most orders',\n 'Most orders',\n 'Most orders',\n 'Average orders',\n 'Average orders',\n 'Fewest orders',\n 'Average orders',\n 'Fewest orders',\n 'Average orders',\n 'NA',\n 'Most orders',\n 'Fewest orders',\n 'Average orders',\n 'NA',\n 'Most orders',\n 'Fewest orders',\n 'Fewest orders',\n 'NA',\n 'Average orders',\n 'Most orders',\n 'Fewest orders',\n 'Fewest orders',\n 'Average orders',\n 'Average orders',\n 'Average orders',\n 'Most orders',\n 'NA',\n 'Most orders',\n 'Most orders',\n 'Most orders',\n 'Average orders',\n 'Average orders',\n 'Average orders',\n 'Fewest orders',\n 'Average orders',\n 'Fewest orders',\n 'Most orders',\n 'Most orders',\n 'Most orders',\n 'Most orders',\n 'Average orders',\n 'Most orders',\n 'Most orders',\n 'NA',\n 'Most orders',\n 'Most orders',\n 'Most orders',\n 'Average orders',\n 'Fewest orders',\n 'Most orders',\n 'Most orders',\n 'Fewest orders',\n 'Fewest orders',\n 'Fewest orders',\n 'Average orders',\n 'Most orders',\n 'NA',\n 'Average orders',\n 'Most orders',\n 'Most orders',\n 'Most orders',\n 'Fewest orders',\n 'Most orders',\n 'Most orders',\n 'Fewest orders',\n 'Most orders',\n 'Fewest orders',\n 'Average orders',\n 'Average orders',\n 'NA',\n 'Most orders',\n 'Most orders',\n 'Most orders',\n 'Most orders',\n 'Fewest orders',\n 'Most orders',\n 'NA',\n 'Most orders',\n 'Fewest orders',\n 'Most orders',\n 'NA',\n 'Average orders',\n 'Average orders',\n 'NA',\n 'NA',\n 'NA',\n 'Fewest orders',\n 'Average orders',\n 'Most orders',\n 'Fewest orders',\n 'Average orders',\n 'Most orders',\n 'Average orders',\n 'Most orders',\n 'Average orders',\n 'NA',\n 'Fewest orders',\n 'Fewest orders',\n 'Most orders',\n 'NA',\n 'Average orders',\n 'Average orders',\n 'Most orders',\n 'Fewest orders',\n 'NA',\n 'Most orders',\n 'Average orders',\n 'Most orders',\n 'Most orders',\n 'Average orders',\n 'Most orders',\n 'Most orders',\n 'Most orders',\n 'Most orders',\n 'Most orders',\n 'Most orders',\n 'Average orders',\n 'Most orders',\n 'Average orders',\n 'Average orders',\n 'Most orders',\n 'Most orders',\n 'Most orders',\n 'Most orders',\n 'Average orders',\n 'Most orders',\n 'Most orders',\n 'Most orders',\n 'Most orders',\n 'Most orders',\n 'Most orders',\n 'Most orders',\n 'Average orders',\n 'Most orders',\n 'Most orders',\n 'Average orders',\n 'Average orders',\n 'Average orders',\n 'Most orders',\n 'Average orders',\n 'Most orders',\n 'Fewest orders',\n 'NA',\n 'Most orders',\n 'Average orders',\n 'Average orders',\n 'Most orders',\n 'Fewest orders',\n 'Most orders',\n 'Most orders',\n 'Average orders',\n 'Most orders',\n 'Most orders',\n 'Average orders',\n 'Average orders',\n 'Average orders',\n 'Most orders',\n 'Average orders',\n 'Fewest orders',\n 'Most orders',\n 'Most orders',\n 'Most orders',\n 'Average orders',\n 'Most orders',\n 'Most orders',\n 'Most orders',\n 'Most orders',\n 'Average orders',\n 'Average orders',\n 'Average orders',\n 'Average orders',\n 'Fewest orders',\n 'Most orders',\n 'Most orders',\n 'Most orders',\n 'Average orders',\n 'Average orders',\n 'Average orders',\n 'Most orders',\n 'Most orders',\n 'Average orders',\n 'Most orders',\n 'NA',\n 'Most orders',\n 'Fewest orders',\n 'Average orders',\n 'Average orders',\n 'Fewest orders',\n 'Most orders',\n 'Average orders',\n 'Average orders',\n 'Fewest orders',\n 'Most orders',\n 'Most orders',\n 'Most orders',\n 'Fewest orders',\n 'Most orders',\n 'Most orders',\n 'Most orders',\n 'Most orders',\n 'Average orders',\n 'Average orders',\n 'Most orders',\n 'Average orders',\n 'Most orders',\n 'Average orders',\n 'Most orders',\n 'Most orders',\n 'Most orders',\n 'Most orders',\n 'Most orders',\n 'Average orders',\n 'Most orders',\n 'Most orders',\n 'Most orders',\n 'Most orders',\n 'Most orders',\n 'Most orders',\n 'Most orders',\n 'Average orders',\n 'Most orders',\n 'Most orders',\n 'Most orders',\n 'Most orders',\n 'Average orders',\n 'Most orders',\n 'Most orders',\n 'Average orders',\n 'Average orders',\n 'Most orders',\n 'Average orders',\n 'Average orders',\n 'Most orders',\n 'Most orders',\n 'Most orders',\n 'Average orders',\n 'Most orders',\n 'NA',\n 'Average orders',\n 'Fewest orders',\n 'Most orders',\n 'Most orders',\n 'Most orders',\n 'Most orders',\n 'Average orders',\n 'Most orders',\n 'Average orders',\n 'NA',\n 'Average orders',\n 'Fewest orders',\n 'Average orders',\n 'Fewest orders',\n 'Average orders',\n 'Average orders',\n 'Most orders',\n 'Fewest orders',\n 'NA',\n 'NA',\n 'Most orders',\n 'Most orders',\n 'NA',\n 'Most orders',\n 'Average orders',\n 'Fewest orders',\n 'Fewest orders',\n 'Average orders',\n 'Most orders',\n 'Average orders',\n 'Average orders',\n 'NA',\n 'Most orders',\n 'Most orders',\n 'Average orders',\n 'Average orders',\n 'Most orders',\n 'Most orders',\n 'Most orders',\n 'Average orders',\n 'Most orders',\n 'Fewest orders',\n 'Average orders',\n 'Most orders',\n 'Most orders',\n 'Most orders',\n 'Average orders',\n 'Most orders',\n 'Most orders',\n 'Most orders',\n 'Most orders',\n 'Most orders',\n 'Most orders',\n 'Fewest orders',\n 'Average orders',\n 'Fewest orders',\n 'Most orders',\n 'Most orders',\n 'Most orders',\n 'Most orders',\n 'NA',\n 'Average orders',\n 'Most orders',\n 'Average orders',\n 'Average orders',\n 'Most orders',\n 'Fewest orders',\n ...]"
     },
     "execution_count": 56,
     "metadata": {},
     "output_type": "execute_result"
    }
   ],
   "source": [
    "result2"
   ],
   "metadata": {
    "collapsed": false,
    "pycharm": {
     "name": "#%%\n"
    }
   }
  },
  {
   "cell_type": "code",
   "execution_count": 57,
   "outputs": [
    {
     "data": {
      "text/plain": "Most orders       10849180\nAverage orders    10268891\nFewest orders      6700579\nNA                 4586209\nName: most_fewest_orders, dtype: int64"
     },
     "execution_count": 57,
     "metadata": {},
     "output_type": "execute_result"
    }
   ],
   "source": [
    "#Create new column, count frequency of values in column\n",
    "df_ords_merged['most_fewest_orders'] = result2\n",
    "df_ords_merged['most_fewest_orders'].value_counts(dropna = False)"
   ],
   "metadata": {
    "collapsed": false,
    "pycharm": {
     "name": "#%%\n"
    }
   }
  },
  {
   "cell_type": "code",
   "execution_count": 58,
   "outputs": [],
   "source": [
    "#Export data to pkl\n",
    "df_ords_merged.to_pickle(os.path.join(path2, 'orders_products_combined.pkl'))"
   ],
   "metadata": {
    "collapsed": false,
    "pycharm": {
     "name": "#%%\n"
    }
   }
  },
  {
   "cell_type": "code",
   "execution_count": null,
   "outputs": [],
   "source": [],
   "metadata": {
    "collapsed": false,
    "pycharm": {
     "name": "#%%\n"
    }
   }
  }
 ],
 "metadata": {
  "kernelspec": {
   "display_name": "Python 3",
   "language": "python",
   "name": "python3"
  },
  "language_info": {
   "codemirror_mode": {
    "name": "ipython",
    "version": 2
   },
   "file_extension": ".py",
   "mimetype": "text/x-python",
   "name": "python",
   "nbconvert_exporter": "python",
   "pygments_lexer": "ipython2",
   "version": "2.7.6"
  }
 },
 "nbformat": 4,
 "nbformat_minor": 0
}