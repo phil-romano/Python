{
 "cells": [
  {
   "cell_type": "code",
   "execution_count": 21,
   "outputs": [],
   "source": [
    "#import libraries\n",
    "import pandas as pd\n",
    "import numpy as np\n",
    "import os\n",
    "\n",
    "#import files\n",
    "path = r'..\\02 Data\\Original Data'\n",
    "path2 = r'..\\02 Data\\Prepared Data'\n",
    "\n",
    "#import dataframe\n",
    "df_ords_merged = pd.read_pickle(os.path.join(path2,'orders_products_merged.pkl'))\n",
    "df = df_ords_merged[:1000000]"
   ],
   "metadata": {
    "collapsed": false,
    "pycharm": {
     "name": "#%%\n"
    }
   }
  },
  {
   "cell_type": "code",
   "execution_count": 22,
   "outputs": [
    {
     "name": "stdout",
     "output_type": "stream",
     "text": [
      "<class 'pandas.core.frame.DataFrame'>\n",
      "Int64Index: 1000000 entries, 0 to 999999\n",
      "Data columns (total 18 columns):\n",
      " #   Column                  Non-Null Count    Dtype   \n",
      "---  ------                  --------------    -----   \n",
      " 0   Unnamed: 0.1            1000000 non-null  int64   \n",
      " 1   Unnamed: 0_x            1000000 non-null  int64   \n",
      " 2   order_id                1000000 non-null  int64   \n",
      " 3   user_id                 1000000 non-null  int64   \n",
      " 4   eval_set                1000000 non-null  object  \n",
      " 5   order_number            1000000 non-null  int64   \n",
      " 6   order_dow               1000000 non-null  int64   \n",
      " 7   order_hour_of_day       1000000 non-null  int64   \n",
      " 8   days_since_prior_order  1000000 non-null  float64 \n",
      " 9   product_id              1000000 non-null  int64   \n",
      " 10  add_to_cart_order       1000000 non-null  int64   \n",
      " 11  reordered               1000000 non-null  int64   \n",
      " 12  Unnamed: 0_y            1000000 non-null  int64   \n",
      " 13  product_name            1000000 non-null  object  \n",
      " 14  aisle_id                1000000 non-null  int64   \n",
      " 15  department_id           1000000 non-null  int64   \n",
      " 16  prices                  1000000 non-null  float64 \n",
      " 17  _merge                  1000000 non-null  category\n",
      "dtypes: category(1), float64(2), int64(13), object(2)\n",
      "memory usage: 138.3+ MB\n"
     ]
    }
   ],
   "source": [
    "df.info()"
   ],
   "metadata": {
    "collapsed": false,
    "pycharm": {
     "name": "#%%\n"
    }
   }
  },
  {
   "cell_type": "code",
   "execution_count": 23,
   "outputs": [
    {
     "data": {
      "text/plain": "(1000000, 18)"
     },
     "execution_count": 23,
     "metadata": {},
     "output_type": "execute_result"
    }
   ],
   "source": [
    "df.shape"
   ],
   "metadata": {
    "collapsed": false,
    "pycharm": {
     "name": "#%%\n"
    }
   }
  },
  {
   "cell_type": "code",
   "execution_count": 24,
   "outputs": [
    {
     "data": {
      "text/plain": "              order_number\n                      mean\ndepartment_id             \n4                18.825780\n7                17.472355\n13               17.993423\n14               19.246334\n16               19.463012\n17               11.294069\n19               19.305237\n20               17.599636",
      "text/html": "<div>\n<style scoped>\n    .dataframe tbody tr th:only-of-type {\n        vertical-align: middle;\n    }\n\n    .dataframe tbody tr th {\n        vertical-align: top;\n    }\n\n    .dataframe thead tr th {\n        text-align: left;\n    }\n\n    .dataframe thead tr:last-of-type th {\n        text-align: right;\n    }\n</style>\n<table border=\"1\" class=\"dataframe\">\n  <thead>\n    <tr>\n      <th></th>\n      <th>order_number</th>\n    </tr>\n    <tr>\n      <th></th>\n      <th>mean</th>\n    </tr>\n    <tr>\n      <th>department_id</th>\n      <th></th>\n    </tr>\n  </thead>\n  <tbody>\n    <tr>\n      <th>4</th>\n      <td>18.825780</td>\n    </tr>\n    <tr>\n      <th>7</th>\n      <td>17.472355</td>\n    </tr>\n    <tr>\n      <th>13</th>\n      <td>17.993423</td>\n    </tr>\n    <tr>\n      <th>14</th>\n      <td>19.246334</td>\n    </tr>\n    <tr>\n      <th>16</th>\n      <td>19.463012</td>\n    </tr>\n    <tr>\n      <th>17</th>\n      <td>11.294069</td>\n    </tr>\n    <tr>\n      <th>19</th>\n      <td>19.305237</td>\n    </tr>\n    <tr>\n      <th>20</th>\n      <td>17.599636</td>\n    </tr>\n  </tbody>\n</table>\n</div>"
     },
     "execution_count": 24,
     "metadata": {},
     "output_type": "execute_result"
    }
   ],
   "source": [
    "df.groupby('department_id').agg({'order_number': ['mean']})"
   ],
   "metadata": {
    "collapsed": false,
    "pycharm": {
     "name": "#%%\n"
    }
   }
  },
  {
   "cell_type": "code",
   "execution_count": 25,
   "outputs": [
    {
     "data": {
      "text/plain": "department_id\n4     18.825780\n7     17.472355\n13    17.993423\n14    19.246334\n16    19.463012\n17    11.294069\n19    19.305237\n20    17.599636\nName: order_number, dtype: float64"
     },
     "execution_count": 25,
     "metadata": {},
     "output_type": "execute_result"
    }
   ],
   "source": [
    "df.groupby('department_id')['order_number'].mean()"
   ],
   "metadata": {
    "collapsed": false,
    "pycharm": {
     "name": "#%%\n"
    }
   }
  },
  {
   "cell_type": "code",
   "execution_count": 26,
   "outputs": [
    {
     "data": {
      "text/plain": "              order_number        \n                      mean min max\ndepartment_id                     \n4                18.825780   1  99\n7                17.472355   1  99\n13               17.993423   1  99\n14               19.246334   1  99\n16               19.463012   1  99\n17               11.294069   1  98\n19               19.305237   1  99\n20               17.599636   1  99",
      "text/html": "<div>\n<style scoped>\n    .dataframe tbody tr th:only-of-type {\n        vertical-align: middle;\n    }\n\n    .dataframe tbody tr th {\n        vertical-align: top;\n    }\n\n    .dataframe thead tr th {\n        text-align: left;\n    }\n\n    .dataframe thead tr:last-of-type th {\n        text-align: right;\n    }\n</style>\n<table border=\"1\" class=\"dataframe\">\n  <thead>\n    <tr>\n      <th></th>\n      <th colspan=\"3\" halign=\"left\">order_number</th>\n    </tr>\n    <tr>\n      <th></th>\n      <th>mean</th>\n      <th>min</th>\n      <th>max</th>\n    </tr>\n    <tr>\n      <th>department_id</th>\n      <th></th>\n      <th></th>\n      <th></th>\n    </tr>\n  </thead>\n  <tbody>\n    <tr>\n      <th>4</th>\n      <td>18.825780</td>\n      <td>1</td>\n      <td>99</td>\n    </tr>\n    <tr>\n      <th>7</th>\n      <td>17.472355</td>\n      <td>1</td>\n      <td>99</td>\n    </tr>\n    <tr>\n      <th>13</th>\n      <td>17.993423</td>\n      <td>1</td>\n      <td>99</td>\n    </tr>\n    <tr>\n      <th>14</th>\n      <td>19.246334</td>\n      <td>1</td>\n      <td>99</td>\n    </tr>\n    <tr>\n      <th>16</th>\n      <td>19.463012</td>\n      <td>1</td>\n      <td>99</td>\n    </tr>\n    <tr>\n      <th>17</th>\n      <td>11.294069</td>\n      <td>1</td>\n      <td>98</td>\n    </tr>\n    <tr>\n      <th>19</th>\n      <td>19.305237</td>\n      <td>1</td>\n      <td>99</td>\n    </tr>\n    <tr>\n      <th>20</th>\n      <td>17.599636</td>\n      <td>1</td>\n      <td>99</td>\n    </tr>\n  </tbody>\n</table>\n</div>"
     },
     "execution_count": 26,
     "metadata": {},
     "output_type": "execute_result"
    }
   ],
   "source": [
    "df.groupby('department_id').agg({'order_number':['mean', 'min', 'max']})"
   ],
   "metadata": {
    "collapsed": false,
    "pycharm": {
     "name": "#%%\n"
    }
   }
  },
  {
   "cell_type": "code",
   "execution_count": 27,
   "outputs": [],
   "source": [
    "df_ords_merged['max_order'] = df_ords_merged.groupby(['user_id'])['order_number'].transform(np.max)"
   ],
   "metadata": {
    "collapsed": false,
    "pycharm": {
     "name": "#%%\n"
    }
   }
  },
  {
   "cell_type": "code",
   "execution_count": 28,
   "outputs": [
    {
     "data": {
      "text/plain": "    Unnamed: 0.1  Unnamed: 0_x  order_id  user_id eval_set  order_number  \\\n0              0             0   2539329        1    prior             1   \n1              1             1   2398795        1    prior             2   \n2              2             2    473747        1    prior             3   \n3              3             3   2254736        1    prior             4   \n4              4             4    431534        1    prior             5   \n..           ...           ...       ...      ...      ...           ...   \n95          5895          5895   3226575      360    prior             1   \n96          6137          6137   1469869      377    prior             3   \n97          6259          6259   1927023      387    prior             2   \n98          6740          6740    858092      420    prior             4   \n99          6741          6741    119314      420    prior             5   \n\n    order_dow  order_hour_of_day  days_since_prior_order  product_id  \\\n0           2                  8                     0.0         196   \n1           3                  7                    15.0         196   \n2           3                 12                    21.0         196   \n3           4                  7                    29.0         196   \n4           4                 15                    28.0         196   \n..        ...                ...                     ...         ...   \n95          5                 12                     0.0         196   \n96          5                 17                     3.0         196   \n97          4                 10                    22.0         196   \n98          1                 19                    30.0         196   \n99          3                 19                    16.0         196   \n\n    add_to_cart_order  reordered  Unnamed: 0_y product_name  aisle_id  \\\n0                   1          0           195         Soda        77   \n1                   1          1           195         Soda        77   \n2                   1          1           195         Soda        77   \n3                   1          1           195         Soda        77   \n4                   1          1           195         Soda        77   \n..                ...        ...           ...          ...       ...   \n95                  1          0           195         Soda        77   \n96                  9          0           195         Soda        77   \n97                  3          0           195         Soda        77   \n98                  2          0           195         Soda        77   \n99                  2          1           195         Soda        77   \n\n    department_id  prices _merge  max_order  \n0               7     9.0   both         10  \n1               7     9.0   both         10  \n2               7     9.0   both         10  \n3               7     9.0   both         10  \n4               7     9.0   both         10  \n..            ...     ...    ...        ...  \n95              7     9.0   both          3  \n96              7     9.0   both          3  \n97              7     9.0   both          8  \n98              7     9.0   both         22  \n99              7     9.0   both         22  \n\n[100 rows x 19 columns]",
      "text/html": "<div>\n<style scoped>\n    .dataframe tbody tr th:only-of-type {\n        vertical-align: middle;\n    }\n\n    .dataframe tbody tr th {\n        vertical-align: top;\n    }\n\n    .dataframe thead th {\n        text-align: right;\n    }\n</style>\n<table border=\"1\" class=\"dataframe\">\n  <thead>\n    <tr style=\"text-align: right;\">\n      <th></th>\n      <th>Unnamed: 0.1</th>\n      <th>Unnamed: 0_x</th>\n      <th>order_id</th>\n      <th>user_id</th>\n      <th>eval_set</th>\n      <th>order_number</th>\n      <th>order_dow</th>\n      <th>order_hour_of_day</th>\n      <th>days_since_prior_order</th>\n      <th>product_id</th>\n      <th>add_to_cart_order</th>\n      <th>reordered</th>\n      <th>Unnamed: 0_y</th>\n      <th>product_name</th>\n      <th>aisle_id</th>\n      <th>department_id</th>\n      <th>prices</th>\n      <th>_merge</th>\n      <th>max_order</th>\n    </tr>\n  </thead>\n  <tbody>\n    <tr>\n      <th>0</th>\n      <td>0</td>\n      <td>0</td>\n      <td>2539329</td>\n      <td>1</td>\n      <td>prior</td>\n      <td>1</td>\n      <td>2</td>\n      <td>8</td>\n      <td>0.0</td>\n      <td>196</td>\n      <td>1</td>\n      <td>0</td>\n      <td>195</td>\n      <td>Soda</td>\n      <td>77</td>\n      <td>7</td>\n      <td>9.0</td>\n      <td>both</td>\n      <td>10</td>\n    </tr>\n    <tr>\n      <th>1</th>\n      <td>1</td>\n      <td>1</td>\n      <td>2398795</td>\n      <td>1</td>\n      <td>prior</td>\n      <td>2</td>\n      <td>3</td>\n      <td>7</td>\n      <td>15.0</td>\n      <td>196</td>\n      <td>1</td>\n      <td>1</td>\n      <td>195</td>\n      <td>Soda</td>\n      <td>77</td>\n      <td>7</td>\n      <td>9.0</td>\n      <td>both</td>\n      <td>10</td>\n    </tr>\n    <tr>\n      <th>2</th>\n      <td>2</td>\n      <td>2</td>\n      <td>473747</td>\n      <td>1</td>\n      <td>prior</td>\n      <td>3</td>\n      <td>3</td>\n      <td>12</td>\n      <td>21.0</td>\n      <td>196</td>\n      <td>1</td>\n      <td>1</td>\n      <td>195</td>\n      <td>Soda</td>\n      <td>77</td>\n      <td>7</td>\n      <td>9.0</td>\n      <td>both</td>\n      <td>10</td>\n    </tr>\n    <tr>\n      <th>3</th>\n      <td>3</td>\n      <td>3</td>\n      <td>2254736</td>\n      <td>1</td>\n      <td>prior</td>\n      <td>4</td>\n      <td>4</td>\n      <td>7</td>\n      <td>29.0</td>\n      <td>196</td>\n      <td>1</td>\n      <td>1</td>\n      <td>195</td>\n      <td>Soda</td>\n      <td>77</td>\n      <td>7</td>\n      <td>9.0</td>\n      <td>both</td>\n      <td>10</td>\n    </tr>\n    <tr>\n      <th>4</th>\n      <td>4</td>\n      <td>4</td>\n      <td>431534</td>\n      <td>1</td>\n      <td>prior</td>\n      <td>5</td>\n      <td>4</td>\n      <td>15</td>\n      <td>28.0</td>\n      <td>196</td>\n      <td>1</td>\n      <td>1</td>\n      <td>195</td>\n      <td>Soda</td>\n      <td>77</td>\n      <td>7</td>\n      <td>9.0</td>\n      <td>both</td>\n      <td>10</td>\n    </tr>\n    <tr>\n      <th>...</th>\n      <td>...</td>\n      <td>...</td>\n      <td>...</td>\n      <td>...</td>\n      <td>...</td>\n      <td>...</td>\n      <td>...</td>\n      <td>...</td>\n      <td>...</td>\n      <td>...</td>\n      <td>...</td>\n      <td>...</td>\n      <td>...</td>\n      <td>...</td>\n      <td>...</td>\n      <td>...</td>\n      <td>...</td>\n      <td>...</td>\n      <td>...</td>\n    </tr>\n    <tr>\n      <th>95</th>\n      <td>5895</td>\n      <td>5895</td>\n      <td>3226575</td>\n      <td>360</td>\n      <td>prior</td>\n      <td>1</td>\n      <td>5</td>\n      <td>12</td>\n      <td>0.0</td>\n      <td>196</td>\n      <td>1</td>\n      <td>0</td>\n      <td>195</td>\n      <td>Soda</td>\n      <td>77</td>\n      <td>7</td>\n      <td>9.0</td>\n      <td>both</td>\n      <td>3</td>\n    </tr>\n    <tr>\n      <th>96</th>\n      <td>6137</td>\n      <td>6137</td>\n      <td>1469869</td>\n      <td>377</td>\n      <td>prior</td>\n      <td>3</td>\n      <td>5</td>\n      <td>17</td>\n      <td>3.0</td>\n      <td>196</td>\n      <td>9</td>\n      <td>0</td>\n      <td>195</td>\n      <td>Soda</td>\n      <td>77</td>\n      <td>7</td>\n      <td>9.0</td>\n      <td>both</td>\n      <td>3</td>\n    </tr>\n    <tr>\n      <th>97</th>\n      <td>6259</td>\n      <td>6259</td>\n      <td>1927023</td>\n      <td>387</td>\n      <td>prior</td>\n      <td>2</td>\n      <td>4</td>\n      <td>10</td>\n      <td>22.0</td>\n      <td>196</td>\n      <td>3</td>\n      <td>0</td>\n      <td>195</td>\n      <td>Soda</td>\n      <td>77</td>\n      <td>7</td>\n      <td>9.0</td>\n      <td>both</td>\n      <td>8</td>\n    </tr>\n    <tr>\n      <th>98</th>\n      <td>6740</td>\n      <td>6740</td>\n      <td>858092</td>\n      <td>420</td>\n      <td>prior</td>\n      <td>4</td>\n      <td>1</td>\n      <td>19</td>\n      <td>30.0</td>\n      <td>196</td>\n      <td>2</td>\n      <td>0</td>\n      <td>195</td>\n      <td>Soda</td>\n      <td>77</td>\n      <td>7</td>\n      <td>9.0</td>\n      <td>both</td>\n      <td>22</td>\n    </tr>\n    <tr>\n      <th>99</th>\n      <td>6741</td>\n      <td>6741</td>\n      <td>119314</td>\n      <td>420</td>\n      <td>prior</td>\n      <td>5</td>\n      <td>3</td>\n      <td>19</td>\n      <td>16.0</td>\n      <td>196</td>\n      <td>2</td>\n      <td>1</td>\n      <td>195</td>\n      <td>Soda</td>\n      <td>77</td>\n      <td>7</td>\n      <td>9.0</td>\n      <td>both</td>\n      <td>22</td>\n    </tr>\n  </tbody>\n</table>\n<p>100 rows × 19 columns</p>\n</div>"
     },
     "execution_count": 28,
     "metadata": {},
     "output_type": "execute_result"
    }
   ],
   "source": [
    "df_ords_merged.head(100)"
   ],
   "metadata": {
    "collapsed": false,
    "pycharm": {
     "name": "#%%\n"
    }
   }
  },
  {
   "cell_type": "code",
   "execution_count": 33,
   "outputs": [],
   "source": [
    "df_ords_merged = df_ords_merged.drop(['Unnamed: 0.1','Unnamed: 0_x','Unnamed: 0_y'], axis=1)\n"
   ],
   "metadata": {
    "collapsed": false,
    "pycharm": {
     "name": "#%%\n"
    }
   }
  },
  {
   "cell_type": "code",
   "execution_count": 34,
   "outputs": [
    {
     "data": {
      "text/plain": "   order_id  user_id eval_set  order_number  order_dow  order_hour_of_day  \\\n0   2539329        1    prior             1          2                  8   \n1   2398795        1    prior             2          3                  7   \n2    473747        1    prior             3          3                 12   \n3   2254736        1    prior             4          4                  7   \n4    431534        1    prior             5          4                 15   \n\n   days_since_prior_order  product_id  add_to_cart_order  reordered  \\\n0                     0.0         196                  1          0   \n1                    15.0         196                  1          1   \n2                    21.0         196                  1          1   \n3                    29.0         196                  1          1   \n4                    28.0         196                  1          1   \n\n  product_name  aisle_id  department_id  prices _merge  max_order  \n0         Soda        77              7     9.0   both         10  \n1         Soda        77              7     9.0   both         10  \n2         Soda        77              7     9.0   both         10  \n3         Soda        77              7     9.0   both         10  \n4         Soda        77              7     9.0   both         10  ",
      "text/html": "<div>\n<style scoped>\n    .dataframe tbody tr th:only-of-type {\n        vertical-align: middle;\n    }\n\n    .dataframe tbody tr th {\n        vertical-align: top;\n    }\n\n    .dataframe thead th {\n        text-align: right;\n    }\n</style>\n<table border=\"1\" class=\"dataframe\">\n  <thead>\n    <tr style=\"text-align: right;\">\n      <th></th>\n      <th>order_id</th>\n      <th>user_id</th>\n      <th>eval_set</th>\n      <th>order_number</th>\n      <th>order_dow</th>\n      <th>order_hour_of_day</th>\n      <th>days_since_prior_order</th>\n      <th>product_id</th>\n      <th>add_to_cart_order</th>\n      <th>reordered</th>\n      <th>product_name</th>\n      <th>aisle_id</th>\n      <th>department_id</th>\n      <th>prices</th>\n      <th>_merge</th>\n      <th>max_order</th>\n    </tr>\n  </thead>\n  <tbody>\n    <tr>\n      <th>0</th>\n      <td>2539329</td>\n      <td>1</td>\n      <td>prior</td>\n      <td>1</td>\n      <td>2</td>\n      <td>8</td>\n      <td>0.0</td>\n      <td>196</td>\n      <td>1</td>\n      <td>0</td>\n      <td>Soda</td>\n      <td>77</td>\n      <td>7</td>\n      <td>9.0</td>\n      <td>both</td>\n      <td>10</td>\n    </tr>\n    <tr>\n      <th>1</th>\n      <td>2398795</td>\n      <td>1</td>\n      <td>prior</td>\n      <td>2</td>\n      <td>3</td>\n      <td>7</td>\n      <td>15.0</td>\n      <td>196</td>\n      <td>1</td>\n      <td>1</td>\n      <td>Soda</td>\n      <td>77</td>\n      <td>7</td>\n      <td>9.0</td>\n      <td>both</td>\n      <td>10</td>\n    </tr>\n    <tr>\n      <th>2</th>\n      <td>473747</td>\n      <td>1</td>\n      <td>prior</td>\n      <td>3</td>\n      <td>3</td>\n      <td>12</td>\n      <td>21.0</td>\n      <td>196</td>\n      <td>1</td>\n      <td>1</td>\n      <td>Soda</td>\n      <td>77</td>\n      <td>7</td>\n      <td>9.0</td>\n      <td>both</td>\n      <td>10</td>\n    </tr>\n    <tr>\n      <th>3</th>\n      <td>2254736</td>\n      <td>1</td>\n      <td>prior</td>\n      <td>4</td>\n      <td>4</td>\n      <td>7</td>\n      <td>29.0</td>\n      <td>196</td>\n      <td>1</td>\n      <td>1</td>\n      <td>Soda</td>\n      <td>77</td>\n      <td>7</td>\n      <td>9.0</td>\n      <td>both</td>\n      <td>10</td>\n    </tr>\n    <tr>\n      <th>4</th>\n      <td>431534</td>\n      <td>1</td>\n      <td>prior</td>\n      <td>5</td>\n      <td>4</td>\n      <td>15</td>\n      <td>28.0</td>\n      <td>196</td>\n      <td>1</td>\n      <td>1</td>\n      <td>Soda</td>\n      <td>77</td>\n      <td>7</td>\n      <td>9.0</td>\n      <td>both</td>\n      <td>10</td>\n    </tr>\n  </tbody>\n</table>\n</div>"
     },
     "execution_count": 34,
     "metadata": {},
     "output_type": "execute_result"
    }
   ],
   "source": [
    "df_ords_merged.head()"
   ],
   "metadata": {
    "collapsed": false,
    "pycharm": {
     "name": "#%%\n"
    }
   }
  },
  {
   "cell_type": "code",
   "execution_count": 35,
   "outputs": [
    {
     "data": {
      "text/plain": "Regular customer    15876776\nLoyal customer      10284093\nNew customer         6243990\nName: loyalty_flag, dtype: int64"
     },
     "execution_count": 35,
     "metadata": {},
     "output_type": "execute_result"
    }
   ],
   "source": [
    "df_ords_merged.loc[df_ords_merged['max_order'] > 40, 'loyalty_flag'] = 'Loyal customer'\n",
    "df_ords_merged.loc[(df_ords_merged['max_order'] <= 40) & (df_ords_merged['max_order'] > 10), 'loyalty_flag'] = 'Regular customer'\n",
    "df_ords_merged.loc[df_ords_merged['max_order'] <= 10, 'loyalty_flag'] = 'New customer'\n",
    "df_ords_merged['loyalty_flag'].value_counts(dropna = False)"
   ],
   "metadata": {
    "collapsed": false,
    "pycharm": {
     "name": "#%%\n"
    }
   }
  },
  {
   "cell_type": "code",
   "execution_count": 36,
   "outputs": [],
   "source": [
    "#Export data to pkl\n",
    "df_ords_merged.to_pickle(os.path.join(path2, 'orders_products_combined.pkl'))"
   ],
   "metadata": {
    "collapsed": false,
    "pycharm": {
     "name": "#%%\n"
    }
   }
  },
  {
   "cell_type": "code",
   "execution_count": null,
   "outputs": [],
   "source": [],
   "metadata": {
    "collapsed": false,
    "pycharm": {
     "name": "#%%\n"
    }
   }
  }
 ],
 "metadata": {
  "kernelspec": {
   "display_name": "Python 3",
   "language": "python",
   "name": "python3"
  },
  "language_info": {
   "codemirror_mode": {
    "name": "ipython",
    "version": 2
   },
   "file_extension": ".py",
   "mimetype": "text/x-python",
   "name": "python",
   "nbconvert_exporter": "python",
   "pygments_lexer": "ipython2",
   "version": "2.7.6"
  }
 },
 "nbformat": 4,
 "nbformat_minor": 0
}