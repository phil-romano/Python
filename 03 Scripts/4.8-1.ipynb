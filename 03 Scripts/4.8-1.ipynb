{
 "cells": [
  {
   "cell_type": "code",
   "execution_count": 2,
   "metadata": {
    "collapsed": true,
    "pycharm": {
     "name": "#%%\n"
    }
   },
   "outputs": [],
   "source": [
    "#import libraries\n",
    "import pandas as pd\n",
    "import numpy as np\n",
    "import os\n",
    "\n",
    "#import files\n",
    "path = r'..\\02 Data\\Original Data'\n",
    "path2 = r'..\\02 Data\\Prepared Data'\n",
    "\n",
    "#import dataframe\n",
    "df_ords_merged = pd.read_pickle(os.path.join(path2,'orders_products_merged.pkl'))"
   ]
  },
  {
   "cell_type": "code",
   "execution_count": 3,
   "outputs": [
    {
     "data": {
      "text/plain": "              order_number\n                      mean\ndepartment_id             \n1                15.457838\n2                17.277920\n3                17.170395\n4                17.811403\n5                15.215751\n6                16.439806\n7                17.225802\n8                15.340650\n9                15.895474\n10               20.197148\n11               16.170638\n12               15.887671\n13               16.583536\n14               16.773669\n15               16.165037\n16               17.665606\n17               15.694469\n18               19.310397\n19               17.177343\n20               16.473447\n21               22.902379",
      "text/html": "<div>\n<style scoped>\n    .dataframe tbody tr th:only-of-type {\n        vertical-align: middle;\n    }\n\n    .dataframe tbody tr th {\n        vertical-align: top;\n    }\n\n    .dataframe thead tr th {\n        text-align: left;\n    }\n\n    .dataframe thead tr:last-of-type th {\n        text-align: right;\n    }\n</style>\n<table border=\"1\" class=\"dataframe\">\n  <thead>\n    <tr>\n      <th></th>\n      <th>order_number</th>\n    </tr>\n    <tr>\n      <th></th>\n      <th>mean</th>\n    </tr>\n    <tr>\n      <th>department_id</th>\n      <th></th>\n    </tr>\n  </thead>\n  <tbody>\n    <tr>\n      <th>1</th>\n      <td>15.457838</td>\n    </tr>\n    <tr>\n      <th>2</th>\n      <td>17.277920</td>\n    </tr>\n    <tr>\n      <th>3</th>\n      <td>17.170395</td>\n    </tr>\n    <tr>\n      <th>4</th>\n      <td>17.811403</td>\n    </tr>\n    <tr>\n      <th>5</th>\n      <td>15.215751</td>\n    </tr>\n    <tr>\n      <th>6</th>\n      <td>16.439806</td>\n    </tr>\n    <tr>\n      <th>7</th>\n      <td>17.225802</td>\n    </tr>\n    <tr>\n      <th>8</th>\n      <td>15.340650</td>\n    </tr>\n    <tr>\n      <th>9</th>\n      <td>15.895474</td>\n    </tr>\n    <tr>\n      <th>10</th>\n      <td>20.197148</td>\n    </tr>\n    <tr>\n      <th>11</th>\n      <td>16.170638</td>\n    </tr>\n    <tr>\n      <th>12</th>\n      <td>15.887671</td>\n    </tr>\n    <tr>\n      <th>13</th>\n      <td>16.583536</td>\n    </tr>\n    <tr>\n      <th>14</th>\n      <td>16.773669</td>\n    </tr>\n    <tr>\n      <th>15</th>\n      <td>16.165037</td>\n    </tr>\n    <tr>\n      <th>16</th>\n      <td>17.665606</td>\n    </tr>\n    <tr>\n      <th>17</th>\n      <td>15.694469</td>\n    </tr>\n    <tr>\n      <th>18</th>\n      <td>19.310397</td>\n    </tr>\n    <tr>\n      <th>19</th>\n      <td>17.177343</td>\n    </tr>\n    <tr>\n      <th>20</th>\n      <td>16.473447</td>\n    </tr>\n    <tr>\n      <th>21</th>\n      <td>22.902379</td>\n    </tr>\n  </tbody>\n</table>\n</div>"
     },
     "execution_count": 3,
     "metadata": {},
     "output_type": "execute_result"
    }
   ],
   "source": [
    "#derive aggregated mean\n",
    "df_ords_merged.groupby('department_id').agg({'order_number': ['mean']})"
   ],
   "metadata": {
    "collapsed": false,
    "pycharm": {
     "name": "#%%\n"
    }
   }
  },
  {
   "cell_type": "markdown",
   "source": [
    "All the departments are available for analysis. The mean has also changed for the departments that had been included as part of the limited analysis."
   ],
   "metadata": {
    "collapsed": false,
    "pycharm": {
     "name": "#%% md\n"
    }
   }
  },
  {
   "cell_type": "code",
   "execution_count": 4,
   "outputs": [],
   "source": [
    "#create loyalty flag for existing customers\n",
    "df_ords_merged['max_order'] = df_ords_merged.groupby(['user_id'])['order_number'].transform(np.max)\n",
    "df_ords_merged.loc[df_ords_merged['max_order'] > 40, 'loyalty_flag'] = 'Loyal customer'\n",
    "df_ords_merged.loc[(df_ords_merged['max_order'] <= 40) & (df_ords_merged['max_order'] > 10), 'loyalty_flag'] = 'Regular customer'\n",
    "df_ords_merged.loc[df_ords_merged['max_order'] <= 10, 'loyalty_flag'] = 'New customer'"
   ],
   "metadata": {
    "collapsed": false,
    "pycharm": {
     "name": "#%%\n"
    }
   }
  },
  {
   "cell_type": "code",
   "execution_count": 5,
   "outputs": [
    {
     "data": {
      "text/plain": "   Unnamed: 0.1  Unnamed: 0_x  order_id  user_id eval_set  order_number  \\\n0             0             0   2539329        1    prior             1   \n1             1             1   2398795        1    prior             2   \n2             2             2    473747        1    prior             3   \n3             3             3   2254736        1    prior             4   \n4             4             4    431534        1    prior             5   \n\n   order_dow  order_hour_of_day  days_since_prior_order  product_id  \\\n0          2                  8                     0.0         196   \n1          3                  7                    15.0         196   \n2          3                 12                    21.0         196   \n3          4                  7                    29.0         196   \n4          4                 15                    28.0         196   \n\n   add_to_cart_order  reordered  Unnamed: 0_y product_name  aisle_id  \\\n0                  1          0           195         Soda        77   \n1                  1          1           195         Soda        77   \n2                  1          1           195         Soda        77   \n3                  1          1           195         Soda        77   \n4                  1          1           195         Soda        77   \n\n   department_id  prices _merge  max_order  loyalty_flag  \n0              7     9.0   both         10  New customer  \n1              7     9.0   both         10  New customer  \n2              7     9.0   both         10  New customer  \n3              7     9.0   both         10  New customer  \n4              7     9.0   both         10  New customer  ",
      "text/html": "<div>\n<style scoped>\n    .dataframe tbody tr th:only-of-type {\n        vertical-align: middle;\n    }\n\n    .dataframe tbody tr th {\n        vertical-align: top;\n    }\n\n    .dataframe thead th {\n        text-align: right;\n    }\n</style>\n<table border=\"1\" class=\"dataframe\">\n  <thead>\n    <tr style=\"text-align: right;\">\n      <th></th>\n      <th>Unnamed: 0.1</th>\n      <th>Unnamed: 0_x</th>\n      <th>order_id</th>\n      <th>user_id</th>\n      <th>eval_set</th>\n      <th>order_number</th>\n      <th>order_dow</th>\n      <th>order_hour_of_day</th>\n      <th>days_since_prior_order</th>\n      <th>product_id</th>\n      <th>add_to_cart_order</th>\n      <th>reordered</th>\n      <th>Unnamed: 0_y</th>\n      <th>product_name</th>\n      <th>aisle_id</th>\n      <th>department_id</th>\n      <th>prices</th>\n      <th>_merge</th>\n      <th>max_order</th>\n      <th>loyalty_flag</th>\n    </tr>\n  </thead>\n  <tbody>\n    <tr>\n      <th>0</th>\n      <td>0</td>\n      <td>0</td>\n      <td>2539329</td>\n      <td>1</td>\n      <td>prior</td>\n      <td>1</td>\n      <td>2</td>\n      <td>8</td>\n      <td>0.0</td>\n      <td>196</td>\n      <td>1</td>\n      <td>0</td>\n      <td>195</td>\n      <td>Soda</td>\n      <td>77</td>\n      <td>7</td>\n      <td>9.0</td>\n      <td>both</td>\n      <td>10</td>\n      <td>New customer</td>\n    </tr>\n    <tr>\n      <th>1</th>\n      <td>1</td>\n      <td>1</td>\n      <td>2398795</td>\n      <td>1</td>\n      <td>prior</td>\n      <td>2</td>\n      <td>3</td>\n      <td>7</td>\n      <td>15.0</td>\n      <td>196</td>\n      <td>1</td>\n      <td>1</td>\n      <td>195</td>\n      <td>Soda</td>\n      <td>77</td>\n      <td>7</td>\n      <td>9.0</td>\n      <td>both</td>\n      <td>10</td>\n      <td>New customer</td>\n    </tr>\n    <tr>\n      <th>2</th>\n      <td>2</td>\n      <td>2</td>\n      <td>473747</td>\n      <td>1</td>\n      <td>prior</td>\n      <td>3</td>\n      <td>3</td>\n      <td>12</td>\n      <td>21.0</td>\n      <td>196</td>\n      <td>1</td>\n      <td>1</td>\n      <td>195</td>\n      <td>Soda</td>\n      <td>77</td>\n      <td>7</td>\n      <td>9.0</td>\n      <td>both</td>\n      <td>10</td>\n      <td>New customer</td>\n    </tr>\n    <tr>\n      <th>3</th>\n      <td>3</td>\n      <td>3</td>\n      <td>2254736</td>\n      <td>1</td>\n      <td>prior</td>\n      <td>4</td>\n      <td>4</td>\n      <td>7</td>\n      <td>29.0</td>\n      <td>196</td>\n      <td>1</td>\n      <td>1</td>\n      <td>195</td>\n      <td>Soda</td>\n      <td>77</td>\n      <td>7</td>\n      <td>9.0</td>\n      <td>both</td>\n      <td>10</td>\n      <td>New customer</td>\n    </tr>\n    <tr>\n      <th>4</th>\n      <td>4</td>\n      <td>4</td>\n      <td>431534</td>\n      <td>1</td>\n      <td>prior</td>\n      <td>5</td>\n      <td>4</td>\n      <td>15</td>\n      <td>28.0</td>\n      <td>196</td>\n      <td>1</td>\n      <td>1</td>\n      <td>195</td>\n      <td>Soda</td>\n      <td>77</td>\n      <td>7</td>\n      <td>9.0</td>\n      <td>both</td>\n      <td>10</td>\n      <td>New customer</td>\n    </tr>\n  </tbody>\n</table>\n</div>"
     },
     "execution_count": 5,
     "metadata": {},
     "output_type": "execute_result"
    }
   ],
   "source": [
    "df_ords_merged.head()"
   ],
   "metadata": {
    "collapsed": false,
    "pycharm": {
     "name": "#%%\n"
    }
   }
  },
  {
   "cell_type": "code",
   "execution_count": 6,
   "outputs": [
    {
     "data": {
      "text/plain": "                     prices\n                       mean\nloyalty_flag               \nLoyal customer    10.386336\nNew customer      13.294670\nRegular customer  12.495717",
      "text/html": "<div>\n<style scoped>\n    .dataframe tbody tr th:only-of-type {\n        vertical-align: middle;\n    }\n\n    .dataframe tbody tr th {\n        vertical-align: top;\n    }\n\n    .dataframe thead tr th {\n        text-align: left;\n    }\n\n    .dataframe thead tr:last-of-type th {\n        text-align: right;\n    }\n</style>\n<table border=\"1\" class=\"dataframe\">\n  <thead>\n    <tr>\n      <th></th>\n      <th>prices</th>\n    </tr>\n    <tr>\n      <th></th>\n      <th>mean</th>\n    </tr>\n    <tr>\n      <th>loyalty_flag</th>\n      <th></th>\n    </tr>\n  </thead>\n  <tbody>\n    <tr>\n      <th>Loyal customer</th>\n      <td>10.386336</td>\n    </tr>\n    <tr>\n      <th>New customer</th>\n      <td>13.294670</td>\n    </tr>\n    <tr>\n      <th>Regular customer</th>\n      <td>12.495717</td>\n    </tr>\n  </tbody>\n</table>\n</div>"
     },
     "execution_count": 6,
     "metadata": {},
     "output_type": "execute_result"
    }
   ],
   "source": [
    "#check prices for each group of loyalty customer\n",
    "df_ords_merged.groupby('loyalty_flag').agg({'prices': ['mean']})"
   ],
   "metadata": {
    "collapsed": false,
    "pycharm": {
     "name": "#%%\n"
    }
   }
  },
  {
   "cell_type": "code",
   "execution_count": 7,
   "outputs": [],
   "source": [
    "#create a column to attach mean spending to each type of loyalty flag\n",
    "df_ords_merged['hey_big_spender'] = df_ords_merged.groupby(['loyalty_flag'])['prices'].transform(np.mean)"
   ],
   "metadata": {
    "collapsed": false,
    "pycharm": {
     "name": "#%%\n"
    }
   }
  },
  {
   "cell_type": "code",
   "execution_count": 8,
   "outputs": [
    {
     "data": {
      "text/plain": "   Unnamed: 0.1  Unnamed: 0_x  order_id  user_id eval_set  order_number  \\\n0             0             0   2539329        1    prior             1   \n1             1             1   2398795        1    prior             2   \n2             2             2    473747        1    prior             3   \n3             3             3   2254736        1    prior             4   \n4             4             4    431534        1    prior             5   \n\n   order_dow  order_hour_of_day  days_since_prior_order  product_id  ...  \\\n0          2                  8                     0.0         196  ...   \n1          3                  7                    15.0         196  ...   \n2          3                 12                    21.0         196  ...   \n3          4                  7                    29.0         196  ...   \n4          4                 15                    28.0         196  ...   \n\n   reordered  Unnamed: 0_y  product_name aisle_id  department_id  prices  \\\n0          0           195          Soda       77              7     9.0   \n1          1           195          Soda       77              7     9.0   \n2          1           195          Soda       77              7     9.0   \n3          1           195          Soda       77              7     9.0   \n4          1           195          Soda       77              7     9.0   \n\n   _merge max_order  loyalty_flag hey_big_spender  \n0    both        10  New customer        13.29467  \n1    both        10  New customer        13.29467  \n2    both        10  New customer        13.29467  \n3    both        10  New customer        13.29467  \n4    both        10  New customer        13.29467  \n\n[5 rows x 21 columns]",
      "text/html": "<div>\n<style scoped>\n    .dataframe tbody tr th:only-of-type {\n        vertical-align: middle;\n    }\n\n    .dataframe tbody tr th {\n        vertical-align: top;\n    }\n\n    .dataframe thead th {\n        text-align: right;\n    }\n</style>\n<table border=\"1\" class=\"dataframe\">\n  <thead>\n    <tr style=\"text-align: right;\">\n      <th></th>\n      <th>Unnamed: 0.1</th>\n      <th>Unnamed: 0_x</th>\n      <th>order_id</th>\n      <th>user_id</th>\n      <th>eval_set</th>\n      <th>order_number</th>\n      <th>order_dow</th>\n      <th>order_hour_of_day</th>\n      <th>days_since_prior_order</th>\n      <th>product_id</th>\n      <th>...</th>\n      <th>reordered</th>\n      <th>Unnamed: 0_y</th>\n      <th>product_name</th>\n      <th>aisle_id</th>\n      <th>department_id</th>\n      <th>prices</th>\n      <th>_merge</th>\n      <th>max_order</th>\n      <th>loyalty_flag</th>\n      <th>hey_big_spender</th>\n    </tr>\n  </thead>\n  <tbody>\n    <tr>\n      <th>0</th>\n      <td>0</td>\n      <td>0</td>\n      <td>2539329</td>\n      <td>1</td>\n      <td>prior</td>\n      <td>1</td>\n      <td>2</td>\n      <td>8</td>\n      <td>0.0</td>\n      <td>196</td>\n      <td>...</td>\n      <td>0</td>\n      <td>195</td>\n      <td>Soda</td>\n      <td>77</td>\n      <td>7</td>\n      <td>9.0</td>\n      <td>both</td>\n      <td>10</td>\n      <td>New customer</td>\n      <td>13.29467</td>\n    </tr>\n    <tr>\n      <th>1</th>\n      <td>1</td>\n      <td>1</td>\n      <td>2398795</td>\n      <td>1</td>\n      <td>prior</td>\n      <td>2</td>\n      <td>3</td>\n      <td>7</td>\n      <td>15.0</td>\n      <td>196</td>\n      <td>...</td>\n      <td>1</td>\n      <td>195</td>\n      <td>Soda</td>\n      <td>77</td>\n      <td>7</td>\n      <td>9.0</td>\n      <td>both</td>\n      <td>10</td>\n      <td>New customer</td>\n      <td>13.29467</td>\n    </tr>\n    <tr>\n      <th>2</th>\n      <td>2</td>\n      <td>2</td>\n      <td>473747</td>\n      <td>1</td>\n      <td>prior</td>\n      <td>3</td>\n      <td>3</td>\n      <td>12</td>\n      <td>21.0</td>\n      <td>196</td>\n      <td>...</td>\n      <td>1</td>\n      <td>195</td>\n      <td>Soda</td>\n      <td>77</td>\n      <td>7</td>\n      <td>9.0</td>\n      <td>both</td>\n      <td>10</td>\n      <td>New customer</td>\n      <td>13.29467</td>\n    </tr>\n    <tr>\n      <th>3</th>\n      <td>3</td>\n      <td>3</td>\n      <td>2254736</td>\n      <td>1</td>\n      <td>prior</td>\n      <td>4</td>\n      <td>4</td>\n      <td>7</td>\n      <td>29.0</td>\n      <td>196</td>\n      <td>...</td>\n      <td>1</td>\n      <td>195</td>\n      <td>Soda</td>\n      <td>77</td>\n      <td>7</td>\n      <td>9.0</td>\n      <td>both</td>\n      <td>10</td>\n      <td>New customer</td>\n      <td>13.29467</td>\n    </tr>\n    <tr>\n      <th>4</th>\n      <td>4</td>\n      <td>4</td>\n      <td>431534</td>\n      <td>1</td>\n      <td>prior</td>\n      <td>5</td>\n      <td>4</td>\n      <td>15</td>\n      <td>28.0</td>\n      <td>196</td>\n      <td>...</td>\n      <td>1</td>\n      <td>195</td>\n      <td>Soda</td>\n      <td>77</td>\n      <td>7</td>\n      <td>9.0</td>\n      <td>both</td>\n      <td>10</td>\n      <td>New customer</td>\n      <td>13.29467</td>\n    </tr>\n  </tbody>\n</table>\n<p>5 rows × 21 columns</p>\n</div>"
     },
     "execution_count": 8,
     "metadata": {},
     "output_type": "execute_result"
    }
   ],
   "source": [
    "df_ords_merged.head()"
   ],
   "metadata": {
    "collapsed": false,
    "pycharm": {
     "name": "#%%\n"
    }
   }
  },
  {
   "cell_type": "code",
   "execution_count": 9,
   "outputs": [],
   "source": [
    "#derive the average spend by user id\n",
    "df_ords_merged['average_price_user'] = df_ords_merged.groupby(['user_id'])['prices'].transform(np.mean)"
   ],
   "metadata": {
    "collapsed": false,
    "pycharm": {
     "name": "#%%\n"
    }
   }
  },
  {
   "cell_type": "code",
   "execution_count": 10,
   "outputs": [],
   "source": [
    "#label each user_id with a spend type\n",
    "df_ords_merged.loc[df_ords_merged['average_price_user'] < 10, 'spender_type'] = 'Low spender'\n",
    "df_ords_merged.loc[df_ords_merged['average_price_user'] >= 10, 'spender_type'] = 'High spender'"
   ],
   "metadata": {
    "collapsed": false,
    "pycharm": {
     "name": "#%%\n"
    }
   }
  },
  {
   "cell_type": "code",
   "execution_count": 11,
   "outputs": [
    {
     "data": {
      "text/plain": "   Unnamed: 0.1  Unnamed: 0_x  order_id  user_id eval_set  order_number  \\\n0             0             0   2539329        1    prior             1   \n1             1             1   2398795        1    prior             2   \n2             2             2    473747        1    prior             3   \n3             3             3   2254736        1    prior             4   \n4             4             4    431534        1    prior             5   \n\n   order_dow  order_hour_of_day  days_since_prior_order  product_id  ...  \\\n0          2                  8                     0.0         196  ...   \n1          3                  7                    15.0         196  ...   \n2          3                 12                    21.0         196  ...   \n3          4                  7                    29.0         196  ...   \n4          4                 15                    28.0         196  ...   \n\n   product_name  aisle_id  department_id prices  _merge  max_order  \\\n0          Soda        77              7    9.0    both         10   \n1          Soda        77              7    9.0    both         10   \n2          Soda        77              7    9.0    both         10   \n3          Soda        77              7    9.0    both         10   \n4          Soda        77              7    9.0    both         10   \n\n   loyalty_flag hey_big_spender  average_price_user spender_type  \n0  New customer        13.29467            6.367797  Low spender  \n1  New customer        13.29467            6.367797  Low spender  \n2  New customer        13.29467            6.367797  Low spender  \n3  New customer        13.29467            6.367797  Low spender  \n4  New customer        13.29467            6.367797  Low spender  \n\n[5 rows x 23 columns]",
      "text/html": "<div>\n<style scoped>\n    .dataframe tbody tr th:only-of-type {\n        vertical-align: middle;\n    }\n\n    .dataframe tbody tr th {\n        vertical-align: top;\n    }\n\n    .dataframe thead th {\n        text-align: right;\n    }\n</style>\n<table border=\"1\" class=\"dataframe\">\n  <thead>\n    <tr style=\"text-align: right;\">\n      <th></th>\n      <th>Unnamed: 0.1</th>\n      <th>Unnamed: 0_x</th>\n      <th>order_id</th>\n      <th>user_id</th>\n      <th>eval_set</th>\n      <th>order_number</th>\n      <th>order_dow</th>\n      <th>order_hour_of_day</th>\n      <th>days_since_prior_order</th>\n      <th>product_id</th>\n      <th>...</th>\n      <th>product_name</th>\n      <th>aisle_id</th>\n      <th>department_id</th>\n      <th>prices</th>\n      <th>_merge</th>\n      <th>max_order</th>\n      <th>loyalty_flag</th>\n      <th>hey_big_spender</th>\n      <th>average_price_user</th>\n      <th>spender_type</th>\n    </tr>\n  </thead>\n  <tbody>\n    <tr>\n      <th>0</th>\n      <td>0</td>\n      <td>0</td>\n      <td>2539329</td>\n      <td>1</td>\n      <td>prior</td>\n      <td>1</td>\n      <td>2</td>\n      <td>8</td>\n      <td>0.0</td>\n      <td>196</td>\n      <td>...</td>\n      <td>Soda</td>\n      <td>77</td>\n      <td>7</td>\n      <td>9.0</td>\n      <td>both</td>\n      <td>10</td>\n      <td>New customer</td>\n      <td>13.29467</td>\n      <td>6.367797</td>\n      <td>Low spender</td>\n    </tr>\n    <tr>\n      <th>1</th>\n      <td>1</td>\n      <td>1</td>\n      <td>2398795</td>\n      <td>1</td>\n      <td>prior</td>\n      <td>2</td>\n      <td>3</td>\n      <td>7</td>\n      <td>15.0</td>\n      <td>196</td>\n      <td>...</td>\n      <td>Soda</td>\n      <td>77</td>\n      <td>7</td>\n      <td>9.0</td>\n      <td>both</td>\n      <td>10</td>\n      <td>New customer</td>\n      <td>13.29467</td>\n      <td>6.367797</td>\n      <td>Low spender</td>\n    </tr>\n    <tr>\n      <th>2</th>\n      <td>2</td>\n      <td>2</td>\n      <td>473747</td>\n      <td>1</td>\n      <td>prior</td>\n      <td>3</td>\n      <td>3</td>\n      <td>12</td>\n      <td>21.0</td>\n      <td>196</td>\n      <td>...</td>\n      <td>Soda</td>\n      <td>77</td>\n      <td>7</td>\n      <td>9.0</td>\n      <td>both</td>\n      <td>10</td>\n      <td>New customer</td>\n      <td>13.29467</td>\n      <td>6.367797</td>\n      <td>Low spender</td>\n    </tr>\n    <tr>\n      <th>3</th>\n      <td>3</td>\n      <td>3</td>\n      <td>2254736</td>\n      <td>1</td>\n      <td>prior</td>\n      <td>4</td>\n      <td>4</td>\n      <td>7</td>\n      <td>29.0</td>\n      <td>196</td>\n      <td>...</td>\n      <td>Soda</td>\n      <td>77</td>\n      <td>7</td>\n      <td>9.0</td>\n      <td>both</td>\n      <td>10</td>\n      <td>New customer</td>\n      <td>13.29467</td>\n      <td>6.367797</td>\n      <td>Low spender</td>\n    </tr>\n    <tr>\n      <th>4</th>\n      <td>4</td>\n      <td>4</td>\n      <td>431534</td>\n      <td>1</td>\n      <td>prior</td>\n      <td>5</td>\n      <td>4</td>\n      <td>15</td>\n      <td>28.0</td>\n      <td>196</td>\n      <td>...</td>\n      <td>Soda</td>\n      <td>77</td>\n      <td>7</td>\n      <td>9.0</td>\n      <td>both</td>\n      <td>10</td>\n      <td>New customer</td>\n      <td>13.29467</td>\n      <td>6.367797</td>\n      <td>Low spender</td>\n    </tr>\n  </tbody>\n</table>\n<p>5 rows × 23 columns</p>\n</div>"
     },
     "execution_count": 11,
     "metadata": {},
     "output_type": "execute_result"
    }
   ],
   "source": [
    "df_ords_merged.head()"
   ],
   "metadata": {
    "collapsed": false,
    "pycharm": {
     "name": "#%%\n"
    }
   }
  },
  {
   "cell_type": "code",
   "execution_count": 12,
   "outputs": [
    {
     "data": {
      "text/plain": "Low spender     31770614\nHigh spender      634245\nName: spender_type, dtype: int64"
     },
     "execution_count": 12,
     "metadata": {},
     "output_type": "execute_result"
    }
   ],
   "source": [
    "#count the number of low spenders and high spenders\n",
    "df_ords_merged['spender_type'].value_counts(dropna = False)"
   ],
   "metadata": {
    "collapsed": false,
    "pycharm": {
     "name": "#%%\n"
    }
   }
  },
  {
   "cell_type": "code",
   "execution_count": 13,
   "outputs": [
    {
     "data": {
      "text/plain": "Frequent customer        22796659\nRegular customer          6921472\nNon-frequent customer     2686728\nName: customer_frequency, dtype: int64"
     },
     "execution_count": 13,
     "metadata": {},
     "output_type": "execute_result"
    }
   ],
   "source": [
    "#derive median customer frequency\n",
    "df_ords_merged['median_frequency_visit'] = df_ords_merged.groupby(['user_id'])['days_since_prior_order'].transform(np.median)\n",
    "df_ords_merged.loc[df_ords_merged['median_frequency_visit'] >20, 'customer_frequency'] = 'Non-frequent customer'\n",
    "df_ords_merged.loc[(df_ords_merged['median_frequency_visit'] >10) & (df_ords_merged['median_frequency_visit'] <=20), 'customer_frequency'] = 'Regular customer'\n",
    "df_ords_merged.loc[df_ords_merged['median_frequency_visit'] <=10, 'customer_frequency'] = 'Frequent customer'\n",
    "df_ords_merged['customer_frequency'].value_counts(dropna=False)"
   ],
   "metadata": {
    "collapsed": false,
    "pycharm": {
     "name": "#%%\n"
    }
   }
  },
  {
   "cell_type": "code",
   "execution_count": 14,
   "outputs": [],
   "source": [
    "#Export data to pkl\n",
    "df_ords_merged.to_pickle(os.path.join(path2, 'orders_products_combined.pkl'))"
   ],
   "metadata": {
    "collapsed": false,
    "pycharm": {
     "name": "#%%\n"
    }
   }
  },
  {
   "cell_type": "markdown",
   "source": [
    "And that's all she wrote. See you soon!"
   ],
   "metadata": {
    "collapsed": false,
    "pycharm": {
     "name": "#%% md\n"
    }
   }
  }
 ],
 "metadata": {
  "kernelspec": {
   "display_name": "Python 3",
   "language": "python",
   "name": "python3"
  },
  "language_info": {
   "codemirror_mode": {
    "name": "ipython",
    "version": 2
   },
   "file_extension": ".py",
   "mimetype": "text/x-python",
   "name": "python",
   "nbconvert_exporter": "python",
   "pygments_lexer": "ipython2",
   "version": "2.7.6"
  }
 },
 "nbformat": 4,
 "nbformat_minor": 0
}